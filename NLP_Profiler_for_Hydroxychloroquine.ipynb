{
  "nbformat": 4,
  "nbformat_minor": 0,
  "metadata": {
    "colab": {
      "name": "NLP Profiler for Hydroxychloroquine.ipynb",
      "provenance": [],
      "collapsed_sections": [],
      "include_colab_link": true
    },
    "kernelspec": {
      "name": "python3",
      "display_name": "Python 3"
    },
    "accelerator": "TPU"
  },
  "cells": [
    {
      "cell_type": "markdown",
      "metadata": {
        "id": "view-in-github",
        "colab_type": "text"
      },
      "source": [
        "<a href=\"https://colab.research.google.com/github/mindyng/Covid19/blob/master/NLP_Profiler_for_Hydroxychloroquine.ipynb\" target=\"_parent\"><img src=\"https://colab.research.google.com/assets/colab-badge.svg\" alt=\"Open In Colab\"/></a>"
      ]
    },
    {
      "cell_type": "code",
      "metadata": {
        "id": "H_wF3BZYXAjz",
        "colab_type": "code",
        "colab": {
          "base_uri": "https://localhost:8080/",
          "height": 187
        },
        "outputId": "059399f3-c6ae-4619-dc3b-bd0e6c4514c9"
      },
      "source": [
        "!pip install -U emoji"
      ],
      "execution_count": 1,
      "outputs": [
        {
          "output_type": "stream",
          "text": [
            "Collecting emoji\n",
            "\u001b[?25l  Downloading https://files.pythonhosted.org/packages/40/8d/521be7f0091fe0f2ae690cc044faf43e3445e0ff33c574eae752dd7e39fa/emoji-0.5.4.tar.gz (43kB)\n",
            "\r\u001b[K     |███████▌                        | 10kB 17.8MB/s eta 0:00:01\r\u001b[K     |███████████████                 | 20kB 2.1MB/s eta 0:00:01\r\u001b[K     |██████████████████████▋         | 30kB 2.7MB/s eta 0:00:01\r\u001b[K     |██████████████████████████████▏ | 40kB 3.1MB/s eta 0:00:01\r\u001b[K     |████████████████████████████████| 51kB 1.9MB/s \n",
            "\u001b[?25hBuilding wheels for collected packages: emoji\n",
            "  Building wheel for emoji (setup.py) ... \u001b[?25l\u001b[?25hdone\n",
            "  Created wheel for emoji: filename=emoji-0.5.4-cp36-none-any.whl size=42176 sha256=07f91a6c7ea116047156255fe9a4bd4475f7557e039693db24295c0ae49d508c\n",
            "  Stored in directory: /root/.cache/pip/wheels/2a/a9/0a/4f8e8cce8074232aba240caca3fade315bb49fac68808d1a9c\n",
            "Successfully built emoji\n",
            "Installing collected packages: emoji\n",
            "Successfully installed emoji-0.5.4\n"
          ],
          "name": "stdout"
        }
      ]
    },
    {
      "cell_type": "code",
      "metadata": {
        "id": "r62PjlmHXlbO",
        "colab_type": "code",
        "colab": {
          "base_uri": "https://localhost:8080/",
          "height": 306
        },
        "outputId": "4d0c72e6-8149-4498-d025-022506a289c8"
      },
      "source": [
        "!pip install -U nltk"
      ],
      "execution_count": 2,
      "outputs": [
        {
          "output_type": "stream",
          "text": [
            "Collecting nltk\n",
            "\u001b[?25l  Downloading https://files.pythonhosted.org/packages/92/75/ce35194d8e3022203cca0d2f896dbb88689f9b3fce8e9f9cff942913519d/nltk-3.5.zip (1.4MB)\n",
            "\u001b[K     |████████████████████████████████| 1.4MB 3.4MB/s \n",
            "\u001b[?25hRequirement already satisfied, skipping upgrade: click in /usr/local/lib/python3.6/dist-packages (from nltk) (7.1.2)\n",
            "Requirement already satisfied, skipping upgrade: joblib in /usr/local/lib/python3.6/dist-packages (from nltk) (0.15.1)\n",
            "Requirement already satisfied, skipping upgrade: regex in /usr/local/lib/python3.6/dist-packages (from nltk) (2019.12.20)\n",
            "Requirement already satisfied, skipping upgrade: tqdm in /usr/local/lib/python3.6/dist-packages (from nltk) (4.41.1)\n",
            "Building wheels for collected packages: nltk\n",
            "  Building wheel for nltk (setup.py) ... \u001b[?25l\u001b[?25hdone\n",
            "  Created wheel for nltk: filename=nltk-3.5-cp36-none-any.whl size=1434673 sha256=8ec4a63aa0267a2141267ca878cbee89962d0a174a926873cd27b9d88ddc9804\n",
            "  Stored in directory: /root/.cache/pip/wheels/ae/8c/3f/b1fe0ba04555b08b57ab52ab7f86023639a526d8bc8d384306\n",
            "Successfully built nltk\n",
            "Installing collected packages: nltk\n",
            "  Found existing installation: nltk 3.2.5\n",
            "    Uninstalling nltk-3.2.5:\n",
            "      Successfully uninstalled nltk-3.2.5\n",
            "Successfully installed nltk-3.5\n"
          ],
          "name": "stdout"
        }
      ]
    },
    {
      "cell_type": "code",
      "metadata": {
        "id": "zchH9BoVXrH3",
        "colab_type": "code",
        "colab": {
          "base_uri": "https://localhost:8080/",
          "height": 119
        },
        "outputId": "d71fabcf-939c-4875-babf-d95f186e8892"
      },
      "source": [
        "!pip install -U textblob"
      ],
      "execution_count": 3,
      "outputs": [
        {
          "output_type": "stream",
          "text": [
            "Requirement already up-to-date: textblob in /usr/local/lib/python3.6/dist-packages (0.15.3)\n",
            "Requirement already satisfied, skipping upgrade: nltk>=3.1 in /usr/local/lib/python3.6/dist-packages (from textblob) (3.5)\n",
            "Requirement already satisfied, skipping upgrade: regex in /usr/local/lib/python3.6/dist-packages (from nltk>=3.1->textblob) (2019.12.20)\n",
            "Requirement already satisfied, skipping upgrade: click in /usr/local/lib/python3.6/dist-packages (from nltk>=3.1->textblob) (7.1.2)\n",
            "Requirement already satisfied, skipping upgrade: tqdm in /usr/local/lib/python3.6/dist-packages (from nltk>=3.1->textblob) (4.41.1)\n",
            "Requirement already satisfied, skipping upgrade: joblib in /usr/local/lib/python3.6/dist-packages (from nltk>=3.1->textblob) (0.15.1)\n"
          ],
          "name": "stdout"
        }
      ]
    },
    {
      "cell_type": "code",
      "metadata": {
        "id": "4IBYIvKLXwJE",
        "colab_type": "code",
        "colab": {
          "base_uri": "https://localhost:8080/",
          "height": 102
        },
        "outputId": "415a06b2-e64a-4dfe-b872-14fe00bb60f7"
      },
      "source": [
        "%%time\n",
        "%%bash\n",
        "\n",
        "if [[ -e ../../library/org/neomatrix369 ]]; then\n",
        "  echo \"Library source found\"\n",
        "  \n",
        "  cd ../../build\n",
        "else\n",
        "  if [[ -e awesome-ai-ml-dl/examples/better-nlp/library ]]; then\n",
        "     echo \"Library source found\"\n",
        "  else\n",
        "     git clone \"https://github.com/neomatrix369/awesome-ai-ml-dl\" || true\n",
        "  fi\n",
        "\n",
        "  echo \"Library source exists\"\n",
        "  cd awesome-ai-ml-dl/examples/better-nlp/\n",
        "fi\n",
        "pwd"
      ],
      "execution_count": 4,
      "outputs": [
        {
          "output_type": "stream",
          "text": [
            "Library source exists\n",
            "/content/awesome-ai-ml-dl/examples/better-nlp\n"
          ],
          "name": "stdout"
        },
        {
          "output_type": "stream",
          "text": [
            "Cloning into 'awesome-ai-ml-dl'...\n"
          ],
          "name": "stderr"
        },
        {
          "output_type": "stream",
          "text": [
            "CPU times: user 1.46 ms, sys: 5.68 ms, total: 7.14 ms\n",
            "Wall time: 5.21 s\n"
          ],
          "name": "stdout"
        }
      ]
    },
    {
      "cell_type": "code",
      "metadata": {
        "id": "kcb5aH72os9A",
        "colab_type": "code",
        "colab": {
          "base_uri": "https://localhost:8080/",
          "height": 85
        },
        "outputId": "9c7b935e-0e2f-4c50-e17a-7ac7804a1373"
      },
      "source": [
        "import sys\n",
        "import os\n",
        "\n",
        "sys.path.insert(0, '../../library') # we need this when running inside the Docker container\n",
        "sys.path.insert(0, 'awesome-ai-ml-dl/examples/better-nlp/library') # we need this when running in Google Colab like environments\n",
        "\n",
        "from org.neomatrix369.nlp_profiler import apply_text_profiling\n",
        "\n",
        "import pandas as pd"
      ],
      "execution_count": 5,
      "outputs": [
        {
          "output_type": "stream",
          "text": [
            "[nltk_data] Downloading package stopwords to /root/nltk_data...\n",
            "[nltk_data]   Unzipping corpora/stopwords.zip.\n",
            "[nltk_data] Downloading package punkt to /root/nltk_data...\n",
            "[nltk_data]   Unzipping tokenizers/punkt.zip.\n"
          ],
          "name": "stderr"
        }
      ]
    },
    {
      "cell_type": "markdown",
      "metadata": {
        "id": "tMwYslCHd0Ls",
        "colab_type": "text"
      },
      "source": [
        "Various text messages with different content."
      ]
    },
    {
      "cell_type": "code",
      "metadata": {
        "id": "ctBsnjHxplzu",
        "colab_type": "code",
        "colab": {}
      },
      "source": [
        "text_with_emojis = \"🇧🇷 Brazilian hospital system Prevent Senior tackles COVID with the Raoult HCQ+AZI protocol with resounding success 😁\"\n",
        "text_with_a_number = \"BREAKING:  Treatment with Hydroxychloroquine Cut Death Rate Significantly  in COVID-19 Patients, Henry Ford Health System Study Shows.\"\n",
        "text_with_two_numbers = \"A new retrospective study (n=360,000) shows that use of hydroxychloroquine reduces the chance of getting Covid-19 by about 50%.\"\n",
        "text_with_punctuations = \"Ivermectin Study shows 100% of 60 Patients Better in an Average of Just Under 6 Days. HCQ+AZ also shown effective...\"\n",
        "text_with_a_date = \"06/30/20-In Brazil, rather than shut down the economy, they made hydroxychloroquine available for early treatment. The media predicted DOOM. It did not happen and it is not going to happen. This is a flat curve.\"\n",
        "text_with_dates = \"Tweeted on 06/15/20 and retweeted on 06/26/20: Published studies & case-controlled trials show #Hydroxychloroquine has strong efficacy in early #COVID19. We have ability to save lives. It’s time for Canadians to DEMAND @JustinTrudeau @fordnation govts release 7M+ doses of stockpiled #HCQ & allow MDs to do our job without fear twitter.com/OnCall4ON/stat….\"\n",
        "text_with_duplicates = \"NEW Research—No evidence of benefit for #chloroquine and #hydroxychloroquine in #COVID19 patients, urgent randomised trials are needed: finding from a large observational study of nearly 15,000 patients with #COVID19 & 81,000 controls\""
      ],
      "execution_count": 23,
      "outputs": []
    },
    {
      "cell_type": "code",
      "metadata": {
        "id": "HpOqQGgreUh2",
        "colab_type": "code",
        "colab": {
          "base_uri": "https://localhost:8080/",
          "height": 266
        },
        "outputId": "7267b26b-28b9-4aa9-fbcf-33fcee2e9f59"
      },
      "source": [
        "data = [text_with_emojis, text_with_a_number, text_with_two_numbers, \n",
        "        text_with_punctuations, text_with_a_date, text_with_dates, text_with_duplicates]\n",
        "text_dataframe = pd.DataFrame(data, columns=['text'])\n",
        "text_dataframe"
      ],
      "execution_count": 24,
      "outputs": [
        {
          "output_type": "execute_result",
          "data": {
            "text/html": [
              "<div>\n",
              "<style scoped>\n",
              "    .dataframe tbody tr th:only-of-type {\n",
              "        vertical-align: middle;\n",
              "    }\n",
              "\n",
              "    .dataframe tbody tr th {\n",
              "        vertical-align: top;\n",
              "    }\n",
              "\n",
              "    .dataframe thead th {\n",
              "        text-align: right;\n",
              "    }\n",
              "</style>\n",
              "<table border=\"1\" class=\"dataframe\">\n",
              "  <thead>\n",
              "    <tr style=\"text-align: right;\">\n",
              "      <th></th>\n",
              "      <th>text</th>\n",
              "    </tr>\n",
              "  </thead>\n",
              "  <tbody>\n",
              "    <tr>\n",
              "      <th>0</th>\n",
              "      <td>🇧🇷 Brazilian hospital system Prevent Senior ta...</td>\n",
              "    </tr>\n",
              "    <tr>\n",
              "      <th>1</th>\n",
              "      <td>BREAKING:  Treatment with Hydroxychloroquine C...</td>\n",
              "    </tr>\n",
              "    <tr>\n",
              "      <th>2</th>\n",
              "      <td>A new retrospective study (n=360,000) shows th...</td>\n",
              "    </tr>\n",
              "    <tr>\n",
              "      <th>3</th>\n",
              "      <td>Ivermectin Study shows 100% of 60 Patients Bet...</td>\n",
              "    </tr>\n",
              "    <tr>\n",
              "      <th>4</th>\n",
              "      <td>06/30/20-In Brazil, rather than shut down the ...</td>\n",
              "    </tr>\n",
              "    <tr>\n",
              "      <th>5</th>\n",
              "      <td>Tweeted on 06/15/20 and retweeted on 06/26/20:...</td>\n",
              "    </tr>\n",
              "    <tr>\n",
              "      <th>6</th>\n",
              "      <td>NEW Research—No evidence of benefit for #chlor...</td>\n",
              "    </tr>\n",
              "  </tbody>\n",
              "</table>\n",
              "</div>"
            ],
            "text/plain": [
              "                                                text\n",
              "0  🇧🇷 Brazilian hospital system Prevent Senior ta...\n",
              "1  BREAKING:  Treatment with Hydroxychloroquine C...\n",
              "2  A new retrospective study (n=360,000) shows th...\n",
              "3  Ivermectin Study shows 100% of 60 Patients Bet...\n",
              "4  06/30/20-In Brazil, rather than shut down the ...\n",
              "5  Tweeted on 06/15/20 and retweeted on 06/26/20:...\n",
              "6  NEW Research—No evidence of benefit for #chlor..."
            ]
          },
          "metadata": {
            "tags": []
          },
          "execution_count": 24
        }
      ]
    },
    {
      "cell_type": "markdown",
      "metadata": {
        "id": "OW-KcI8NedmX",
        "colab_type": "text"
      },
      "source": [
        "Pandas' familiar describe() function."
      ]
    },
    {
      "cell_type": "code",
      "metadata": {
        "id": "kexLGRlVeagY",
        "colab_type": "code",
        "colab": {
          "base_uri": "https://localhost:8080/",
          "height": 173
        },
        "outputId": "d8547f32-5c12-4ede-afbf-953fe9990699"
      },
      "source": [
        "text_dataframe.describe()"
      ],
      "execution_count": 25,
      "outputs": [
        {
          "output_type": "execute_result",
          "data": {
            "text/html": [
              "<div>\n",
              "<style scoped>\n",
              "    .dataframe tbody tr th:only-of-type {\n",
              "        vertical-align: middle;\n",
              "    }\n",
              "\n",
              "    .dataframe tbody tr th {\n",
              "        vertical-align: top;\n",
              "    }\n",
              "\n",
              "    .dataframe thead th {\n",
              "        text-align: right;\n",
              "    }\n",
              "</style>\n",
              "<table border=\"1\" class=\"dataframe\">\n",
              "  <thead>\n",
              "    <tr style=\"text-align: right;\">\n",
              "      <th></th>\n",
              "      <th>text</th>\n",
              "    </tr>\n",
              "  </thead>\n",
              "  <tbody>\n",
              "    <tr>\n",
              "      <th>count</th>\n",
              "      <td>7</td>\n",
              "    </tr>\n",
              "    <tr>\n",
              "      <th>unique</th>\n",
              "      <td>7</td>\n",
              "    </tr>\n",
              "    <tr>\n",
              "      <th>top</th>\n",
              "      <td>Ivermectin Study shows 100% of 60 Patients Bet...</td>\n",
              "    </tr>\n",
              "    <tr>\n",
              "      <th>freq</th>\n",
              "      <td>1</td>\n",
              "    </tr>\n",
              "  </tbody>\n",
              "</table>\n",
              "</div>"
            ],
            "text/plain": [
              "                                                     text\n",
              "count                                                   7\n",
              "unique                                                  7\n",
              "top     Ivermectin Study shows 100% of 60 Patients Bet...\n",
              "freq                                                    1"
            ]
          },
          "metadata": {
            "tags": []
          },
          "execution_count": 25
        }
      ]
    },
    {
      "cell_type": "markdown",
      "metadata": {
        "id": "n9C9gbqIexuB",
        "colab_type": "text"
      },
      "source": [
        "The usual output for describe() are descriptive stat's: count, unique, top, freq, mean, std dev."
      ]
    },
    {
      "cell_type": "markdown",
      "metadata": {
        "id": "22dSNVk9fEeW",
        "colab_type": "text"
      },
      "source": [
        "Here we do something similar with text with NLP profiler."
      ]
    },
    {
      "cell_type": "code",
      "metadata": {
        "id": "9Y1VnzcjejbE",
        "colab_type": "code",
        "colab": {
          "base_uri": "https://localhost:8080/",
          "height": 558
        },
        "outputId": "70d6e6b0-f5f7-42e9-9447-04885071e0e4"
      },
      "source": [
        "profiled_text_dataframe = apply_text_profiling(text_dataframe, 'text')\n",
        "profiled_text_dataframe"
      ],
      "execution_count": 26,
      "outputs": [
        {
          "output_type": "execute_result",
          "data": {
            "text/html": [
              "<div>\n",
              "<style scoped>\n",
              "    .dataframe tbody tr th:only-of-type {\n",
              "        vertical-align: middle;\n",
              "    }\n",
              "\n",
              "    .dataframe tbody tr th {\n",
              "        vertical-align: top;\n",
              "    }\n",
              "\n",
              "    .dataframe thead th {\n",
              "        text-align: right;\n",
              "    }\n",
              "</style>\n",
              "<table border=\"1\" class=\"dataframe\">\n",
              "  <thead>\n",
              "    <tr style=\"text-align: right;\">\n",
              "      <th></th>\n",
              "      <th>text</th>\n",
              "      <th>sentiment_polarity_score</th>\n",
              "      <th>sentiment_polarity</th>\n",
              "      <th>sentiment_subjectivity_score</th>\n",
              "      <th>sentiment_subjectivity</th>\n",
              "      <th>spellcheck_score</th>\n",
              "      <th>spelling_quality</th>\n",
              "      <th>sentences_count</th>\n",
              "      <th>characters_count</th>\n",
              "      <th>spaces_count</th>\n",
              "      <th>words_count</th>\n",
              "      <th>duplicates_count</th>\n",
              "      <th>chars_excl_spaces_count</th>\n",
              "      <th>emoji_count</th>\n",
              "      <th>whole_numbers_count</th>\n",
              "      <th>alpha_numeric_count</th>\n",
              "      <th>non_alpha_numeric_count</th>\n",
              "      <th>punctuations_count</th>\n",
              "      <th>stop_words_count</th>\n",
              "      <th>dates_count</th>\n",
              "    </tr>\n",
              "  </thead>\n",
              "  <tbody>\n",
              "    <tr>\n",
              "      <th>0</th>\n",
              "      <td>🇧🇷 Brazilian hospital system Prevent Senior ta...</td>\n",
              "      <td>0.300000</td>\n",
              "      <td>Positive</td>\n",
              "      <td>0.000000</td>\n",
              "      <td>Very objective</td>\n",
              "      <td>0.742248</td>\n",
              "      <td>Pretty good</td>\n",
              "      <td>1</td>\n",
              "      <td>116</td>\n",
              "      <td>16</td>\n",
              "      <td>16</td>\n",
              "      <td>1</td>\n",
              "      <td>100</td>\n",
              "      <td>2</td>\n",
              "      <td>0</td>\n",
              "      <td>96</td>\n",
              "      <td>20</td>\n",
              "      <td>1</td>\n",
              "      <td>3</td>\n",
              "      <td>0</td>\n",
              "    </tr>\n",
              "    <tr>\n",
              "      <th>1</th>\n",
              "      <td>BREAKING:  Treatment with Hydroxychloroquine C...</td>\n",
              "      <td>0.375000</td>\n",
              "      <td>Positive</td>\n",
              "      <td>0.875000</td>\n",
              "      <td>Quite subjective</td>\n",
              "      <td>0.761167</td>\n",
              "      <td>Pretty good</td>\n",
              "      <td>2</td>\n",
              "      <td>134</td>\n",
              "      <td>18</td>\n",
              "      <td>17</td>\n",
              "      <td>0</td>\n",
              "      <td>116</td>\n",
              "      <td>0</td>\n",
              "      <td>1</td>\n",
              "      <td>112</td>\n",
              "      <td>22</td>\n",
              "      <td>4</td>\n",
              "      <td>2</td>\n",
              "      <td>0</td>\n",
              "    </tr>\n",
              "    <tr>\n",
              "      <th>2</th>\n",
              "      <td>A new retrospective study (n=360,000) shows th...</td>\n",
              "      <td>0.136364</td>\n",
              "      <td>Positive</td>\n",
              "      <td>0.454545</td>\n",
              "      <td>Objective/subjective</td>\n",
              "      <td>0.858696</td>\n",
              "      <td>Pretty good</td>\n",
              "      <td>2</td>\n",
              "      <td>127</td>\n",
              "      <td>18</td>\n",
              "      <td>18</td>\n",
              "      <td>1</td>\n",
              "      <td>109</td>\n",
              "      <td>0</td>\n",
              "      <td>4</td>\n",
              "      <td>102</td>\n",
              "      <td>25</td>\n",
              "      <td>7</td>\n",
              "      <td>6</td>\n",
              "      <td>0</td>\n",
              "    </tr>\n",
              "    <tr>\n",
              "      <th>3</th>\n",
              "      <td>Ivermectin Study shows 100% of 60 Patients Bet...</td>\n",
              "      <td>0.316667</td>\n",
              "      <td>Positive</td>\n",
              "      <td>0.566667</td>\n",
              "      <td>Objective/subjective</td>\n",
              "      <td>0.811406</td>\n",
              "      <td>Pretty good</td>\n",
              "      <td>4</td>\n",
              "      <td>116</td>\n",
              "      <td>19</td>\n",
              "      <td>18</td>\n",
              "      <td>1</td>\n",
              "      <td>97</td>\n",
              "      <td>0</td>\n",
              "      <td>3</td>\n",
              "      <td>91</td>\n",
              "      <td>25</td>\n",
              "      <td>6</td>\n",
              "      <td>4</td>\n",
              "      <td>0</td>\n",
              "    </tr>\n",
              "    <tr>\n",
              "      <th>4</th>\n",
              "      <td>06/30/20-In Brazil, rather than shut down the ...</td>\n",
              "      <td>0.079861</td>\n",
              "      <td>Positive</td>\n",
              "      <td>0.278472</td>\n",
              "      <td>Pretty objective</td>\n",
              "      <td>0.905010</td>\n",
              "      <td>Quite good</td>\n",
              "      <td>5</td>\n",
              "      <td>211</td>\n",
              "      <td>34</td>\n",
              "      <td>35</td>\n",
              "      <td>7</td>\n",
              "      <td>177</td>\n",
              "      <td>0</td>\n",
              "      <td>3</td>\n",
              "      <td>168</td>\n",
              "      <td>43</td>\n",
              "      <td>9</td>\n",
              "      <td>14</td>\n",
              "      <td>0</td>\n",
              "    </tr>\n",
              "    <tr>\n",
              "      <th>5</th>\n",
              "      <td>Tweeted on 06/15/20 and retweeted on 06/26/20:...</td>\n",
              "      <td>0.266667</td>\n",
              "      <td>Positive</td>\n",
              "      <td>0.516667</td>\n",
              "      <td>Objective/subjective</td>\n",
              "      <td>0.788777</td>\n",
              "      <td>Pretty good</td>\n",
              "      <td>5</td>\n",
              "      <td>356</td>\n",
              "      <td>50</td>\n",
              "      <td>49</td>\n",
              "      <td>6</td>\n",
              "      <td>306</td>\n",
              "      <td>0</td>\n",
              "      <td>9</td>\n",
              "      <td>284</td>\n",
              "      <td>72</td>\n",
              "      <td>20</td>\n",
              "      <td>14</td>\n",
              "      <td>0</td>\n",
              "    </tr>\n",
              "    <tr>\n",
              "      <th>6</th>\n",
              "      <td>NEW Research—No evidence of benefit for #chlor...</td>\n",
              "      <td>0.150216</td>\n",
              "      <td>Positive</td>\n",
              "      <td>0.427706</td>\n",
              "      <td>Objective/subjective</td>\n",
              "      <td>0.756579</td>\n",
              "      <td>Pretty good</td>\n",
              "      <td>1</td>\n",
              "      <td>234</td>\n",
              "      <td>31</td>\n",
              "      <td>28</td>\n",
              "      <td>4</td>\n",
              "      <td>203</td>\n",
              "      <td>0</td>\n",
              "      <td>6</td>\n",
              "      <td>193</td>\n",
              "      <td>41</td>\n",
              "      <td>9</td>\n",
              "      <td>9</td>\n",
              "      <td>0</td>\n",
              "    </tr>\n",
              "  </tbody>\n",
              "</table>\n",
              "</div>"
            ],
            "text/plain": [
              "                                                text  ...  dates_count\n",
              "0  🇧🇷 Brazilian hospital system Prevent Senior ta...  ...            0\n",
              "1  BREAKING:  Treatment with Hydroxychloroquine C...  ...            0\n",
              "2  A new retrospective study (n=360,000) shows th...  ...            0\n",
              "3  Ivermectin Study shows 100% of 60 Patients Bet...  ...            0\n",
              "4  06/30/20-In Brazil, rather than shut down the ...  ...            0\n",
              "5  Tweeted on 06/15/20 and retweeted on 06/26/20:...  ...            0\n",
              "6  NEW Research—No evidence of benefit for #chlor...  ...            0\n",
              "\n",
              "[7 rows x 20 columns]"
            ]
          },
          "metadata": {
            "tags": []
          },
          "execution_count": 26
        }
      ]
    },
    {
      "cell_type": "markdown",
      "metadata": {
        "id": "xgPo1oDzjzhc",
        "colab_type": "text"
      },
      "source": [
        "Looking closely at outputs for sentiment polarity and sentiment subjectivity score:\n",
        "\n",
        "Text with a date sentence has two negative words and sentiment polarity was still able to classify it correctly as positive. text_with_duplicates is classified as positive which would make sense given the issues the drug has caused. However, this is based on expert knowledge given the controversy it has caused worldwide espeically with retracted paper supporting hydroxychorloquine. Given text alone from above tweet, would expect tweet to be classified as benefit based on \"no benefit\" in sentence. \n",
        "\n",
        "\n",
        "sentiment subjectivity assignment is not very accurate since some objective statements are mixed with subjective classification and subjective classification given on a tweet based on research evidence, not opinion. So there could be more data fed into sentment subjectivity classifier to be more accurate."
      ]
    },
    {
      "cell_type": "markdown",
      "metadata": {
        "id": "_f4Tnqh8fi2g",
        "colab_type": "text"
      },
      "source": [
        "Sentiment Analysis"
      ]
    },
    {
      "cell_type": "code",
      "metadata": {
        "id": "S2i0ZPS6fM1E",
        "colab_type": "code",
        "colab": {
          "base_uri": "https://localhost:8080/",
          "height": 282
        },
        "outputId": "8846b652-ae1e-4da8-ee08-d89eb57a5095"
      },
      "source": [
        "profiled_text_dataframe['sentiment_polarity'].hist()"
      ],
      "execution_count": 27,
      "outputs": [
        {
          "output_type": "execute_result",
          "data": {
            "text/plain": [
              "<matplotlib.axes._subplots.AxesSubplot at 0x7feb4f943fd0>"
            ]
          },
          "metadata": {
            "tags": []
          },
          "execution_count": 27
        },
        {
          "output_type": "display_data",
          "data": {
            "image/png": "[encoded data removed]",
            "text/plain": [
              "<Figure size 432x288 with 1 Axes>"
            ]
          },
          "metadata": {
            "tags": [],
            "needs_background": "light"
          }
        }
      ]
    },
    {
      "cell_type": "code",
      "metadata": {
        "id": "sNqX4XC9fqZy",
        "colab_type": "code",
        "colab": {
          "base_uri": "https://localhost:8080/",
          "height": 282
        },
        "outputId": "c4aae95d-bce7-4f2f-8f72-727c6cd0ef35"
      },
      "source": [
        "profiled_text_dataframe['sentiment_subjectivity'].hist()"
      ],
      "execution_count": 28,
      "outputs": [
        {
          "output_type": "execute_result",
          "data": {
            "text/plain": [
              "<matplotlib.axes._subplots.AxesSubplot at 0x7feb4f8662e8>"
            ]
          },
          "metadata": {
            "tags": []
          },
          "execution_count": 28
        },
        {
          "output_type": "display_data",
          "data": {
            "image/png": "[encoded data removed]",
            "text/plain": [
              "<Figure size 432x288 with 1 Axes>"
            ]
          },
          "metadata": {
            "tags": [],
            "needs_background": "light"
          }
        }
      ]
    },
    {
      "cell_type": "markdown",
      "metadata": {
        "id": "gBCz3tnEf-lG",
        "colab_type": "text"
      },
      "source": [
        "Spelling quality check.\n",
        "\n",
        "The spelling score and spelling quality check is upto 70% accurate, it's using Peter Norvig’s “How to Write a Spelling Corrector\"."
      ]
    },
    {
      "cell_type": "code",
      "metadata": {
        "id": "aHYext6hf4I3",
        "colab_type": "code",
        "colab": {
          "base_uri": "https://localhost:8080/",
          "height": 282
        },
        "outputId": "d7262aa4-aca8-44e8-b60b-fc7eefa80b91"
      },
      "source": [
        "profiled_text_dataframe['spellcheck_score'].hist()"
      ],
      "execution_count": 29,
      "outputs": [
        {
          "output_type": "execute_result",
          "data": {
            "text/plain": [
              "<matplotlib.axes._subplots.AxesSubplot at 0x7feb4f9343c8>"
            ]
          },
          "metadata": {
            "tags": []
          },
          "execution_count": 29
        },
        {
          "output_type": "display_data",
          "data": {
            "image/png": "[encoded data removed]",
            "text/plain": [
              "<Figure size 432x288 with 1 Axes>"
            ]
          },
          "metadata": {
            "tags": [],
            "needs_background": "light"
          }
        }
      ]
    },
    {
      "cell_type": "code",
      "metadata": {
        "id": "nHvc2Yf6gKTP",
        "colab_type": "code",
        "colab": {
          "base_uri": "https://localhost:8080/",
          "height": 282
        },
        "outputId": "c2f8063a-4f08-4085-b1b7-fd1f619554f1"
      },
      "source": [
        "profiled_text_dataframe['spelling_quality'].hist()"
      ],
      "execution_count": 30,
      "outputs": [
        {
          "output_type": "execute_result",
          "data": {
            "text/plain": [
              "<matplotlib.axes._subplots.AxesSubplot at 0x7feb4f7d5d30>"
            ]
          },
          "metadata": {
            "tags": []
          },
          "execution_count": 30
        },
        {
          "output_type": "display_data",
          "data": {
            "image/png": "[encoded data removed]",
            "text/plain": [
              "<Figure size 432x288 with 1 Axes>"
            ]
          },
          "metadata": {
            "tags": [],
            "needs_background": "light"
          }
        }
      ]
    },
    {
      "cell_type": "markdown",
      "metadata": {
        "id": "uI-s0ECQgd-9",
        "colab_type": "text"
      },
      "source": [
        "\n",
        "Resources:\n",
        "\n",
        "https://www.kaggle.com/raenish/cheatsheet-text-helper-functions\n",
        "https://textblob.readthedocs.io/en/dev/quickstart.html"
      ]
    }
  ]
}