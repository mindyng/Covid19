{
 "cells": [
  {
   "cell_type": "markdown",
   "metadata": {},
   "source": [
    "Data is from: https://covidtracking.com/api"
   ]
  },
  {
   "cell_type": "code",
   "execution_count": 18,
   "metadata": {},
   "outputs": [
    {
     "data": {
      "text/html": [
       "        <script type=\"text/javascript\">\n",
       "        window.PlotlyConfig = {MathJaxConfig: 'local'};\n",
       "        if (window.MathJax) {MathJax.Hub.Config({SVG: {font: \"STIX-Web\"}});}\n",
       "        if (typeof require !== 'undefined') {\n",
       "        require.undef(\"plotly\");\n",
       "        requirejs.config({\n",
       "            paths: {\n",
       "                'plotly': ['https://cdn.plot.ly/plotly-latest.min']\n",
       "            }\n",
       "        });\n",
       "        require(['plotly'], function(Plotly) {\n",
       "            window._Plotly = Plotly;\n",
       "        });\n",
       "        }\n",
       "        </script>\n",
       "        "
      ]
     },
     "metadata": {},
     "output_type": "display_data"
    }
   ],
   "source": [
    "import pandas as pd\n",
    "import json\n",
    "from pandas.io.json import json_normalize\n",
    "\n",
    "import numpy as np \n",
    "\n",
    "py.init_notebook_mode(connected=True)\n",
    "import plotly.graph_objs as go\n",
    "import plotly.tools as tls\n",
    "import plotly.express as px\n",
    "\n",
    "pd.options.mode.chained_assignment = None\n",
    "pd.options.display.max_columns = 999"
   ]
  },
  {
   "cell_type": "markdown",
   "metadata": {},
   "source": [
    "# JSON as string"
   ]
  },
  {
   "cell_type": "markdown",
   "metadata": {},
   "source": [
    "**NOTE: Certain columns have been deprecated**\n",
    "\n",
    "\n",
    "Data Legend: \n",
    "\n",
    "    state - State or territory postal code abbreviation.\n",
    "    positive - Total cumulative positive test results.\n",
    "    positiveScore - +1 for reporting positives reliably.\n",
    "    negative - Total cumulative negative test results.\n",
    "    negativeScore - +1 for reporting negatives sometimes.\n",
    "    negativeRegularScore - +1 for reporting negatives reliably.\n",
    "    commercialScore - +1 for reporting all commercial tests.\n",
    "    score - Total reporting quality score.\n",
    "    grade - Letter grade based on score.\n",
    "    totalTestResults - Calculated value (positive + negative) of total test results.\n",
    "    hospitalized - Total cumulative number of people hospitalized.\n",
    "    death - Total cumulative number of people that have died.\n",
    "    dateModified - ISO 8601 date of the time the data was last updated by the state.\n",
    "    dateChecked - ISO 8601 date of the time we last visited their website\n",
    "    hash - A unique ID changed every time the data updates.\n",
    "    total - DEPRECATED Will be removed in the future. (positive + negative + pending). Pending has been an unstable value  and should not count in any totals."
   ]
  },
  {
   "cell_type": "code",
   "execution_count": 11,
   "metadata": {},
   "outputs": [],
   "source": [
    "null = None\n",
    "data = {'current' : [{\"state\":\"AK\",\"positive\":143,\"positiveScore\":1,\"negativeScore\":1,\"negativeRegularScore\":1,\"commercialScore\":1,\"grade\":\"A\",\"score\":4,\"negative\":4879,\"pending\":null,\"hospitalized\":9,\"death\":3,\"total\":5022,\"lastUpdateEt\":\"4/01 19:00\",\"checkTimeEt\":\"4/01 22:34\",\"totalTestResults\":5022,\"fips\":\"02\",\"dateModified\":\"2020-04-01T23:00:00Z\",\"dateChecked\":\"2020-04-02T02:34:00Z\",\"notes\":\"Please stop using the \\\"total\\\" field. Use \\\"totalTestResults\\\" instead.\",\"hash\":\"baf5608924f257e809bac324daffa0ecaa742f31\"},{\"state\":\"AL\",\"positive\":1106,\"positiveScore\":1,\"negativeScore\":1,\"negativeRegularScore\":0,\"commercialScore\":1,\"grade\":\"B\",\"score\":3,\"negative\":6697,\"pending\":null,\"hospitalized\":null,\"death\":28,\"total\":7803,\"lastUpdateEt\":\"4/01 00:00\",\"checkTimeEt\":\"4/01 22:35\",\"totalTestResults\":7803,\"fips\":\"01\",\"dateModified\":\"2020-04-01T04:00:00Z\",\"dateChecked\":\"2020-04-02T02:35:00Z\",\"notes\":\"Please stop using the \\\"total\\\" field. Use \\\"totalTestResults\\\" instead.\",\"hash\":\"6d740a9ac8fb7757ed2593bf40e9b5ee913a7a3f\"},{\"state\":\"AR\",\"positive\":624,\"positiveScore\":1,\"negativeScore\":1,\"negativeRegularScore\":1,\"commercialScore\":1,\"grade\":\"A\",\"score\":4,\"negative\":7836,\"pending\":null,\"hospitalized\":90,\"death\":10,\"total\":8460,\"lastUpdateEt\":\"4/01 20:20\",\"checkTimeEt\":\"4/01 23:56\",\"totalTestResults\":8460,\"fips\":\"05\",\"dateModified\":\"2020-04-02T00:20:00Z\",\"dateChecked\":\"2020-04-02T03:56:00Z\",\"notes\":\"Please stop using the \\\"total\\\" field. Use \\\"totalTestResults\\\" instead.\",\"hash\":\"4940adc9942f4364cf19d43f40617f2490edb726\"},{\"state\":\"AZ\",\"positive\":1413,\"positiveScore\":1,\"negativeScore\":1,\"negativeRegularScore\":0,\"commercialScore\":1,\"grade\":\"B\",\"score\":3,\"negative\":19645,\"pending\":null,\"hospitalized\":149,\"death\":29,\"total\":21058,\"lastUpdateEt\":\"4/01 00:00\",\"checkTimeEt\":\"4/01 22:16\",\"totalTestResults\":21058,\"fips\":\"04\",\"dateModified\":\"2020-04-01T04:00:00Z\",\"dateChecked\":\"2020-04-02T02:16:00Z\",\"notes\":\"Please stop using the \\\"total\\\" field. Use \\\"totalTestResults\\\" instead.\",\"hash\":\"01bf26424329f52ea5802c27962a5cb55327e76c\"},{\"state\":\"CA\",\"positive\":8155,\"positiveScore\":1,\"negativeScore\":1,\"negativeRegularScore\":1,\"commercialScore\":0,\"grade\":\"B\",\"score\":3,\"negative\":22883,\"pending\":59100,\"hospitalized\":1855,\"death\":171,\"total\":90138,\"lastUpdateEt\":\"4/01 00:00\",\"checkTimeEt\":\"4/01 22:34\",\"totalTestResults\":31038,\"fips\":\"06\",\"dateModified\":\"2020-04-01T04:00:00Z\",\"dateChecked\":\"2020-04-02T02:34:00Z\",\"notes\":\"Please stop using the \\\"total\\\" field. Use \\\"totalTestResults\\\" instead.\",\"hash\":\"53c7f26a928cbd6de1c4047a7cdff563904e3ade\"},{\"state\":\"CO\",\"positive\":3342,\"positiveScore\":1,\"negativeScore\":1,\"negativeRegularScore\":1,\"commercialScore\":1,\"grade\":\"A\",\"score\":4,\"negative\":15303,\"pending\":null,\"hospitalized\":620,\"death\":80,\"total\":18645,\"lastUpdateEt\":\"4/01 00:00\",\"checkTimeEt\":\"4/01 23:01\",\"totalTestResults\":18645,\"fips\":\"08\",\"dateModified\":\"2020-04-01T04:00:00Z\",\"dateChecked\":\"2020-04-02T03:01:00Z\",\"notes\":\"Please stop using the \\\"total\\\" field. Use \\\"totalTestResults\\\" instead.\",\"hash\":\"8b37d6b5fc58f18899ff5bd12a3d6fb301fa7d06\"},{\"state\":\"CT\",\"positive\":3557,\"positiveScore\":1,\"negativeScore\":1,\"negativeRegularScore\":1,\"commercialScore\":1,\"grade\":\"A\",\"score\":4,\"negative\":13043,\"pending\":null,\"hospitalized\":766,\"death\":85,\"total\":16600,\"lastUpdateEt\":\"4/01 13:30\",\"checkTimeEt\":\"4/01 16:36\",\"totalTestResults\":16600,\"fips\":\"09\",\"dateModified\":\"2020-04-01T17:30:00Z\",\"dateChecked\":\"2020-04-01T20:36:00Z\",\"notes\":\"Please stop using the \\\"total\\\" field. Use \\\"totalTestResults\\\" instead.\",\"hash\":\"1bd60bdace49ea475f54e5eb653ec703578e1b55\"},{\"state\":\"DC\",\"positive\":586,\"positiveScore\":1,\"negativeScore\":1,\"negativeRegularScore\":1,\"commercialScore\":1,\"grade\":\"A\",\"score\":4,\"negative\":3262,\"pending\":2,\"hospitalized\":null,\"death\":11,\"total\":3850,\"lastUpdateEt\":\"3/31 21:24\",\"checkTimeEt\":\"4/01 14:10\",\"totalTestResults\":3848,\"fips\":\"11\",\"dateModified\":\"2020-04-01T01:24:00Z\",\"dateChecked\":\"2020-04-01T18:10:00Z\",\"notes\":\"Please stop using the \\\"total\\\" field. Use \\\"totalTestResults\\\" instead.\",\"hash\":\"f663d280ce2780e18d56f1d93285028ea4eefd9b\"},{\"state\":\"DE\",\"positive\":368,\"positiveScore\":1,\"negativeScore\":1,\"negativeRegularScore\":1,\"commercialScore\":1,\"grade\":\"A\",\"score\":4,\"negative\":4015,\"pending\":null,\"hospitalized\":57,\"death\":11,\"total\":4383,\"lastUpdateEt\":\"4/01 12:30\",\"checkTimeEt\":\"4/01 16:21\",\"totalTestResults\":4383,\"fips\":\"10\",\"dateModified\":\"2020-04-01T16:30:00Z\",\"dateChecked\":\"2020-04-01T20:21:00Z\",\"notes\":\"Please stop using the \\\"total\\\" field. Use \\\"totalTestResults\\\" instead.\",\"hash\":\"1c8615bd94b1849477a8cb7c382cbf0e589ac2a3\"},{\"state\":\"FL\",\"positive\":7559,\"positiveScore\":1,\"negativeScore\":1,\"negativeRegularScore\":1,\"commercialScore\":1,\"grade\":\"A\",\"score\":4,\"negative\":60356,\"pending\":1329,\"hospitalized\":1043,\"death\":97,\"total\":69244,\"lastUpdateEt\":\"4/01 17:30\",\"checkTimeEt\":\"4/01 22:43\",\"totalTestResults\":67915,\"fips\":\"12\",\"dateModified\":\"2020-04-01T21:30:00Z\",\"dateChecked\":\"2020-04-02T02:43:00Z\",\"notes\":\"Please stop using the \\\"total\\\" field. Use \\\"totalTestResults\\\" instead.\",\"hash\":\"d5d70b781f03dccb6b98fefc81975323a8f79249\"},{\"state\":\"GA\",\"positive\":4748,\"positiveScore\":1,\"negativeScore\":1,\"negativeRegularScore\":1,\"commercialScore\":1,\"grade\":\"A\",\"score\":4,\"negative\":15690,\"pending\":null,\"hospitalized\":1013,\"death\":154,\"total\":20438,\"lastUpdateEt\":\"4/01 18:28\",\"checkTimeEt\":\"4/01 23:14\",\"totalTestResults\":20438,\"fips\":\"13\",\"dateModified\":\"2020-04-01T22:28:00Z\",\"dateChecked\":\"2020-04-02T03:14:00Z\",\"notes\":\"Please stop using the \\\"total\\\" field. Use \\\"totalTestResults\\\" instead.\",\"hash\":\"2ad812f025cb4866ea64f8cf584f6477bb375927\"},{\"state\":\"HI\",\"positive\":258,\"positiveScore\":1,\"negativeScore\":1,\"negativeRegularScore\":1,\"commercialScore\":1,\"grade\":\"A\",\"score\":4,\"negative\":10206,\"pending\":18,\"hospitalized\":15,\"death\":1,\"total\":10482,\"lastUpdateEt\":\"4/01 18:00\",\"checkTimeEt\":\"4/01 23:18\",\"totalTestResults\":10464,\"fips\":\"15\",\"dateModified\":\"2020-04-01T22:00:00Z\",\"dateChecked\":\"2020-04-02T03:18:00Z\",\"notes\":\"Please stop using the \\\"total\\\" field. Use \\\"totalTestResults\\\" instead.\",\"hash\":\"27ddc299539d39e2adcf8b0bc4e5e810f41f6cff\"},{\"state\":\"IA\",\"positive\":549,\"positiveScore\":1,\"negativeScore\":1,\"negativeRegularScore\":1,\"commercialScore\":1,\"grade\":\"A\",\"score\":4,\"negative\":7304,\"pending\":null,\"hospitalized\":99,\"death\":9,\"total\":7853,\"lastUpdateEt\":\"4/01 14:40\",\"checkTimeEt\":\"4/01 15:12\",\"totalTestResults\":7853,\"fips\":\"19\",\"dateModified\":\"2020-04-01T18:40:00Z\",\"dateChecked\":\"2020-04-01T19:12:00Z\",\"notes\":\"Please stop using the \\\"total\\\" field. Use \\\"totalTestResults\\\" instead.\",\"hash\":\"3cde5316c6f2213628879a8722bd6aef5229ca79\"},{\"state\":\"ID\",\"positive\":673,\"positiveScore\":1,\"negativeScore\":1,\"negativeRegularScore\":1,\"commercialScore\":1,\"grade\":\"A\",\"score\":4,\"negative\":6609,\"pending\":null,\"hospitalized\":49,\"death\":9,\"total\":7282,\"lastUpdateEt\":\"4/01 19:00\",\"checkTimeEt\":\"4/01 23:31\",\"totalTestResults\":7282,\"fips\":\"16\",\"dateModified\":\"2020-04-01T23:00:00Z\",\"dateChecked\":\"2020-04-02T03:31:00Z\",\"notes\":\"Please stop using the \\\"total\\\" field. Use \\\"totalTestResults\\\" instead.\",\"hash\":\"aac2b92c9ef9479c324e10c98d553fbad1e91f7b\"},{\"state\":\"IL\",\"positive\":6980,\"positiveScore\":1,\"negativeScore\":1,\"negativeRegularScore\":1,\"commercialScore\":1,\"grade\":\"A\",\"score\":4,\"negative\":33404,\"pending\":null,\"hospitalized\":null,\"death\":141,\"total\":40384,\"lastUpdateEt\":\"4/01 00:00\",\"checkTimeEt\":\"4/01 22:22\",\"totalTestResults\":40384,\"fips\":\"17\",\"dateModified\":\"2020-04-01T04:00:00Z\",\"dateChecked\":\"2020-04-02T02:22:00Z\",\"notes\":\"Please stop using the \\\"total\\\" field. Use \\\"totalTestResults\\\" instead.\",\"hash\":\"92898f0594a657a43a314cd9dda7ccbd09908fe7\"},{\"state\":\"IN\",\"positive\":2565,\"positiveScore\":1,\"negativeScore\":1,\"negativeRegularScore\":1,\"commercialScore\":0,\"grade\":\"B\",\"score\":3,\"negative\":11810,\"pending\":null,\"hospitalized\":null,\"death\":65,\"total\":14375,\"lastUpdateEt\":\"4/01 00:59\",\"checkTimeEt\":\"4/01 15:18\",\"totalTestResults\":14375,\"fips\":\"18\",\"dateModified\":\"2020-04-01T04:59:00Z\",\"dateChecked\":\"2020-04-01T19:18:00Z\",\"notes\":\"Please stop using the \\\"total\\\" field. Use \\\"totalTestResults\\\" instead.\",\"hash\":\"03f65ad4c449cba23bf074d5037cfb2d7d11bbce\"},{\"state\":\"KS\",\"positive\":482,\"positiveScore\":1,\"negativeScore\":1,\"negativeRegularScore\":1,\"commercialScore\":0,\"grade\":\"B\",\"score\":3,\"negative\":5411,\"pending\":null,\"hospitalized\":114,\"death\":10,\"total\":5893,\"lastUpdateEt\":\"4/01 11:00\",\"checkTimeEt\":\"4/01 16:22\",\"totalTestResults\":5893,\"fips\":\"20\",\"dateModified\":\"2020-04-01T15:00:00Z\",\"dateChecked\":\"2020-04-01T20:22:00Z\",\"notes\":\"Please stop using the \\\"total\\\" field. Use \\\"totalTestResults\\\" instead.\",\"hash\":\"cb36611dab2f5a3581d432a223eac13054247adf\"},{\"state\":\"KY\",\"positive\":680,\"positiveScore\":1,\"negativeScore\":1,\"negativeRegularScore\":1,\"commercialScore\":1,\"grade\":\"A\",\"score\":4,\"negative\":7220,\"pending\":null,\"hospitalized\":null,\"death\":20,\"total\":7900,\"lastUpdateEt\":\"4/01 17:00\",\"checkTimeEt\":\"4/01 23:32\",\"totalTestResults\":7900,\"fips\":\"21\",\"dateModified\":\"2020-04-01T21:00:00Z\",\"dateChecked\":\"2020-04-02T03:32:00Z\",\"notes\":\"Please stop using the \\\"total\\\" field. Use \\\"totalTestResults\\\" instead.\",\"hash\":\"c66e04f4d54a0186fd830d6e0480396cb66f45c9\"},{\"state\":\"LA\",\"positive\":6424,\"positiveScore\":1,\"negativeScore\":1,\"negativeRegularScore\":1,\"commercialScore\":1,\"grade\":\"A\",\"score\":4,\"negative\":39352,\"pending\":null,\"hospitalized\":1498,\"death\":273,\"total\":45776,\"lastUpdateEt\":\"4/01 13:00\",\"checkTimeEt\":\"4/01 15:21\",\"totalTestResults\":45776,\"fips\":\"22\",\"dateModified\":\"2020-04-01T17:00:00Z\",\"dateChecked\":\"2020-04-01T19:21:00Z\",\"notes\":\"Please stop using the \\\"total\\\" field. Use \\\"totalTestResults\\\" instead.\",\"hash\":\"484e23d4502617be9ec5f2a5aa82e396d622b2a1\"},{\"state\":\"MA\",\"positive\":7738,\"positiveScore\":1,\"negativeScore\":1,\"negativeRegularScore\":0,\"commercialScore\":1,\"grade\":\"B\",\"score\":3,\"negative\":44000,\"pending\":null,\"hospitalized\":682,\"death\":122,\"total\":51738,\"lastUpdateEt\":\"3/31 12:30\",\"checkTimeEt\":\"4/01 16:17\",\"totalTestResults\":51738,\"fips\":\"25\",\"dateModified\":\"2020-03-31T16:30:00Z\",\"dateChecked\":\"2020-04-01T20:17:00Z\",\"notes\":\"Please stop using the \\\"total\\\" field. Use \\\"totalTestResults\\\" instead.\",\"hash\":\"0f69110f10002f087f48393c574c95d590a9bccb\"},{\"state\":\"MD\",\"positive\":1985,\"positiveScore\":1,\"negativeScore\":1,\"negativeRegularScore\":1,\"commercialScore\":1,\"grade\":\"A\",\"score\":4,\"negative\":17233,\"pending\":null,\"hospitalized\":522,\"death\":31,\"total\":19218,\"lastUpdateEt\":\"4/01 10:00\",\"checkTimeEt\":\"4/01 15:25\",\"totalTestResults\":19218,\"fips\":\"24\",\"dateModified\":\"2020-04-01T14:00:00Z\",\"dateChecked\":\"2020-04-01T19:25:00Z\",\"notes\":\"Please stop using the \\\"total\\\" field. Use \\\"totalTestResults\\\" instead.\",\"hash\":\"47756378194ba859244cb661093c1eb3dc61bcd7\"},{\"state\":\"ME\",\"positive\":344,\"positiveScore\":1,\"negativeScore\":1,\"negativeRegularScore\":1,\"commercialScore\":1,\"grade\":\"A\",\"score\":4,\"negative\":6088,\"pending\":null,\"hospitalized\":63,\"death\":7,\"total\":6432,\"lastUpdateEt\":\"4/01 11:00\",\"checkTimeEt\":\"4/01 16:16\",\"totalTestResults\":6432,\"fips\":\"23\",\"dateModified\":\"2020-04-01T15:00:00Z\",\"dateChecked\":\"2020-04-01T20:16:00Z\",\"notes\":\"Please stop using the \\\"total\\\" field. Use \\\"totalTestResults\\\" instead.\",\"hash\":\"9dd62e521052927448ad9b1bd5c6c37c3985fe02\"},{\"state\":\"MI\",\"positive\":9334,\"positiveScore\":1,\"negativeScore\":1,\"negativeRegularScore\":0,\"commercialScore\":1,\"grade\":\"B\",\"score\":3,\"negative\":11893,\"pending\":null,\"hospitalized\":null,\"death\":337,\"total\":21227,\"lastUpdateEt\":\"4/01 11:00\",\"checkTimeEt\":\"4/01 22:33\",\"totalTestResults\":21227,\"fips\":\"26\",\"dateModified\":\"2020-04-01T15:00:00Z\",\"dateChecked\":\"2020-04-02T02:33:00Z\",\"notes\":\"Please stop using the \\\"total\\\" field. Use \\\"totalTestResults\\\" instead.\",\"hash\":\"6c91709862893698114b677646c6db166b8d477c\"},{\"state\":\"MN\",\"positive\":689,\"positiveScore\":1,\"negativeScore\":1,\"negativeRegularScore\":1,\"commercialScore\":1,\"grade\":\"A\",\"score\":4,\"negative\":20502,\"pending\":null,\"hospitalized\":122,\"death\":17,\"total\":21191,\"lastUpdateEt\":\"4/01 12:00\",\"checkTimeEt\":\"4/01 15:32\",\"totalTestResults\":21191,\"fips\":\"27\",\"dateModified\":\"2020-04-01T16:00:00Z\",\"dateChecked\":\"2020-04-01T19:32:00Z\",\"notes\":\"Please stop using the \\\"total\\\" field. Use \\\"totalTestResults\\\" instead.\",\"hash\":\"120d6854b46ca7b0bb73177e153b696cfcaaf9e4\"},{\"state\":\"MO\",\"positive\":1581,\"positiveScore\":1,\"negativeScore\":1,\"negativeRegularScore\":1,\"commercialScore\":1,\"grade\":\"A\",\"score\":4,\"negative\":15846,\"pending\":null,\"hospitalized\":null,\"death\":18,\"total\":17427,\"lastUpdateEt\":\"4/01 15:00\",\"checkTimeEt\":\"4/01 22:46\",\"totalTestResults\":17427,\"fips\":\"29\",\"dateModified\":\"2020-04-01T19:00:00Z\",\"dateChecked\":\"2020-04-02T02:46:00Z\",\"notes\":\"Please stop using the \\\"total\\\" field. Use \\\"totalTestResults\\\" instead.\",\"hash\":\"0964ae8fa867429d2f6fdd252040a72ea7b2b0ce\"},{\"state\":\"MS\",\"positive\":1073,\"positiveScore\":1,\"negativeScore\":1,\"negativeRegularScore\":1,\"commercialScore\":0,\"grade\":\"B\",\"score\":3,\"negative\":3712,\"pending\":null,\"hospitalized\":332,\"death\":22,\"total\":4785,\"lastUpdateEt\":\"3/31 19:00\",\"checkTimeEt\":\"4/01 16:26\",\"totalTestResults\":4785,\"fips\":\"28\",\"dateModified\":\"2020-03-31T23:00:00Z\",\"dateChecked\":\"2020-04-01T20:26:00Z\",\"notes\":\"Please stop using the \\\"total\\\" field. Use \\\"totalTestResults\\\" instead.\",\"hash\":\"e3173d0075089af20bba64262bd8e7ebab4e5839\"},{\"state\":\"MT\",\"positive\":217,\"positiveScore\":1,\"negativeScore\":1,\"negativeRegularScore\":1,\"commercialScore\":1,\"grade\":\"A\",\"score\":4,\"negative\":4871,\"pending\":null,\"hospitalized\":19,\"death\":5,\"total\":5088,\"lastUpdateEt\":\"4/01 18:30\",\"checkTimeEt\":\"4/01 23:36\",\"totalTestResults\":5088,\"fips\":\"30\",\"dateModified\":\"2020-04-01T22:30:00Z\",\"dateChecked\":\"2020-04-02T03:36:00Z\",\"notes\":\"Please stop using the \\\"total\\\" field. Use \\\"totalTestResults\\\" instead.\",\"hash\":\"7a8182c884843a314eca4c1c6c97ea0e76a2d078\"},{\"state\":\"NC\",\"positive\":1584,\"positiveScore\":1,\"negativeScore\":1,\"negativeRegularScore\":1,\"commercialScore\":1,\"grade\":\"A\",\"score\":4,\"negative\":24659,\"pending\":null,\"hospitalized\":204,\"death\":10,\"total\":26243,\"lastUpdateEt\":\"4/01 11:00\",\"checkTimeEt\":\"4/01 15:13\",\"totalTestResults\":26243,\"fips\":\"37\",\"dateModified\":\"2020-04-01T15:00:00Z\",\"dateChecked\":\"2020-04-01T19:13:00Z\",\"notes\":\"Please stop using the \\\"total\\\" field. Use \\\"totalTestResults\\\" instead.\",\"hash\":\"a28417c3b8000fac8905097336eb4d07e94833a9\"},{\"state\":\"ND\",\"positive\":147,\"positiveScore\":1,\"negativeScore\":1,\"negativeRegularScore\":1,\"commercialScore\":0,\"grade\":\"B\",\"score\":3,\"negative\":4480,\"pending\":null,\"hospitalized\":26,\"death\":3,\"total\":4627,\"lastUpdateEt\":\"4/01 18:02\",\"checkTimeEt\":\"4/01 23:36\",\"totalTestResults\":4627,\"fips\":\"38\",\"dateModified\":\"2020-04-01T22:02:00Z\",\"dateChecked\":\"2020-04-02T03:36:00Z\",\"notes\":\"Please stop using the \\\"total\\\" field. Use \\\"totalTestResults\\\" instead.\",\"hash\":\"6951b7cafb285acbe7a93f2d66ea70f49feda16e\"},{\"state\":\"NE\",\"positive\":214,\"positiveScore\":1,\"negativeScore\":1,\"negativeRegularScore\":1,\"commercialScore\":1,\"grade\":\"A\",\"score\":4,\"negative\":3590,\"pending\":8,\"hospitalized\":null,\"death\":4,\"total\":3812,\"lastUpdateEt\":\"4/01 00:00\",\"checkTimeEt\":\"4/01 23:11\",\"totalTestResults\":3804,\"fips\":\"31\",\"dateModified\":\"2020-04-01T04:00:00Z\",\"dateChecked\":\"2020-04-02T03:11:00Z\",\"notes\":\"Please stop using the \\\"total\\\" field. Use \\\"totalTestResults\\\" instead.\",\"hash\":\"4f18623d18873cbb73da61aae14911a5c875cbb0\"},{\"state\":\"NH\",\"positive\":415,\"positiveScore\":1,\"negativeScore\":1,\"negativeRegularScore\":1,\"commercialScore\":0,\"grade\":\"B\",\"score\":3,\"negative\":6078,\"pending\":126,\"hospitalized\":59,\"death\":4,\"total\":6619,\"lastUpdateEt\":\"4/01 09:00\",\"checkTimeEt\":\"4/01 23:37\",\"totalTestResults\":6493,\"fips\":\"33\",\"dateModified\":\"2020-04-01T13:00:00Z\",\"dateChecked\":\"2020-04-02T03:37:00Z\",\"notes\":\"Please stop using the \\\"total\\\" field. Use \\\"totalTestResults\\\" instead.\",\"hash\":\"beedd39a15931da6221548d582a7e4a8b462592d\"},{\"state\":\"NJ\",\"positive\":22255,\"positiveScore\":1,\"negativeScore\":1,\"negativeRegularScore\":1,\"commercialScore\":1,\"grade\":\"A\",\"score\":4,\"negative\":30387,\"pending\":null,\"hospitalized\":null,\"death\":355,\"total\":52642,\"lastUpdateEt\":\"4/01 13:00\",\"checkTimeEt\":\"4/01 22:51\",\"totalTestResults\":52642,\"fips\":\"34\",\"dateModified\":\"2020-04-01T17:00:00Z\",\"dateChecked\":\"2020-04-02T02:51:00Z\",\"notes\":\"Please stop using the \\\"total\\\" field. Use \\\"totalTestResults\\\" instead.\",\"hash\":\"f16bb2e3addea0ee6e6cd714baddf80ed74f880d\"},{\"state\":\"NM\",\"positive\":363,\"positiveScore\":1,\"negativeScore\":1,\"negativeRegularScore\":1,\"commercialScore\":1,\"grade\":\"A\",\"score\":4,\"negative\":13648,\"pending\":null,\"hospitalized\":31,\"death\":6,\"total\":14011,\"lastUpdateEt\":\"4/01 00:00\",\"checkTimeEt\":\"4/01 23:08\",\"totalTestResults\":14011,\"fips\":\"35\",\"dateModified\":\"2020-04-01T04:00:00Z\",\"dateChecked\":\"2020-04-02T03:08:00Z\",\"notes\":\"Please stop using the \\\"total\\\" field. Use \\\"totalTestResults\\\" instead.\",\"hash\":\"6b250429ad97c6f3f481814220f1baac90770c06\"},{\"state\":\"NV\",\"positive\":1279,\"positiveScore\":1,\"negativeScore\":1,\"negativeRegularScore\":1,\"commercialScore\":1,\"grade\":\"A\",\"score\":4,\"negative\":11519,\"pending\":null,\"hospitalized\":null,\"death\":32,\"total\":12798,\"lastUpdateEt\":\"4/01 09:30\",\"checkTimeEt\":\"4/01 23:08\",\"totalTestResults\":12798,\"fips\":\"32\",\"dateModified\":\"2020-04-01T13:30:00Z\",\"dateChecked\":\"2020-04-02T03:08:00Z\",\"notes\":\"Please stop using the \\\"total\\\" field. Use \\\"totalTestResults\\\" instead.\",\"hash\":\"546b31ae44dc9e98bb778fdde43e96287617bee3\"},{\"state\":\"NY\",\"positive\":83712,\"positiveScore\":1,\"negativeScore\":1,\"negativeRegularScore\":1,\"commercialScore\":1,\"grade\":\"A\",\"score\":4,\"negative\":137168,\"pending\":null,\"hospitalized\":18368,\"death\":1941,\"total\":220880,\"lastUpdateEt\":\"4/01 12:00\",\"checkTimeEt\":\"4/01 17:02\",\"totalTestResults\":220880,\"fips\":\"36\",\"dateModified\":\"2020-04-01T16:00:00Z\",\"dateChecked\":\"2020-04-01T21:02:00Z\",\"notes\":\"Please stop using the \\\"total\\\" field. Use \\\"totalTestResults\\\" instead.\",\"hash\":\"60187a3fd527a39c919d2e2709988cff60617213\"},{\"state\":\"OH\",\"positive\":2547,\"positiveScore\":1,\"negativeScore\":1,\"negativeRegularScore\":0,\"commercialScore\":1,\"grade\":\"B\",\"score\":3,\"negative\":26992,\"pending\":null,\"hospitalized\":679,\"death\":65,\"total\":29539,\"lastUpdateEt\":\"4/01 14:00\",\"checkTimeEt\":\"4/01 15:51\",\"totalTestResults\":29539,\"fips\":\"39\",\"dateModified\":\"2020-04-01T18:00:00Z\",\"dateChecked\":\"2020-04-01T19:51:00Z\",\"notes\":\"Please stop using the \\\"total\\\" field. Use \\\"totalTestResults\\\" instead.\",\"hash\":\"92903db3691868ba22854e48b57e622b5a2227f4\"},{\"state\":\"OK\",\"positive\":719,\"positiveScore\":1,\"negativeScore\":1,\"negativeRegularScore\":1,\"commercialScore\":0,\"grade\":\"B\",\"score\":3,\"negative\":1248,\"pending\":null,\"hospitalized\":219,\"death\":30,\"total\":1967,\"lastUpdateEt\":\"4/01 08:00\",\"checkTimeEt\":\"4/01 22:28\",\"totalTestResults\":1967,\"fips\":\"40\",\"dateModified\":\"2020-04-01T12:00:00Z\",\"dateChecked\":\"2020-04-02T02:28:00Z\",\"notes\":\"Please stop using the \\\"total\\\" field. Use \\\"totalTestResults\\\" instead.\",\"hash\":\"79ae9de30becf99e4adfeee326d9c2cd5276856a\"},{\"state\":\"OR\",\"positive\":736,\"positiveScore\":1,\"negativeScore\":1,\"negativeRegularScore\":1,\"commercialScore\":1,\"grade\":\"A\",\"score\":4,\"negative\":14132,\"pending\":null,\"hospitalized\":167,\"death\":19,\"total\":14868,\"lastUpdateEt\":\"4/01 11:00\",\"checkTimeEt\":\"4/01 23:05\",\"totalTestResults\":14868,\"fips\":\"41\",\"dateModified\":\"2020-04-01T15:00:00Z\",\"dateChecked\":\"2020-04-02T03:05:00Z\",\"notes\":\"Please stop using the \\\"total\\\" field. Use \\\"totalTestResults\\\" instead.\",\"hash\":\"a6e1aa757cc85ef3972f1ef0452f1634424d15ee\"},{\"state\":\"PA\",\"positive\":5805,\"positiveScore\":1,\"negativeScore\":1,\"negativeRegularScore\":1,\"commercialScore\":1,\"grade\":\"A\",\"score\":4,\"negative\":42427,\"pending\":null,\"hospitalized\":620,\"death\":74,\"total\":48232,\"lastUpdateEt\":\"4/01 12:00\",\"checkTimeEt\":\"4/01 15:10\",\"totalTestResults\":48232,\"fips\":\"42\",\"dateModified\":\"2020-04-01T16:00:00Z\",\"dateChecked\":\"2020-04-01T19:10:00Z\",\"notes\":\"Please stop using the \\\"total\\\" field. Use \\\"totalTestResults\\\" instead.\",\"hash\":\"3b8f11d4a9338567c888167b2b79136926e66388\"},{\"state\":\"RI\",\"positive\":566,\"positiveScore\":1,\"negativeScore\":1,\"negativeRegularScore\":1,\"commercialScore\":0,\"grade\":\"B\",\"score\":3,\"negative\":3831,\"pending\":null,\"hospitalized\":60,\"death\":10,\"total\":4397,\"lastUpdateEt\":\"4/01 15:58\",\"checkTimeEt\":\"4/01 16:13\",\"totalTestResults\":4397,\"fips\":\"44\",\"dateModified\":\"2020-04-01T19:58:00Z\",\"dateChecked\":\"2020-04-01T20:13:00Z\",\"notes\":\"Please stop using the \\\"total\\\" field. Use \\\"totalTestResults\\\" instead.\",\"hash\":\"aa5072ab25ca699ed65fd32bc156bdd311833376\"},{\"state\":\"SC\",\"positive\":1293,\"positiveScore\":1,\"negativeScore\":1,\"negativeRegularScore\":1,\"commercialScore\":0,\"grade\":\"B\",\"score\":3,\"negative\":5033,\"pending\":null,\"hospitalized\":349,\"death\":26,\"total\":6326,\"lastUpdateEt\":\"4/01 15:55\",\"checkTimeEt\":\"4/01 16:03\",\"totalTestResults\":6326,\"fips\":\"45\",\"dateModified\":\"2020-04-01T19:55:00Z\",\"dateChecked\":\"2020-04-01T20:03:00Z\",\"notes\":\"Please stop using the \\\"total\\\" field. Use \\\"totalTestResults\\\" instead.\",\"hash\":\"d807950775ce708236cb10a0507d199dba183eef\"},{\"state\":\"SD\",\"positive\":129,\"positiveScore\":1,\"negativeScore\":1,\"negativeRegularScore\":1,\"commercialScore\":1,\"grade\":\"A\",\"score\":4,\"negative\":3903,\"pending\":0,\"hospitalized\":12,\"death\":2,\"total\":4032,\"lastUpdateEt\":\"4/01 12:30\",\"checkTimeEt\":\"4/01 15:12\",\"totalTestResults\":4032,\"fips\":\"46\",\"dateModified\":\"2020-04-01T16:30:00Z\",\"dateChecked\":\"2020-04-01T19:12:00Z\",\"notes\":\"Please stop using the \\\"total\\\" field. Use \\\"totalTestResults\\\" instead.\",\"hash\":\"3e09cd7a7c9e941c4e844f352edcb6092d129cc5\"},{\"state\":\"TN\",\"positive\":2683,\"positiveScore\":1,\"negativeScore\":1,\"negativeRegularScore\":1,\"commercialScore\":1,\"grade\":\"A\",\"score\":4,\"negative\":29769,\"pending\":null,\"hospitalized\":200,\"death\":24,\"total\":32452,\"lastUpdateEt\":\"4/01 15:00\",\"checkTimeEt\":\"4/01 15:48\",\"totalTestResults\":32452,\"fips\":\"47\",\"dateModified\":\"2020-04-01T19:00:00Z\",\"dateChecked\":\"2020-04-01T19:48:00Z\",\"notes\":\"Please stop using the \\\"total\\\" field. Use \\\"totalTestResults\\\" instead.\",\"hash\":\"bbf74f3512a5a663b06474ceddd603cbd87aae18\"},{\"state\":\"TX\",\"positive\":3997,\"positiveScore\":1,\"negativeScore\":1,\"negativeRegularScore\":1,\"commercialScore\":1,\"grade\":\"A\",\"score\":4,\"negative\":43860,\"pending\":null,\"hospitalized\":196,\"death\":58,\"total\":47857,\"lastUpdateEt\":\"3/31 21:00\",\"checkTimeEt\":\"4/01 13:31\",\"totalTestResults\":47857,\"fips\":\"48\",\"dateModified\":\"2020-04-01T01:00:00Z\",\"dateChecked\":\"2020-04-01T17:31:00Z\",\"notes\":\"Please stop using the \\\"total\\\" field. Use \\\"totalTestResults\\\" instead.\",\"hash\":\"6ac14d684020a027f408ad6bd90b00e1b96a664e\"},{\"state\":\"UT\",\"positive\":1012,\"positiveScore\":1,\"negativeScore\":1,\"negativeRegularScore\":1,\"commercialScore\":1,\"grade\":\"A\",\"score\":4,\"negative\":20155,\"pending\":null,\"hospitalized\":91,\"death\":7,\"total\":21167,\"lastUpdateEt\":\"4/01 15:00\",\"checkTimeEt\":\"4/01 16:01\",\"totalTestResults\":21167,\"fips\":\"49\",\"dateModified\":\"2020-04-01T19:00:00Z\",\"dateChecked\":\"2020-04-01T20:01:00Z\",\"notes\":\"Please stop using the \\\"total\\\" field. Use \\\"totalTestResults\\\" instead.\",\"hash\":\"264de2fb620edf4b26bd57517e388663d688ce57\"},{\"state\":\"VA\",\"positive\":1484,\"positiveScore\":1,\"negativeScore\":1,\"negativeRegularScore\":1,\"commercialScore\":1,\"grade\":\"A\",\"score\":4,\"negative\":13860,\"pending\":null,\"hospitalized\":305,\"death\":34,\"total\":15344,\"lastUpdateEt\":\"4/01 13:00\",\"checkTimeEt\":\"4/01 23:37\",\"totalTestResults\":15344,\"fips\":\"51\",\"dateModified\":\"2020-04-01T17:00:00Z\",\"dateChecked\":\"2020-04-02T03:37:00Z\",\"notes\":\"Please stop using the \\\"total\\\" field. Use \\\"totalTestResults\\\" instead.\",\"hash\":\"b04ce0125420d0d5a6a1b280c2dc64e67f1dbc6c\"},{\"state\":\"VT\",\"positive\":321,\"positiveScore\":1,\"negativeScore\":1,\"negativeRegularScore\":1,\"commercialScore\":1,\"grade\":\"A\",\"score\":4,\"negative\":4174,\"pending\":null,\"hospitalized\":45,\"death\":16,\"total\":4495,\"lastUpdateEt\":\"4/01 13:00\",\"checkTimeEt\":\"4/01 22:58\",\"totalTestResults\":4495,\"fips\":\"50\",\"dateModified\":\"2020-04-01T17:00:00Z\",\"dateChecked\":\"2020-04-02T02:58:00Z\",\"notes\":\"Please stop using the \\\"total\\\" field. Use \\\"totalTestResults\\\" instead.\",\"hash\":\"e6845be582c6e20d9b057fc032a4247f3124e932\"},{\"state\":\"WA\",\"positive\":5984,\"positiveScore\":1,\"negativeScore\":1,\"negativeRegularScore\":1,\"commercialScore\":1,\"grade\":\"A\",\"score\":4,\"negative\":68814,\"pending\":null,\"hospitalized\":254,\"death\":247,\"total\":74798,\"lastUpdateEt\":\"4/01 22:51\",\"checkTimeEt\":\"4/02 00:00\",\"totalTestResults\":74798,\"fips\":\"53\",\"dateModified\":\"2020-04-02T02:51:00Z\",\"dateChecked\":\"2020-04-02T04:00:00Z\",\"notes\":\"Please stop using the \\\"total\\\" field. Use \\\"totalTestResults\\\" instead.\",\"hash\":\"d0d01fdb90948480c3f57205f480c90a9fdb042e\"},{\"state\":\"WI\",\"positive\":1550,\"positiveScore\":1,\"negativeScore\":1,\"negativeRegularScore\":1,\"commercialScore\":1,\"grade\":\"A\",\"score\":4,\"negative\":18819,\"pending\":null,\"hospitalized\":398,\"death\":24,\"total\":20369,\"lastUpdateEt\":\"4/01 16:00\",\"checkTimeEt\":\"4/01 22:30\",\"totalTestResults\":20369,\"fips\":\"55\",\"dateModified\":\"2020-04-01T20:00:00Z\",\"dateChecked\":\"2020-04-02T02:30:00Z\",\"notes\":\"Please stop using the \\\"total\\\" field. Use \\\"totalTestResults\\\" instead.\",\"hash\":\"79caf44ff666ae1907f613609ab72f65c8281be3\"},{\"state\":\"WV\",\"positive\":191,\"positiveScore\":1,\"negativeScore\":1,\"negativeRegularScore\":1,\"commercialScore\":0,\"grade\":\"B\",\"score\":3,\"negative\":4384,\"pending\":null,\"hospitalized\":1,\"death\":2,\"total\":4575,\"lastUpdateEt\":\"4/01 12:00\",\"checkTimeEt\":\"4/01 22:56\",\"totalTestResults\":4575,\"fips\":\"54\",\"dateModified\":\"2020-04-01T16:00:00Z\",\"dateChecked\":\"2020-04-02T02:56:00Z\",\"notes\":\"Please stop using the \\\"total\\\" field. Use \\\"totalTestResults\\\" instead.\",\"hash\":\"0ade118e985e43caa44f09f4bca62ed46b2a073a\"},{\"state\":\"WY\",\"positive\":137,\"positiveScore\":1,\"negativeScore\":1,\"negativeRegularScore\":1,\"commercialScore\":1,\"grade\":\"A\",\"score\":4,\"negative\":2328,\"pending\":null,\"hospitalized\":20,\"death\":0,\"total\":2465,\"lastUpdateEt\":\"4/01 20:00\",\"checkTimeEt\":\"4/01 22:43\",\"totalTestResults\":2465,\"fips\":\"56\",\"dateModified\":\"2020-04-02T00:00:00Z\",\"dateChecked\":\"2020-04-02T02:43:00Z\",\"notes\":\"Please stop using the \\\"total\\\" field. Use \\\"totalTestResults\\\" instead.\",\"hash\":\"777cf5743c9cf52db55cdf1890b88f4e385ce3cc\"},{\"state\":\"PR\",\"positive\":286,\"positiveScore\":1,\"negativeScore\":1,\"negativeRegularScore\":1,\"commercialScore\":1,\"grade\":\"A\",\"score\":4,\"negative\":1409,\"pending\":897,\"hospitalized\":null,\"death\":11,\"total\":2592,\"lastUpdateEt\":\"4/01 07:00\",\"checkTimeEt\":\"4/01 23:40\",\"totalTestResults\":1695,\"fips\":\"72\",\"dateModified\":\"2020-04-01T11:00:00Z\",\"dateChecked\":\"2020-04-02T03:40:00Z\",\"notes\":\"Please stop using the \\\"total\\\" field. Use \\\"totalTestResults\\\" instead.\",\"hash\":\"20fab46488653226819bce33a4904dc2412ddf88\"},{\"state\":\"AS\",\"positive\":0,\"negative\":20,\"pending\":6,\"hospitalized\":null,\"death\":0,\"total\":26,\"lastUpdateEt\":\"3/30 23:00\",\"checkTimeEt\":\"4/01 14:17\",\"totalTestResults\":20,\"fips\":\"60\",\"dateModified\":\"2020-03-31T03:00:00Z\",\"dateChecked\":\"2020-04-01T18:17:00Z\",\"notes\":\"Please stop using the \\\"total\\\" field. Use \\\"totalTestResults\\\" instead.\",\"hash\":\"8531dd8e4759f47a23cc0a0a8ca183c2dadb711e\"},{\"state\":\"GU\",\"positive\":77,\"negative\":406,\"pending\":null,\"hospitalized\":19,\"death\":3,\"total\":483,\"lastUpdateEt\":\"4/01 08:30\",\"checkTimeEt\":\"4/01 13:15\",\"totalTestResults\":483,\"fips\":\"66\",\"dateModified\":\"2020-04-01T12:30:00Z\",\"dateChecked\":\"2020-04-01T17:15:00Z\",\"notes\":\"Please stop using the \\\"total\\\" field. Use \\\"totalTestResults\\\" instead.\",\"hash\":\"64ed506c70a6a08c2e9c47b46248eb7dbafe76fe\"},{\"state\":\"MP\",\"positive\":6,\"negative\":13,\"pending\":12,\"hospitalized\":null,\"death\":1,\"total\":31,\"lastUpdateEt\":\"4/01 00:00\",\"checkTimeEt\":\"4/01 23:34\",\"totalTestResults\":19,\"fips\":\"69\",\"dateModified\":\"2020-04-01T04:00:00Z\",\"dateChecked\":\"2020-04-02T03:34:00Z\",\"notes\":\"Please stop using the \\\"total\\\" field. Use \\\"totalTestResults\\\" instead.\",\"hash\":\"56a13fb86964ed9dd9034b183a9c0a826bcb7881\"},{\"state\":\"VI\",\"positive\":30,\"negative\":126,\"pending\":24,\"hospitalized\":null,\"death\":null,\"total\":180,\"lastUpdateEt\":\"4/01 17:00\",\"checkTimeEt\":\"4/01 23:00\",\"totalTestResults\":156,\"fips\":\"78\",\"dateModified\":\"2020-04-01T21:00:00Z\",\"dateChecked\":\"2020-04-02T03:00:00Z\",\"notes\":\"Please stop using the \\\"total\\\" field. Use \\\"totalTestResults\\\" instead.\",\"hash\":\"fb75692b42f0ae4f637c5605279e1a7cc5c1c187\"}]}"
   ]
  },
  {
   "cell_type": "code",
   "execution_count": 13,
   "metadata": {},
   "outputs": [
    {
     "data": {
      "text/html": [
       "<div>\n",
       "<style scoped>\n",
       "    .dataframe tbody tr th:only-of-type {\n",
       "        vertical-align: middle;\n",
       "    }\n",
       "\n",
       "    .dataframe tbody tr th {\n",
       "        vertical-align: top;\n",
       "    }\n",
       "\n",
       "    .dataframe thead th {\n",
       "        text-align: right;\n",
       "    }\n",
       "</style>\n",
       "<table border=\"1\" class=\"dataframe\">\n",
       "  <thead>\n",
       "    <tr style=\"text-align: right;\">\n",
       "      <th></th>\n",
       "      <th>checkTimeEt</th>\n",
       "      <th>commercialScore</th>\n",
       "      <th>dateChecked</th>\n",
       "      <th>dateModified</th>\n",
       "      <th>death</th>\n",
       "      <th>fips</th>\n",
       "      <th>grade</th>\n",
       "      <th>hash</th>\n",
       "      <th>hospitalized</th>\n",
       "      <th>lastUpdateEt</th>\n",
       "      <th>...</th>\n",
       "      <th>negativeRegularScore</th>\n",
       "      <th>negativeScore</th>\n",
       "      <th>notes</th>\n",
       "      <th>pending</th>\n",
       "      <th>positive</th>\n",
       "      <th>positiveScore</th>\n",
       "      <th>score</th>\n",
       "      <th>state</th>\n",
       "      <th>total</th>\n",
       "      <th>totalTestResults</th>\n",
       "    </tr>\n",
       "  </thead>\n",
       "  <tbody>\n",
       "    <tr>\n",
       "      <th>0</th>\n",
       "      <td>4/01 22:34</td>\n",
       "      <td>1.0</td>\n",
       "      <td>2020-04-02T02:34:00Z</td>\n",
       "      <td>2020-04-01T23:00:00Z</td>\n",
       "      <td>3.0</td>\n",
       "      <td>02</td>\n",
       "      <td>A</td>\n",
       "      <td>baf5608924f257e809bac324daffa0ecaa742f31</td>\n",
       "      <td>9.0</td>\n",
       "      <td>4/01 19:00</td>\n",
       "      <td>...</td>\n",
       "      <td>1.0</td>\n",
       "      <td>1.0</td>\n",
       "      <td>Please stop using the \"total\" field. Use \"tota...</td>\n",
       "      <td>NaN</td>\n",
       "      <td>143</td>\n",
       "      <td>1.0</td>\n",
       "      <td>4.0</td>\n",
       "      <td>AK</td>\n",
       "      <td>5022</td>\n",
       "      <td>5022</td>\n",
       "    </tr>\n",
       "    <tr>\n",
       "      <th>1</th>\n",
       "      <td>4/01 22:35</td>\n",
       "      <td>1.0</td>\n",
       "      <td>2020-04-02T02:35:00Z</td>\n",
       "      <td>2020-04-01T04:00:00Z</td>\n",
       "      <td>28.0</td>\n",
       "      <td>01</td>\n",
       "      <td>B</td>\n",
       "      <td>6d740a9ac8fb7757ed2593bf40e9b5ee913a7a3f</td>\n",
       "      <td>NaN</td>\n",
       "      <td>4/01 00:00</td>\n",
       "      <td>...</td>\n",
       "      <td>0.0</td>\n",
       "      <td>1.0</td>\n",
       "      <td>Please stop using the \"total\" field. Use \"tota...</td>\n",
       "      <td>NaN</td>\n",
       "      <td>1106</td>\n",
       "      <td>1.0</td>\n",
       "      <td>3.0</td>\n",
       "      <td>AL</td>\n",
       "      <td>7803</td>\n",
       "      <td>7803</td>\n",
       "    </tr>\n",
       "    <tr>\n",
       "      <th>2</th>\n",
       "      <td>4/01 23:56</td>\n",
       "      <td>1.0</td>\n",
       "      <td>2020-04-02T03:56:00Z</td>\n",
       "      <td>2020-04-02T00:20:00Z</td>\n",
       "      <td>10.0</td>\n",
       "      <td>05</td>\n",
       "      <td>A</td>\n",
       "      <td>4940adc9942f4364cf19d43f40617f2490edb726</td>\n",
       "      <td>90.0</td>\n",
       "      <td>4/01 20:20</td>\n",
       "      <td>...</td>\n",
       "      <td>1.0</td>\n",
       "      <td>1.0</td>\n",
       "      <td>Please stop using the \"total\" field. Use \"tota...</td>\n",
       "      <td>NaN</td>\n",
       "      <td>624</td>\n",
       "      <td>1.0</td>\n",
       "      <td>4.0</td>\n",
       "      <td>AR</td>\n",
       "      <td>8460</td>\n",
       "      <td>8460</td>\n",
       "    </tr>\n",
       "    <tr>\n",
       "      <th>3</th>\n",
       "      <td>4/01 22:16</td>\n",
       "      <td>1.0</td>\n",
       "      <td>2020-04-02T02:16:00Z</td>\n",
       "      <td>2020-04-01T04:00:00Z</td>\n",
       "      <td>29.0</td>\n",
       "      <td>04</td>\n",
       "      <td>B</td>\n",
       "      <td>01bf26424329f52ea5802c27962a5cb55327e76c</td>\n",
       "      <td>149.0</td>\n",
       "      <td>4/01 00:00</td>\n",
       "      <td>...</td>\n",
       "      <td>0.0</td>\n",
       "      <td>1.0</td>\n",
       "      <td>Please stop using the \"total\" field. Use \"tota...</td>\n",
       "      <td>NaN</td>\n",
       "      <td>1413</td>\n",
       "      <td>1.0</td>\n",
       "      <td>3.0</td>\n",
       "      <td>AZ</td>\n",
       "      <td>21058</td>\n",
       "      <td>21058</td>\n",
       "    </tr>\n",
       "    <tr>\n",
       "      <th>4</th>\n",
       "      <td>4/01 22:34</td>\n",
       "      <td>0.0</td>\n",
       "      <td>2020-04-02T02:34:00Z</td>\n",
       "      <td>2020-04-01T04:00:00Z</td>\n",
       "      <td>171.0</td>\n",
       "      <td>06</td>\n",
       "      <td>B</td>\n",
       "      <td>53c7f26a928cbd6de1c4047a7cdff563904e3ade</td>\n",
       "      <td>1855.0</td>\n",
       "      <td>4/01 00:00</td>\n",
       "      <td>...</td>\n",
       "      <td>1.0</td>\n",
       "      <td>1.0</td>\n",
       "      <td>Please stop using the \"total\" field. Use \"tota...</td>\n",
       "      <td>59100.0</td>\n",
       "      <td>8155</td>\n",
       "      <td>1.0</td>\n",
       "      <td>3.0</td>\n",
       "      <td>CA</td>\n",
       "      <td>90138</td>\n",
       "      <td>31038</td>\n",
       "    </tr>\n",
       "    <tr>\n",
       "      <th>5</th>\n",
       "      <td>4/01 23:01</td>\n",
       "      <td>1.0</td>\n",
       "      <td>2020-04-02T03:01:00Z</td>\n",
       "      <td>2020-04-01T04:00:00Z</td>\n",
       "      <td>80.0</td>\n",
       "      <td>08</td>\n",
       "      <td>A</td>\n",
       "      <td>8b37d6b5fc58f18899ff5bd12a3d6fb301fa7d06</td>\n",
       "      <td>620.0</td>\n",
       "      <td>4/01 00:00</td>\n",
       "      <td>...</td>\n",
       "      <td>1.0</td>\n",
       "      <td>1.0</td>\n",
       "      <td>Please stop using the \"total\" field. Use \"tota...</td>\n",
       "      <td>NaN</td>\n",
       "      <td>3342</td>\n",
       "      <td>1.0</td>\n",
       "      <td>4.0</td>\n",
       "      <td>CO</td>\n",
       "      <td>18645</td>\n",
       "      <td>18645</td>\n",
       "    </tr>\n",
       "    <tr>\n",
       "      <th>6</th>\n",
       "      <td>4/01 16:36</td>\n",
       "      <td>1.0</td>\n",
       "      <td>2020-04-01T20:36:00Z</td>\n",
       "      <td>2020-04-01T17:30:00Z</td>\n",
       "      <td>85.0</td>\n",
       "      <td>09</td>\n",
       "      <td>A</td>\n",
       "      <td>1bd60bdace49ea475f54e5eb653ec703578e1b55</td>\n",
       "      <td>766.0</td>\n",
       "      <td>4/01 13:30</td>\n",
       "      <td>...</td>\n",
       "      <td>1.0</td>\n",
       "      <td>1.0</td>\n",
       "      <td>Please stop using the \"total\" field. Use \"tota...</td>\n",
       "      <td>NaN</td>\n",
       "      <td>3557</td>\n",
       "      <td>1.0</td>\n",
       "      <td>4.0</td>\n",
       "      <td>CT</td>\n",
       "      <td>16600</td>\n",
       "      <td>16600</td>\n",
       "    </tr>\n",
       "    <tr>\n",
       "      <th>7</th>\n",
       "      <td>4/01 14:10</td>\n",
       "      <td>1.0</td>\n",
       "      <td>2020-04-01T18:10:00Z</td>\n",
       "      <td>2020-04-01T01:24:00Z</td>\n",
       "      <td>11.0</td>\n",
       "      <td>11</td>\n",
       "      <td>A</td>\n",
       "      <td>f663d280ce2780e18d56f1d93285028ea4eefd9b</td>\n",
       "      <td>NaN</td>\n",
       "      <td>3/31 21:24</td>\n",
       "      <td>...</td>\n",
       "      <td>1.0</td>\n",
       "      <td>1.0</td>\n",
       "      <td>Please stop using the \"total\" field. Use \"tota...</td>\n",
       "      <td>2.0</td>\n",
       "      <td>586</td>\n",
       "      <td>1.0</td>\n",
       "      <td>4.0</td>\n",
       "      <td>DC</td>\n",
       "      <td>3850</td>\n",
       "      <td>3848</td>\n",
       "    </tr>\n",
       "    <tr>\n",
       "      <th>8</th>\n",
       "      <td>4/01 16:21</td>\n",
       "      <td>1.0</td>\n",
       "      <td>2020-04-01T20:21:00Z</td>\n",
       "      <td>2020-04-01T16:30:00Z</td>\n",
       "      <td>11.0</td>\n",
       "      <td>10</td>\n",
       "      <td>A</td>\n",
       "      <td>1c8615bd94b1849477a8cb7c382cbf0e589ac2a3</td>\n",
       "      <td>57.0</td>\n",
       "      <td>4/01 12:30</td>\n",
       "      <td>...</td>\n",
       "      <td>1.0</td>\n",
       "      <td>1.0</td>\n",
       "      <td>Please stop using the \"total\" field. Use \"tota...</td>\n",
       "      <td>NaN</td>\n",
       "      <td>368</td>\n",
       "      <td>1.0</td>\n",
       "      <td>4.0</td>\n",
       "      <td>DE</td>\n",
       "      <td>4383</td>\n",
       "      <td>4383</td>\n",
       "    </tr>\n",
       "    <tr>\n",
       "      <th>9</th>\n",
       "      <td>4/01 22:43</td>\n",
       "      <td>1.0</td>\n",
       "      <td>2020-04-02T02:43:00Z</td>\n",
       "      <td>2020-04-01T21:30:00Z</td>\n",
       "      <td>97.0</td>\n",
       "      <td>12</td>\n",
       "      <td>A</td>\n",
       "      <td>d5d70b781f03dccb6b98fefc81975323a8f79249</td>\n",
       "      <td>1043.0</td>\n",
       "      <td>4/01 17:30</td>\n",
       "      <td>...</td>\n",
       "      <td>1.0</td>\n",
       "      <td>1.0</td>\n",
       "      <td>Please stop using the \"total\" field. Use \"tota...</td>\n",
       "      <td>1329.0</td>\n",
       "      <td>7559</td>\n",
       "      <td>1.0</td>\n",
       "      <td>4.0</td>\n",
       "      <td>FL</td>\n",
       "      <td>69244</td>\n",
       "      <td>67915</td>\n",
       "    </tr>\n",
       "    <tr>\n",
       "      <th>10</th>\n",
       "      <td>4/01 23:14</td>\n",
       "      <td>1.0</td>\n",
       "      <td>2020-04-02T03:14:00Z</td>\n",
       "      <td>2020-04-01T22:28:00Z</td>\n",
       "      <td>154.0</td>\n",
       "      <td>13</td>\n",
       "      <td>A</td>\n",
       "      <td>2ad812f025cb4866ea64f8cf584f6477bb375927</td>\n",
       "      <td>1013.0</td>\n",
       "      <td>4/01 18:28</td>\n",
       "      <td>...</td>\n",
       "      <td>1.0</td>\n",
       "      <td>1.0</td>\n",
       "      <td>Please stop using the \"total\" field. Use \"tota...</td>\n",
       "      <td>NaN</td>\n",
       "      <td>4748</td>\n",
       "      <td>1.0</td>\n",
       "      <td>4.0</td>\n",
       "      <td>GA</td>\n",
       "      <td>20438</td>\n",
       "      <td>20438</td>\n",
       "    </tr>\n",
       "    <tr>\n",
       "      <th>11</th>\n",
       "      <td>4/01 23:18</td>\n",
       "      <td>1.0</td>\n",
       "      <td>2020-04-02T03:18:00Z</td>\n",
       "      <td>2020-04-01T22:00:00Z</td>\n",
       "      <td>1.0</td>\n",
       "      <td>15</td>\n",
       "      <td>A</td>\n",
       "      <td>27ddc299539d39e2adcf8b0bc4e5e810f41f6cff</td>\n",
       "      <td>15.0</td>\n",
       "      <td>4/01 18:00</td>\n",
       "      <td>...</td>\n",
       "      <td>1.0</td>\n",
       "      <td>1.0</td>\n",
       "      <td>Please stop using the \"total\" field. Use \"tota...</td>\n",
       "      <td>18.0</td>\n",
       "      <td>258</td>\n",
       "      <td>1.0</td>\n",
       "      <td>4.0</td>\n",
       "      <td>HI</td>\n",
       "      <td>10482</td>\n",
       "      <td>10464</td>\n",
       "    </tr>\n",
       "    <tr>\n",
       "      <th>12</th>\n",
       "      <td>4/01 15:12</td>\n",
       "      <td>1.0</td>\n",
       "      <td>2020-04-01T19:12:00Z</td>\n",
       "      <td>2020-04-01T18:40:00Z</td>\n",
       "      <td>9.0</td>\n",
       "      <td>19</td>\n",
       "      <td>A</td>\n",
       "      <td>3cde5316c6f2213628879a8722bd6aef5229ca79</td>\n",
       "      <td>99.0</td>\n",
       "      <td>4/01 14:40</td>\n",
       "      <td>...</td>\n",
       "      <td>1.0</td>\n",
       "      <td>1.0</td>\n",
       "      <td>Please stop using the \"total\" field. Use \"tota...</td>\n",
       "      <td>NaN</td>\n",
       "      <td>549</td>\n",
       "      <td>1.0</td>\n",
       "      <td>4.0</td>\n",
       "      <td>IA</td>\n",
       "      <td>7853</td>\n",
       "      <td>7853</td>\n",
       "    </tr>\n",
       "    <tr>\n",
       "      <th>13</th>\n",
       "      <td>4/01 23:31</td>\n",
       "      <td>1.0</td>\n",
       "      <td>2020-04-02T03:31:00Z</td>\n",
       "      <td>2020-04-01T23:00:00Z</td>\n",
       "      <td>9.0</td>\n",
       "      <td>16</td>\n",
       "      <td>A</td>\n",
       "      <td>aac2b92c9ef9479c324e10c98d553fbad1e91f7b</td>\n",
       "      <td>49.0</td>\n",
       "      <td>4/01 19:00</td>\n",
       "      <td>...</td>\n",
       "      <td>1.0</td>\n",
       "      <td>1.0</td>\n",
       "      <td>Please stop using the \"total\" field. Use \"tota...</td>\n",
       "      <td>NaN</td>\n",
       "      <td>673</td>\n",
       "      <td>1.0</td>\n",
       "      <td>4.0</td>\n",
       "      <td>ID</td>\n",
       "      <td>7282</td>\n",
       "      <td>7282</td>\n",
       "    </tr>\n",
       "    <tr>\n",
       "      <th>14</th>\n",
       "      <td>4/01 22:22</td>\n",
       "      <td>1.0</td>\n",
       "      <td>2020-04-02T02:22:00Z</td>\n",
       "      <td>2020-04-01T04:00:00Z</td>\n",
       "      <td>141.0</td>\n",
       "      <td>17</td>\n",
       "      <td>A</td>\n",
       "      <td>92898f0594a657a43a314cd9dda7ccbd09908fe7</td>\n",
       "      <td>NaN</td>\n",
       "      <td>4/01 00:00</td>\n",
       "      <td>...</td>\n",
       "      <td>1.0</td>\n",
       "      <td>1.0</td>\n",
       "      <td>Please stop using the \"total\" field. Use \"tota...</td>\n",
       "      <td>NaN</td>\n",
       "      <td>6980</td>\n",
       "      <td>1.0</td>\n",
       "      <td>4.0</td>\n",
       "      <td>IL</td>\n",
       "      <td>40384</td>\n",
       "      <td>40384</td>\n",
       "    </tr>\n",
       "    <tr>\n",
       "      <th>15</th>\n",
       "      <td>4/01 15:18</td>\n",
       "      <td>0.0</td>\n",
       "      <td>2020-04-01T19:18:00Z</td>\n",
       "      <td>2020-04-01T04:59:00Z</td>\n",
       "      <td>65.0</td>\n",
       "      <td>18</td>\n",
       "      <td>B</td>\n",
       "      <td>03f65ad4c449cba23bf074d5037cfb2d7d11bbce</td>\n",
       "      <td>NaN</td>\n",
       "      <td>4/01 00:59</td>\n",
       "      <td>...</td>\n",
       "      <td>1.0</td>\n",
       "      <td>1.0</td>\n",
       "      <td>Please stop using the \"total\" field. Use \"tota...</td>\n",
       "      <td>NaN</td>\n",
       "      <td>2565</td>\n",
       "      <td>1.0</td>\n",
       "      <td>3.0</td>\n",
       "      <td>IN</td>\n",
       "      <td>14375</td>\n",
       "      <td>14375</td>\n",
       "    </tr>\n",
       "    <tr>\n",
       "      <th>16</th>\n",
       "      <td>4/01 16:22</td>\n",
       "      <td>0.0</td>\n",
       "      <td>2020-04-01T20:22:00Z</td>\n",
       "      <td>2020-04-01T15:00:00Z</td>\n",
       "      <td>10.0</td>\n",
       "      <td>20</td>\n",
       "      <td>B</td>\n",
       "      <td>cb36611dab2f5a3581d432a223eac13054247adf</td>\n",
       "      <td>114.0</td>\n",
       "      <td>4/01 11:00</td>\n",
       "      <td>...</td>\n",
       "      <td>1.0</td>\n",
       "      <td>1.0</td>\n",
       "      <td>Please stop using the \"total\" field. Use \"tota...</td>\n",
       "      <td>NaN</td>\n",
       "      <td>482</td>\n",
       "      <td>1.0</td>\n",
       "      <td>3.0</td>\n",
       "      <td>KS</td>\n",
       "      <td>5893</td>\n",
       "      <td>5893</td>\n",
       "    </tr>\n",
       "    <tr>\n",
       "      <th>17</th>\n",
       "      <td>4/01 23:32</td>\n",
       "      <td>1.0</td>\n",
       "      <td>2020-04-02T03:32:00Z</td>\n",
       "      <td>2020-04-01T21:00:00Z</td>\n",
       "      <td>20.0</td>\n",
       "      <td>21</td>\n",
       "      <td>A</td>\n",
       "      <td>c66e04f4d54a0186fd830d6e0480396cb66f45c9</td>\n",
       "      <td>NaN</td>\n",
       "      <td>4/01 17:00</td>\n",
       "      <td>...</td>\n",
       "      <td>1.0</td>\n",
       "      <td>1.0</td>\n",
       "      <td>Please stop using the \"total\" field. Use \"tota...</td>\n",
       "      <td>NaN</td>\n",
       "      <td>680</td>\n",
       "      <td>1.0</td>\n",
       "      <td>4.0</td>\n",
       "      <td>KY</td>\n",
       "      <td>7900</td>\n",
       "      <td>7900</td>\n",
       "    </tr>\n",
       "    <tr>\n",
       "      <th>18</th>\n",
       "      <td>4/01 15:21</td>\n",
       "      <td>1.0</td>\n",
       "      <td>2020-04-01T19:21:00Z</td>\n",
       "      <td>2020-04-01T17:00:00Z</td>\n",
       "      <td>273.0</td>\n",
       "      <td>22</td>\n",
       "      <td>A</td>\n",
       "      <td>484e23d4502617be9ec5f2a5aa82e396d622b2a1</td>\n",
       "      <td>1498.0</td>\n",
       "      <td>4/01 13:00</td>\n",
       "      <td>...</td>\n",
       "      <td>1.0</td>\n",
       "      <td>1.0</td>\n",
       "      <td>Please stop using the \"total\" field. Use \"tota...</td>\n",
       "      <td>NaN</td>\n",
       "      <td>6424</td>\n",
       "      <td>1.0</td>\n",
       "      <td>4.0</td>\n",
       "      <td>LA</td>\n",
       "      <td>45776</td>\n",
       "      <td>45776</td>\n",
       "    </tr>\n",
       "    <tr>\n",
       "      <th>19</th>\n",
       "      <td>4/01 16:17</td>\n",
       "      <td>1.0</td>\n",
       "      <td>2020-04-01T20:17:00Z</td>\n",
       "      <td>2020-03-31T16:30:00Z</td>\n",
       "      <td>122.0</td>\n",
       "      <td>25</td>\n",
       "      <td>B</td>\n",
       "      <td>0f69110f10002f087f48393c574c95d590a9bccb</td>\n",
       "      <td>682.0</td>\n",
       "      <td>3/31 12:30</td>\n",
       "      <td>...</td>\n",
       "      <td>0.0</td>\n",
       "      <td>1.0</td>\n",
       "      <td>Please stop using the \"total\" field. Use \"tota...</td>\n",
       "      <td>NaN</td>\n",
       "      <td>7738</td>\n",
       "      <td>1.0</td>\n",
       "      <td>3.0</td>\n",
       "      <td>MA</td>\n",
       "      <td>51738</td>\n",
       "      <td>51738</td>\n",
       "    </tr>\n",
       "    <tr>\n",
       "      <th>20</th>\n",
       "      <td>4/01 15:25</td>\n",
       "      <td>1.0</td>\n",
       "      <td>2020-04-01T19:25:00Z</td>\n",
       "      <td>2020-04-01T14:00:00Z</td>\n",
       "      <td>31.0</td>\n",
       "      <td>24</td>\n",
       "      <td>A</td>\n",
       "      <td>47756378194ba859244cb661093c1eb3dc61bcd7</td>\n",
       "      <td>522.0</td>\n",
       "      <td>4/01 10:00</td>\n",
       "      <td>...</td>\n",
       "      <td>1.0</td>\n",
       "      <td>1.0</td>\n",
       "      <td>Please stop using the \"total\" field. Use \"tota...</td>\n",
       "      <td>NaN</td>\n",
       "      <td>1985</td>\n",
       "      <td>1.0</td>\n",
       "      <td>4.0</td>\n",
       "      <td>MD</td>\n",
       "      <td>19218</td>\n",
       "      <td>19218</td>\n",
       "    </tr>\n",
       "    <tr>\n",
       "      <th>21</th>\n",
       "      <td>4/01 16:16</td>\n",
       "      <td>1.0</td>\n",
       "      <td>2020-04-01T20:16:00Z</td>\n",
       "      <td>2020-04-01T15:00:00Z</td>\n",
       "      <td>7.0</td>\n",
       "      <td>23</td>\n",
       "      <td>A</td>\n",
       "      <td>9dd62e521052927448ad9b1bd5c6c37c3985fe02</td>\n",
       "      <td>63.0</td>\n",
       "      <td>4/01 11:00</td>\n",
       "      <td>...</td>\n",
       "      <td>1.0</td>\n",
       "      <td>1.0</td>\n",
       "      <td>Please stop using the \"total\" field. Use \"tota...</td>\n",
       "      <td>NaN</td>\n",
       "      <td>344</td>\n",
       "      <td>1.0</td>\n",
       "      <td>4.0</td>\n",
       "      <td>ME</td>\n",
       "      <td>6432</td>\n",
       "      <td>6432</td>\n",
       "    </tr>\n",
       "    <tr>\n",
       "      <th>22</th>\n",
       "      <td>4/01 22:33</td>\n",
       "      <td>1.0</td>\n",
       "      <td>2020-04-02T02:33:00Z</td>\n",
       "      <td>2020-04-01T15:00:00Z</td>\n",
       "      <td>337.0</td>\n",
       "      <td>26</td>\n",
       "      <td>B</td>\n",
       "      <td>6c91709862893698114b677646c6db166b8d477c</td>\n",
       "      <td>NaN</td>\n",
       "      <td>4/01 11:00</td>\n",
       "      <td>...</td>\n",
       "      <td>0.0</td>\n",
       "      <td>1.0</td>\n",
       "      <td>Please stop using the \"total\" field. Use \"tota...</td>\n",
       "      <td>NaN</td>\n",
       "      <td>9334</td>\n",
       "      <td>1.0</td>\n",
       "      <td>3.0</td>\n",
       "      <td>MI</td>\n",
       "      <td>21227</td>\n",
       "      <td>21227</td>\n",
       "    </tr>\n",
       "    <tr>\n",
       "      <th>23</th>\n",
       "      <td>4/01 15:32</td>\n",
       "      <td>1.0</td>\n",
       "      <td>2020-04-01T19:32:00Z</td>\n",
       "      <td>2020-04-01T16:00:00Z</td>\n",
       "      <td>17.0</td>\n",
       "      <td>27</td>\n",
       "      <td>A</td>\n",
       "      <td>120d6854b46ca7b0bb73177e153b696cfcaaf9e4</td>\n",
       "      <td>122.0</td>\n",
       "      <td>4/01 12:00</td>\n",
       "      <td>...</td>\n",
       "      <td>1.0</td>\n",
       "      <td>1.0</td>\n",
       "      <td>Please stop using the \"total\" field. Use \"tota...</td>\n",
       "      <td>NaN</td>\n",
       "      <td>689</td>\n",
       "      <td>1.0</td>\n",
       "      <td>4.0</td>\n",
       "      <td>MN</td>\n",
       "      <td>21191</td>\n",
       "      <td>21191</td>\n",
       "    </tr>\n",
       "    <tr>\n",
       "      <th>24</th>\n",
       "      <td>4/01 22:46</td>\n",
       "      <td>1.0</td>\n",
       "      <td>2020-04-02T02:46:00Z</td>\n",
       "      <td>2020-04-01T19:00:00Z</td>\n",
       "      <td>18.0</td>\n",
       "      <td>29</td>\n",
       "      <td>A</td>\n",
       "      <td>0964ae8fa867429d2f6fdd252040a72ea7b2b0ce</td>\n",
       "      <td>NaN</td>\n",
       "      <td>4/01 15:00</td>\n",
       "      <td>...</td>\n",
       "      <td>1.0</td>\n",
       "      <td>1.0</td>\n",
       "      <td>Please stop using the \"total\" field. Use \"tota...</td>\n",
       "      <td>NaN</td>\n",
       "      <td>1581</td>\n",
       "      <td>1.0</td>\n",
       "      <td>4.0</td>\n",
       "      <td>MO</td>\n",
       "      <td>17427</td>\n",
       "      <td>17427</td>\n",
       "    </tr>\n",
       "    <tr>\n",
       "      <th>25</th>\n",
       "      <td>4/01 16:26</td>\n",
       "      <td>0.0</td>\n",
       "      <td>2020-04-01T20:26:00Z</td>\n",
       "      <td>2020-03-31T23:00:00Z</td>\n",
       "      <td>22.0</td>\n",
       "      <td>28</td>\n",
       "      <td>B</td>\n",
       "      <td>e3173d0075089af20bba64262bd8e7ebab4e5839</td>\n",
       "      <td>332.0</td>\n",
       "      <td>3/31 19:00</td>\n",
       "      <td>...</td>\n",
       "      <td>1.0</td>\n",
       "      <td>1.0</td>\n",
       "      <td>Please stop using the \"total\" field. Use \"tota...</td>\n",
       "      <td>NaN</td>\n",
       "      <td>1073</td>\n",
       "      <td>1.0</td>\n",
       "      <td>3.0</td>\n",
       "      <td>MS</td>\n",
       "      <td>4785</td>\n",
       "      <td>4785</td>\n",
       "    </tr>\n",
       "    <tr>\n",
       "      <th>26</th>\n",
       "      <td>4/01 23:36</td>\n",
       "      <td>1.0</td>\n",
       "      <td>2020-04-02T03:36:00Z</td>\n",
       "      <td>2020-04-01T22:30:00Z</td>\n",
       "      <td>5.0</td>\n",
       "      <td>30</td>\n",
       "      <td>A</td>\n",
       "      <td>7a8182c884843a314eca4c1c6c97ea0e76a2d078</td>\n",
       "      <td>19.0</td>\n",
       "      <td>4/01 18:30</td>\n",
       "      <td>...</td>\n",
       "      <td>1.0</td>\n",
       "      <td>1.0</td>\n",
       "      <td>Please stop using the \"total\" field. Use \"tota...</td>\n",
       "      <td>NaN</td>\n",
       "      <td>217</td>\n",
       "      <td>1.0</td>\n",
       "      <td>4.0</td>\n",
       "      <td>MT</td>\n",
       "      <td>5088</td>\n",
       "      <td>5088</td>\n",
       "    </tr>\n",
       "    <tr>\n",
       "      <th>27</th>\n",
       "      <td>4/01 15:13</td>\n",
       "      <td>1.0</td>\n",
       "      <td>2020-04-01T19:13:00Z</td>\n",
       "      <td>2020-04-01T15:00:00Z</td>\n",
       "      <td>10.0</td>\n",
       "      <td>37</td>\n",
       "      <td>A</td>\n",
       "      <td>a28417c3b8000fac8905097336eb4d07e94833a9</td>\n",
       "      <td>204.0</td>\n",
       "      <td>4/01 11:00</td>\n",
       "      <td>...</td>\n",
       "      <td>1.0</td>\n",
       "      <td>1.0</td>\n",
       "      <td>Please stop using the \"total\" field. Use \"tota...</td>\n",
       "      <td>NaN</td>\n",
       "      <td>1584</td>\n",
       "      <td>1.0</td>\n",
       "      <td>4.0</td>\n",
       "      <td>NC</td>\n",
       "      <td>26243</td>\n",
       "      <td>26243</td>\n",
       "    </tr>\n",
       "    <tr>\n",
       "      <th>28</th>\n",
       "      <td>4/01 23:36</td>\n",
       "      <td>0.0</td>\n",
       "      <td>2020-04-02T03:36:00Z</td>\n",
       "      <td>2020-04-01T22:02:00Z</td>\n",
       "      <td>3.0</td>\n",
       "      <td>38</td>\n",
       "      <td>B</td>\n",
       "      <td>6951b7cafb285acbe7a93f2d66ea70f49feda16e</td>\n",
       "      <td>26.0</td>\n",
       "      <td>4/01 18:02</td>\n",
       "      <td>...</td>\n",
       "      <td>1.0</td>\n",
       "      <td>1.0</td>\n",
       "      <td>Please stop using the \"total\" field. Use \"tota...</td>\n",
       "      <td>NaN</td>\n",
       "      <td>147</td>\n",
       "      <td>1.0</td>\n",
       "      <td>3.0</td>\n",
       "      <td>ND</td>\n",
       "      <td>4627</td>\n",
       "      <td>4627</td>\n",
       "    </tr>\n",
       "    <tr>\n",
       "      <th>29</th>\n",
       "      <td>4/01 23:11</td>\n",
       "      <td>1.0</td>\n",
       "      <td>2020-04-02T03:11:00Z</td>\n",
       "      <td>2020-04-01T04:00:00Z</td>\n",
       "      <td>4.0</td>\n",
       "      <td>31</td>\n",
       "      <td>A</td>\n",
       "      <td>4f18623d18873cbb73da61aae14911a5c875cbb0</td>\n",
       "      <td>NaN</td>\n",
       "      <td>4/01 00:00</td>\n",
       "      <td>...</td>\n",
       "      <td>1.0</td>\n",
       "      <td>1.0</td>\n",
       "      <td>Please stop using the \"total\" field. Use \"tota...</td>\n",
       "      <td>8.0</td>\n",
       "      <td>214</td>\n",
       "      <td>1.0</td>\n",
       "      <td>4.0</td>\n",
       "      <td>NE</td>\n",
       "      <td>3812</td>\n",
       "      <td>3804</td>\n",
       "    </tr>\n",
       "    <tr>\n",
       "      <th>30</th>\n",
       "      <td>4/01 23:37</td>\n",
       "      <td>0.0</td>\n",
       "      <td>2020-04-02T03:37:00Z</td>\n",
       "      <td>2020-04-01T13:00:00Z</td>\n",
       "      <td>4.0</td>\n",
       "      <td>33</td>\n",
       "      <td>B</td>\n",
       "      <td>beedd39a15931da6221548d582a7e4a8b462592d</td>\n",
       "      <td>59.0</td>\n",
       "      <td>4/01 09:00</td>\n",
       "      <td>...</td>\n",
       "      <td>1.0</td>\n",
       "      <td>1.0</td>\n",
       "      <td>Please stop using the \"total\" field. Use \"tota...</td>\n",
       "      <td>126.0</td>\n",
       "      <td>415</td>\n",
       "      <td>1.0</td>\n",
       "      <td>3.0</td>\n",
       "      <td>NH</td>\n",
       "      <td>6619</td>\n",
       "      <td>6493</td>\n",
       "    </tr>\n",
       "    <tr>\n",
       "      <th>31</th>\n",
       "      <td>4/01 22:51</td>\n",
       "      <td>1.0</td>\n",
       "      <td>2020-04-02T02:51:00Z</td>\n",
       "      <td>2020-04-01T17:00:00Z</td>\n",
       "      <td>355.0</td>\n",
       "      <td>34</td>\n",
       "      <td>A</td>\n",
       "      <td>f16bb2e3addea0ee6e6cd714baddf80ed74f880d</td>\n",
       "      <td>NaN</td>\n",
       "      <td>4/01 13:00</td>\n",
       "      <td>...</td>\n",
       "      <td>1.0</td>\n",
       "      <td>1.0</td>\n",
       "      <td>Please stop using the \"total\" field. Use \"tota...</td>\n",
       "      <td>NaN</td>\n",
       "      <td>22255</td>\n",
       "      <td>1.0</td>\n",
       "      <td>4.0</td>\n",
       "      <td>NJ</td>\n",
       "      <td>52642</td>\n",
       "      <td>52642</td>\n",
       "    </tr>\n",
       "    <tr>\n",
       "      <th>32</th>\n",
       "      <td>4/01 23:08</td>\n",
       "      <td>1.0</td>\n",
       "      <td>2020-04-02T03:08:00Z</td>\n",
       "      <td>2020-04-01T04:00:00Z</td>\n",
       "      <td>6.0</td>\n",
       "      <td>35</td>\n",
       "      <td>A</td>\n",
       "      <td>6b250429ad97c6f3f481814220f1baac90770c06</td>\n",
       "      <td>31.0</td>\n",
       "      <td>4/01 00:00</td>\n",
       "      <td>...</td>\n",
       "      <td>1.0</td>\n",
       "      <td>1.0</td>\n",
       "      <td>Please stop using the \"total\" field. Use \"tota...</td>\n",
       "      <td>NaN</td>\n",
       "      <td>363</td>\n",
       "      <td>1.0</td>\n",
       "      <td>4.0</td>\n",
       "      <td>NM</td>\n",
       "      <td>14011</td>\n",
       "      <td>14011</td>\n",
       "    </tr>\n",
       "    <tr>\n",
       "      <th>33</th>\n",
       "      <td>4/01 23:08</td>\n",
       "      <td>1.0</td>\n",
       "      <td>2020-04-02T03:08:00Z</td>\n",
       "      <td>2020-04-01T13:30:00Z</td>\n",
       "      <td>32.0</td>\n",
       "      <td>32</td>\n",
       "      <td>A</td>\n",
       "      <td>546b31ae44dc9e98bb778fdde43e96287617bee3</td>\n",
       "      <td>NaN</td>\n",
       "      <td>4/01 09:30</td>\n",
       "      <td>...</td>\n",
       "      <td>1.0</td>\n",
       "      <td>1.0</td>\n",
       "      <td>Please stop using the \"total\" field. Use \"tota...</td>\n",
       "      <td>NaN</td>\n",
       "      <td>1279</td>\n",
       "      <td>1.0</td>\n",
       "      <td>4.0</td>\n",
       "      <td>NV</td>\n",
       "      <td>12798</td>\n",
       "      <td>12798</td>\n",
       "    </tr>\n",
       "    <tr>\n",
       "      <th>34</th>\n",
       "      <td>4/01 17:02</td>\n",
       "      <td>1.0</td>\n",
       "      <td>2020-04-01T21:02:00Z</td>\n",
       "      <td>2020-04-01T16:00:00Z</td>\n",
       "      <td>1941.0</td>\n",
       "      <td>36</td>\n",
       "      <td>A</td>\n",
       "      <td>60187a3fd527a39c919d2e2709988cff60617213</td>\n",
       "      <td>18368.0</td>\n",
       "      <td>4/01 12:00</td>\n",
       "      <td>...</td>\n",
       "      <td>1.0</td>\n",
       "      <td>1.0</td>\n",
       "      <td>Please stop using the \"total\" field. Use \"tota...</td>\n",
       "      <td>NaN</td>\n",
       "      <td>83712</td>\n",
       "      <td>1.0</td>\n",
       "      <td>4.0</td>\n",
       "      <td>NY</td>\n",
       "      <td>220880</td>\n",
       "      <td>220880</td>\n",
       "    </tr>\n",
       "    <tr>\n",
       "      <th>35</th>\n",
       "      <td>4/01 15:51</td>\n",
       "      <td>1.0</td>\n",
       "      <td>2020-04-01T19:51:00Z</td>\n",
       "      <td>2020-04-01T18:00:00Z</td>\n",
       "      <td>65.0</td>\n",
       "      <td>39</td>\n",
       "      <td>B</td>\n",
       "      <td>92903db3691868ba22854e48b57e622b5a2227f4</td>\n",
       "      <td>679.0</td>\n",
       "      <td>4/01 14:00</td>\n",
       "      <td>...</td>\n",
       "      <td>0.0</td>\n",
       "      <td>1.0</td>\n",
       "      <td>Please stop using the \"total\" field. Use \"tota...</td>\n",
       "      <td>NaN</td>\n",
       "      <td>2547</td>\n",
       "      <td>1.0</td>\n",
       "      <td>3.0</td>\n",
       "      <td>OH</td>\n",
       "      <td>29539</td>\n",
       "      <td>29539</td>\n",
       "    </tr>\n",
       "    <tr>\n",
       "      <th>36</th>\n",
       "      <td>4/01 22:28</td>\n",
       "      <td>0.0</td>\n",
       "      <td>2020-04-02T02:28:00Z</td>\n",
       "      <td>2020-04-01T12:00:00Z</td>\n",
       "      <td>30.0</td>\n",
       "      <td>40</td>\n",
       "      <td>B</td>\n",
       "      <td>79ae9de30becf99e4adfeee326d9c2cd5276856a</td>\n",
       "      <td>219.0</td>\n",
       "      <td>4/01 08:00</td>\n",
       "      <td>...</td>\n",
       "      <td>1.0</td>\n",
       "      <td>1.0</td>\n",
       "      <td>Please stop using the \"total\" field. Use \"tota...</td>\n",
       "      <td>NaN</td>\n",
       "      <td>719</td>\n",
       "      <td>1.0</td>\n",
       "      <td>3.0</td>\n",
       "      <td>OK</td>\n",
       "      <td>1967</td>\n",
       "      <td>1967</td>\n",
       "    </tr>\n",
       "    <tr>\n",
       "      <th>37</th>\n",
       "      <td>4/01 23:05</td>\n",
       "      <td>1.0</td>\n",
       "      <td>2020-04-02T03:05:00Z</td>\n",
       "      <td>2020-04-01T15:00:00Z</td>\n",
       "      <td>19.0</td>\n",
       "      <td>41</td>\n",
       "      <td>A</td>\n",
       "      <td>a6e1aa757cc85ef3972f1ef0452f1634424d15ee</td>\n",
       "      <td>167.0</td>\n",
       "      <td>4/01 11:00</td>\n",
       "      <td>...</td>\n",
       "      <td>1.0</td>\n",
       "      <td>1.0</td>\n",
       "      <td>Please stop using the \"total\" field. Use \"tota...</td>\n",
       "      <td>NaN</td>\n",
       "      <td>736</td>\n",
       "      <td>1.0</td>\n",
       "      <td>4.0</td>\n",
       "      <td>OR</td>\n",
       "      <td>14868</td>\n",
       "      <td>14868</td>\n",
       "    </tr>\n",
       "    <tr>\n",
       "      <th>38</th>\n",
       "      <td>4/01 15:10</td>\n",
       "      <td>1.0</td>\n",
       "      <td>2020-04-01T19:10:00Z</td>\n",
       "      <td>2020-04-01T16:00:00Z</td>\n",
       "      <td>74.0</td>\n",
       "      <td>42</td>\n",
       "      <td>A</td>\n",
       "      <td>3b8f11d4a9338567c888167b2b79136926e66388</td>\n",
       "      <td>620.0</td>\n",
       "      <td>4/01 12:00</td>\n",
       "      <td>...</td>\n",
       "      <td>1.0</td>\n",
       "      <td>1.0</td>\n",
       "      <td>Please stop using the \"total\" field. Use \"tota...</td>\n",
       "      <td>NaN</td>\n",
       "      <td>5805</td>\n",
       "      <td>1.0</td>\n",
       "      <td>4.0</td>\n",
       "      <td>PA</td>\n",
       "      <td>48232</td>\n",
       "      <td>48232</td>\n",
       "    </tr>\n",
       "    <tr>\n",
       "      <th>39</th>\n",
       "      <td>4/01 16:13</td>\n",
       "      <td>0.0</td>\n",
       "      <td>2020-04-01T20:13:00Z</td>\n",
       "      <td>2020-04-01T19:58:00Z</td>\n",
       "      <td>10.0</td>\n",
       "      <td>44</td>\n",
       "      <td>B</td>\n",
       "      <td>aa5072ab25ca699ed65fd32bc156bdd311833376</td>\n",
       "      <td>60.0</td>\n",
       "      <td>4/01 15:58</td>\n",
       "      <td>...</td>\n",
       "      <td>1.0</td>\n",
       "      <td>1.0</td>\n",
       "      <td>Please stop using the \"total\" field. Use \"tota...</td>\n",
       "      <td>NaN</td>\n",
       "      <td>566</td>\n",
       "      <td>1.0</td>\n",
       "      <td>3.0</td>\n",
       "      <td>RI</td>\n",
       "      <td>4397</td>\n",
       "      <td>4397</td>\n",
       "    </tr>\n",
       "    <tr>\n",
       "      <th>40</th>\n",
       "      <td>4/01 16:03</td>\n",
       "      <td>0.0</td>\n",
       "      <td>2020-04-01T20:03:00Z</td>\n",
       "      <td>2020-04-01T19:55:00Z</td>\n",
       "      <td>26.0</td>\n",
       "      <td>45</td>\n",
       "      <td>B</td>\n",
       "      <td>d807950775ce708236cb10a0507d199dba183eef</td>\n",
       "      <td>349.0</td>\n",
       "      <td>4/01 15:55</td>\n",
       "      <td>...</td>\n",
       "      <td>1.0</td>\n",
       "      <td>1.0</td>\n",
       "      <td>Please stop using the \"total\" field. Use \"tota...</td>\n",
       "      <td>NaN</td>\n",
       "      <td>1293</td>\n",
       "      <td>1.0</td>\n",
       "      <td>3.0</td>\n",
       "      <td>SC</td>\n",
       "      <td>6326</td>\n",
       "      <td>6326</td>\n",
       "    </tr>\n",
       "    <tr>\n",
       "      <th>41</th>\n",
       "      <td>4/01 15:12</td>\n",
       "      <td>1.0</td>\n",
       "      <td>2020-04-01T19:12:00Z</td>\n",
       "      <td>2020-04-01T16:30:00Z</td>\n",
       "      <td>2.0</td>\n",
       "      <td>46</td>\n",
       "      <td>A</td>\n",
       "      <td>3e09cd7a7c9e941c4e844f352edcb6092d129cc5</td>\n",
       "      <td>12.0</td>\n",
       "      <td>4/01 12:30</td>\n",
       "      <td>...</td>\n",
       "      <td>1.0</td>\n",
       "      <td>1.0</td>\n",
       "      <td>Please stop using the \"total\" field. Use \"tota...</td>\n",
       "      <td>0.0</td>\n",
       "      <td>129</td>\n",
       "      <td>1.0</td>\n",
       "      <td>4.0</td>\n",
       "      <td>SD</td>\n",
       "      <td>4032</td>\n",
       "      <td>4032</td>\n",
       "    </tr>\n",
       "    <tr>\n",
       "      <th>42</th>\n",
       "      <td>4/01 15:48</td>\n",
       "      <td>1.0</td>\n",
       "      <td>2020-04-01T19:48:00Z</td>\n",
       "      <td>2020-04-01T19:00:00Z</td>\n",
       "      <td>24.0</td>\n",
       "      <td>47</td>\n",
       "      <td>A</td>\n",
       "      <td>bbf74f3512a5a663b06474ceddd603cbd87aae18</td>\n",
       "      <td>200.0</td>\n",
       "      <td>4/01 15:00</td>\n",
       "      <td>...</td>\n",
       "      <td>1.0</td>\n",
       "      <td>1.0</td>\n",
       "      <td>Please stop using the \"total\" field. Use \"tota...</td>\n",
       "      <td>NaN</td>\n",
       "      <td>2683</td>\n",
       "      <td>1.0</td>\n",
       "      <td>4.0</td>\n",
       "      <td>TN</td>\n",
       "      <td>32452</td>\n",
       "      <td>32452</td>\n",
       "    </tr>\n",
       "    <tr>\n",
       "      <th>43</th>\n",
       "      <td>4/01 13:31</td>\n",
       "      <td>1.0</td>\n",
       "      <td>2020-04-01T17:31:00Z</td>\n",
       "      <td>2020-04-01T01:00:00Z</td>\n",
       "      <td>58.0</td>\n",
       "      <td>48</td>\n",
       "      <td>A</td>\n",
       "      <td>6ac14d684020a027f408ad6bd90b00e1b96a664e</td>\n",
       "      <td>196.0</td>\n",
       "      <td>3/31 21:00</td>\n",
       "      <td>...</td>\n",
       "      <td>1.0</td>\n",
       "      <td>1.0</td>\n",
       "      <td>Please stop using the \"total\" field. Use \"tota...</td>\n",
       "      <td>NaN</td>\n",
       "      <td>3997</td>\n",
       "      <td>1.0</td>\n",
       "      <td>4.0</td>\n",
       "      <td>TX</td>\n",
       "      <td>47857</td>\n",
       "      <td>47857</td>\n",
       "    </tr>\n",
       "    <tr>\n",
       "      <th>44</th>\n",
       "      <td>4/01 16:01</td>\n",
       "      <td>1.0</td>\n",
       "      <td>2020-04-01T20:01:00Z</td>\n",
       "      <td>2020-04-01T19:00:00Z</td>\n",
       "      <td>7.0</td>\n",
       "      <td>49</td>\n",
       "      <td>A</td>\n",
       "      <td>264de2fb620edf4b26bd57517e388663d688ce57</td>\n",
       "      <td>91.0</td>\n",
       "      <td>4/01 15:00</td>\n",
       "      <td>...</td>\n",
       "      <td>1.0</td>\n",
       "      <td>1.0</td>\n",
       "      <td>Please stop using the \"total\" field. Use \"tota...</td>\n",
       "      <td>NaN</td>\n",
       "      <td>1012</td>\n",
       "      <td>1.0</td>\n",
       "      <td>4.0</td>\n",
       "      <td>UT</td>\n",
       "      <td>21167</td>\n",
       "      <td>21167</td>\n",
       "    </tr>\n",
       "    <tr>\n",
       "      <th>45</th>\n",
       "      <td>4/01 23:37</td>\n",
       "      <td>1.0</td>\n",
       "      <td>2020-04-02T03:37:00Z</td>\n",
       "      <td>2020-04-01T17:00:00Z</td>\n",
       "      <td>34.0</td>\n",
       "      <td>51</td>\n",
       "      <td>A</td>\n",
       "      <td>b04ce0125420d0d5a6a1b280c2dc64e67f1dbc6c</td>\n",
       "      <td>305.0</td>\n",
       "      <td>4/01 13:00</td>\n",
       "      <td>...</td>\n",
       "      <td>1.0</td>\n",
       "      <td>1.0</td>\n",
       "      <td>Please stop using the \"total\" field. Use \"tota...</td>\n",
       "      <td>NaN</td>\n",
       "      <td>1484</td>\n",
       "      <td>1.0</td>\n",
       "      <td>4.0</td>\n",
       "      <td>VA</td>\n",
       "      <td>15344</td>\n",
       "      <td>15344</td>\n",
       "    </tr>\n",
       "    <tr>\n",
       "      <th>46</th>\n",
       "      <td>4/01 22:58</td>\n",
       "      <td>1.0</td>\n",
       "      <td>2020-04-02T02:58:00Z</td>\n",
       "      <td>2020-04-01T17:00:00Z</td>\n",
       "      <td>16.0</td>\n",
       "      <td>50</td>\n",
       "      <td>A</td>\n",
       "      <td>e6845be582c6e20d9b057fc032a4247f3124e932</td>\n",
       "      <td>45.0</td>\n",
       "      <td>4/01 13:00</td>\n",
       "      <td>...</td>\n",
       "      <td>1.0</td>\n",
       "      <td>1.0</td>\n",
       "      <td>Please stop using the \"total\" field. Use \"tota...</td>\n",
       "      <td>NaN</td>\n",
       "      <td>321</td>\n",
       "      <td>1.0</td>\n",
       "      <td>4.0</td>\n",
       "      <td>VT</td>\n",
       "      <td>4495</td>\n",
       "      <td>4495</td>\n",
       "    </tr>\n",
       "    <tr>\n",
       "      <th>47</th>\n",
       "      <td>4/02 00:00</td>\n",
       "      <td>1.0</td>\n",
       "      <td>2020-04-02T04:00:00Z</td>\n",
       "      <td>2020-04-02T02:51:00Z</td>\n",
       "      <td>247.0</td>\n",
       "      <td>53</td>\n",
       "      <td>A</td>\n",
       "      <td>d0d01fdb90948480c3f57205f480c90a9fdb042e</td>\n",
       "      <td>254.0</td>\n",
       "      <td>4/01 22:51</td>\n",
       "      <td>...</td>\n",
       "      <td>1.0</td>\n",
       "      <td>1.0</td>\n",
       "      <td>Please stop using the \"total\" field. Use \"tota...</td>\n",
       "      <td>NaN</td>\n",
       "      <td>5984</td>\n",
       "      <td>1.0</td>\n",
       "      <td>4.0</td>\n",
       "      <td>WA</td>\n",
       "      <td>74798</td>\n",
       "      <td>74798</td>\n",
       "    </tr>\n",
       "    <tr>\n",
       "      <th>48</th>\n",
       "      <td>4/01 22:30</td>\n",
       "      <td>1.0</td>\n",
       "      <td>2020-04-02T02:30:00Z</td>\n",
       "      <td>2020-04-01T20:00:00Z</td>\n",
       "      <td>24.0</td>\n",
       "      <td>55</td>\n",
       "      <td>A</td>\n",
       "      <td>79caf44ff666ae1907f613609ab72f65c8281be3</td>\n",
       "      <td>398.0</td>\n",
       "      <td>4/01 16:00</td>\n",
       "      <td>...</td>\n",
       "      <td>1.0</td>\n",
       "      <td>1.0</td>\n",
       "      <td>Please stop using the \"total\" field. Use \"tota...</td>\n",
       "      <td>NaN</td>\n",
       "      <td>1550</td>\n",
       "      <td>1.0</td>\n",
       "      <td>4.0</td>\n",
       "      <td>WI</td>\n",
       "      <td>20369</td>\n",
       "      <td>20369</td>\n",
       "    </tr>\n",
       "    <tr>\n",
       "      <th>49</th>\n",
       "      <td>4/01 22:56</td>\n",
       "      <td>0.0</td>\n",
       "      <td>2020-04-02T02:56:00Z</td>\n",
       "      <td>2020-04-01T16:00:00Z</td>\n",
       "      <td>2.0</td>\n",
       "      <td>54</td>\n",
       "      <td>B</td>\n",
       "      <td>0ade118e985e43caa44f09f4bca62ed46b2a073a</td>\n",
       "      <td>1.0</td>\n",
       "      <td>4/01 12:00</td>\n",
       "      <td>...</td>\n",
       "      <td>1.0</td>\n",
       "      <td>1.0</td>\n",
       "      <td>Please stop using the \"total\" field. Use \"tota...</td>\n",
       "      <td>NaN</td>\n",
       "      <td>191</td>\n",
       "      <td>1.0</td>\n",
       "      <td>3.0</td>\n",
       "      <td>WV</td>\n",
       "      <td>4575</td>\n",
       "      <td>4575</td>\n",
       "    </tr>\n",
       "    <tr>\n",
       "      <th>50</th>\n",
       "      <td>4/01 22:43</td>\n",
       "      <td>1.0</td>\n",
       "      <td>2020-04-02T02:43:00Z</td>\n",
       "      <td>2020-04-02T00:00:00Z</td>\n",
       "      <td>0.0</td>\n",
       "      <td>56</td>\n",
       "      <td>A</td>\n",
       "      <td>777cf5743c9cf52db55cdf1890b88f4e385ce3cc</td>\n",
       "      <td>20.0</td>\n",
       "      <td>4/01 20:00</td>\n",
       "      <td>...</td>\n",
       "      <td>1.0</td>\n",
       "      <td>1.0</td>\n",
       "      <td>Please stop using the \"total\" field. Use \"tota...</td>\n",
       "      <td>NaN</td>\n",
       "      <td>137</td>\n",
       "      <td>1.0</td>\n",
       "      <td>4.0</td>\n",
       "      <td>WY</td>\n",
       "      <td>2465</td>\n",
       "      <td>2465</td>\n",
       "    </tr>\n",
       "    <tr>\n",
       "      <th>51</th>\n",
       "      <td>4/01 23:40</td>\n",
       "      <td>1.0</td>\n",
       "      <td>2020-04-02T03:40:00Z</td>\n",
       "      <td>2020-04-01T11:00:00Z</td>\n",
       "      <td>11.0</td>\n",
       "      <td>72</td>\n",
       "      <td>A</td>\n",
       "      <td>20fab46488653226819bce33a4904dc2412ddf88</td>\n",
       "      <td>NaN</td>\n",
       "      <td>4/01 07:00</td>\n",
       "      <td>...</td>\n",
       "      <td>1.0</td>\n",
       "      <td>1.0</td>\n",
       "      <td>Please stop using the \"total\" field. Use \"tota...</td>\n",
       "      <td>897.0</td>\n",
       "      <td>286</td>\n",
       "      <td>1.0</td>\n",
       "      <td>4.0</td>\n",
       "      <td>PR</td>\n",
       "      <td>2592</td>\n",
       "      <td>1695</td>\n",
       "    </tr>\n",
       "    <tr>\n",
       "      <th>52</th>\n",
       "      <td>4/01 14:17</td>\n",
       "      <td>NaN</td>\n",
       "      <td>2020-04-01T18:17:00Z</td>\n",
       "      <td>2020-03-31T03:00:00Z</td>\n",
       "      <td>0.0</td>\n",
       "      <td>60</td>\n",
       "      <td>NaN</td>\n",
       "      <td>8531dd8e4759f47a23cc0a0a8ca183c2dadb711e</td>\n",
       "      <td>NaN</td>\n",
       "      <td>3/30 23:00</td>\n",
       "      <td>...</td>\n",
       "      <td>NaN</td>\n",
       "      <td>NaN</td>\n",
       "      <td>Please stop using the \"total\" field. Use \"tota...</td>\n",
       "      <td>6.0</td>\n",
       "      <td>0</td>\n",
       "      <td>NaN</td>\n",
       "      <td>NaN</td>\n",
       "      <td>AS</td>\n",
       "      <td>26</td>\n",
       "      <td>20</td>\n",
       "    </tr>\n",
       "    <tr>\n",
       "      <th>53</th>\n",
       "      <td>4/01 13:15</td>\n",
       "      <td>NaN</td>\n",
       "      <td>2020-04-01T17:15:00Z</td>\n",
       "      <td>2020-04-01T12:30:00Z</td>\n",
       "      <td>3.0</td>\n",
       "      <td>66</td>\n",
       "      <td>NaN</td>\n",
       "      <td>64ed506c70a6a08c2e9c47b46248eb7dbafe76fe</td>\n",
       "      <td>19.0</td>\n",
       "      <td>4/01 08:30</td>\n",
       "      <td>...</td>\n",
       "      <td>NaN</td>\n",
       "      <td>NaN</td>\n",
       "      <td>Please stop using the \"total\" field. Use \"tota...</td>\n",
       "      <td>NaN</td>\n",
       "      <td>77</td>\n",
       "      <td>NaN</td>\n",
       "      <td>NaN</td>\n",
       "      <td>GU</td>\n",
       "      <td>483</td>\n",
       "      <td>483</td>\n",
       "    </tr>\n",
       "    <tr>\n",
       "      <th>54</th>\n",
       "      <td>4/01 23:34</td>\n",
       "      <td>NaN</td>\n",
       "      <td>2020-04-02T03:34:00Z</td>\n",
       "      <td>2020-04-01T04:00:00Z</td>\n",
       "      <td>1.0</td>\n",
       "      <td>69</td>\n",
       "      <td>NaN</td>\n",
       "      <td>56a13fb86964ed9dd9034b183a9c0a826bcb7881</td>\n",
       "      <td>NaN</td>\n",
       "      <td>4/01 00:00</td>\n",
       "      <td>...</td>\n",
       "      <td>NaN</td>\n",
       "      <td>NaN</td>\n",
       "      <td>Please stop using the \"total\" field. Use \"tota...</td>\n",
       "      <td>12.0</td>\n",
       "      <td>6</td>\n",
       "      <td>NaN</td>\n",
       "      <td>NaN</td>\n",
       "      <td>MP</td>\n",
       "      <td>31</td>\n",
       "      <td>19</td>\n",
       "    </tr>\n",
       "    <tr>\n",
       "      <th>55</th>\n",
       "      <td>4/01 23:00</td>\n",
       "      <td>NaN</td>\n",
       "      <td>2020-04-02T03:00:00Z</td>\n",
       "      <td>2020-04-01T21:00:00Z</td>\n",
       "      <td>NaN</td>\n",
       "      <td>78</td>\n",
       "      <td>NaN</td>\n",
       "      <td>fb75692b42f0ae4f637c5605279e1a7cc5c1c187</td>\n",
       "      <td>NaN</td>\n",
       "      <td>4/01 17:00</td>\n",
       "      <td>...</td>\n",
       "      <td>NaN</td>\n",
       "      <td>NaN</td>\n",
       "      <td>Please stop using the \"total\" field. Use \"tota...</td>\n",
       "      <td>24.0</td>\n",
       "      <td>30</td>\n",
       "      <td>NaN</td>\n",
       "      <td>NaN</td>\n",
       "      <td>VI</td>\n",
       "      <td>180</td>\n",
       "      <td>156</td>\n",
       "    </tr>\n",
       "  </tbody>\n",
       "</table>\n",
       "<p>56 rows × 21 columns</p>\n",
       "</div>"
      ],
      "text/plain": [
       "   checkTimeEt  commercialScore           dateChecked          dateModified  \\\n",
       "0   4/01 22:34              1.0  2020-04-02T02:34:00Z  2020-04-01T23:00:00Z   \n",
       "1   4/01 22:35              1.0  2020-04-02T02:35:00Z  2020-04-01T04:00:00Z   \n",
       "2   4/01 23:56              1.0  2020-04-02T03:56:00Z  2020-04-02T00:20:00Z   \n",
       "3   4/01 22:16              1.0  2020-04-02T02:16:00Z  2020-04-01T04:00:00Z   \n",
       "4   4/01 22:34              0.0  2020-04-02T02:34:00Z  2020-04-01T04:00:00Z   \n",
       "5   4/01 23:01              1.0  2020-04-02T03:01:00Z  2020-04-01T04:00:00Z   \n",
       "6   4/01 16:36              1.0  2020-04-01T20:36:00Z  2020-04-01T17:30:00Z   \n",
       "7   4/01 14:10              1.0  2020-04-01T18:10:00Z  2020-04-01T01:24:00Z   \n",
       "8   4/01 16:21              1.0  2020-04-01T20:21:00Z  2020-04-01T16:30:00Z   \n",
       "9   4/01 22:43              1.0  2020-04-02T02:43:00Z  2020-04-01T21:30:00Z   \n",
       "10  4/01 23:14              1.0  2020-04-02T03:14:00Z  2020-04-01T22:28:00Z   \n",
       "11  4/01 23:18              1.0  2020-04-02T03:18:00Z  2020-04-01T22:00:00Z   \n",
       "12  4/01 15:12              1.0  2020-04-01T19:12:00Z  2020-04-01T18:40:00Z   \n",
       "13  4/01 23:31              1.0  2020-04-02T03:31:00Z  2020-04-01T23:00:00Z   \n",
       "14  4/01 22:22              1.0  2020-04-02T02:22:00Z  2020-04-01T04:00:00Z   \n",
       "15  4/01 15:18              0.0  2020-04-01T19:18:00Z  2020-04-01T04:59:00Z   \n",
       "16  4/01 16:22              0.0  2020-04-01T20:22:00Z  2020-04-01T15:00:00Z   \n",
       "17  4/01 23:32              1.0  2020-04-02T03:32:00Z  2020-04-01T21:00:00Z   \n",
       "18  4/01 15:21              1.0  2020-04-01T19:21:00Z  2020-04-01T17:00:00Z   \n",
       "19  4/01 16:17              1.0  2020-04-01T20:17:00Z  2020-03-31T16:30:00Z   \n",
       "20  4/01 15:25              1.0  2020-04-01T19:25:00Z  2020-04-01T14:00:00Z   \n",
       "21  4/01 16:16              1.0  2020-04-01T20:16:00Z  2020-04-01T15:00:00Z   \n",
       "22  4/01 22:33              1.0  2020-04-02T02:33:00Z  2020-04-01T15:00:00Z   \n",
       "23  4/01 15:32              1.0  2020-04-01T19:32:00Z  2020-04-01T16:00:00Z   \n",
       "24  4/01 22:46              1.0  2020-04-02T02:46:00Z  2020-04-01T19:00:00Z   \n",
       "25  4/01 16:26              0.0  2020-04-01T20:26:00Z  2020-03-31T23:00:00Z   \n",
       "26  4/01 23:36              1.0  2020-04-02T03:36:00Z  2020-04-01T22:30:00Z   \n",
       "27  4/01 15:13              1.0  2020-04-01T19:13:00Z  2020-04-01T15:00:00Z   \n",
       "28  4/01 23:36              0.0  2020-04-02T03:36:00Z  2020-04-01T22:02:00Z   \n",
       "29  4/01 23:11              1.0  2020-04-02T03:11:00Z  2020-04-01T04:00:00Z   \n",
       "30  4/01 23:37              0.0  2020-04-02T03:37:00Z  2020-04-01T13:00:00Z   \n",
       "31  4/01 22:51              1.0  2020-04-02T02:51:00Z  2020-04-01T17:00:00Z   \n",
       "32  4/01 23:08              1.0  2020-04-02T03:08:00Z  2020-04-01T04:00:00Z   \n",
       "33  4/01 23:08              1.0  2020-04-02T03:08:00Z  2020-04-01T13:30:00Z   \n",
       "34  4/01 17:02              1.0  2020-04-01T21:02:00Z  2020-04-01T16:00:00Z   \n",
       "35  4/01 15:51              1.0  2020-04-01T19:51:00Z  2020-04-01T18:00:00Z   \n",
       "36  4/01 22:28              0.0  2020-04-02T02:28:00Z  2020-04-01T12:00:00Z   \n",
       "37  4/01 23:05              1.0  2020-04-02T03:05:00Z  2020-04-01T15:00:00Z   \n",
       "38  4/01 15:10              1.0  2020-04-01T19:10:00Z  2020-04-01T16:00:00Z   \n",
       "39  4/01 16:13              0.0  2020-04-01T20:13:00Z  2020-04-01T19:58:00Z   \n",
       "40  4/01 16:03              0.0  2020-04-01T20:03:00Z  2020-04-01T19:55:00Z   \n",
       "41  4/01 15:12              1.0  2020-04-01T19:12:00Z  2020-04-01T16:30:00Z   \n",
       "42  4/01 15:48              1.0  2020-04-01T19:48:00Z  2020-04-01T19:00:00Z   \n",
       "43  4/01 13:31              1.0  2020-04-01T17:31:00Z  2020-04-01T01:00:00Z   \n",
       "44  4/01 16:01              1.0  2020-04-01T20:01:00Z  2020-04-01T19:00:00Z   \n",
       "45  4/01 23:37              1.0  2020-04-02T03:37:00Z  2020-04-01T17:00:00Z   \n",
       "46  4/01 22:58              1.0  2020-04-02T02:58:00Z  2020-04-01T17:00:00Z   \n",
       "47  4/02 00:00              1.0  2020-04-02T04:00:00Z  2020-04-02T02:51:00Z   \n",
       "48  4/01 22:30              1.0  2020-04-02T02:30:00Z  2020-04-01T20:00:00Z   \n",
       "49  4/01 22:56              0.0  2020-04-02T02:56:00Z  2020-04-01T16:00:00Z   \n",
       "50  4/01 22:43              1.0  2020-04-02T02:43:00Z  2020-04-02T00:00:00Z   \n",
       "51  4/01 23:40              1.0  2020-04-02T03:40:00Z  2020-04-01T11:00:00Z   \n",
       "52  4/01 14:17              NaN  2020-04-01T18:17:00Z  2020-03-31T03:00:00Z   \n",
       "53  4/01 13:15              NaN  2020-04-01T17:15:00Z  2020-04-01T12:30:00Z   \n",
       "54  4/01 23:34              NaN  2020-04-02T03:34:00Z  2020-04-01T04:00:00Z   \n",
       "55  4/01 23:00              NaN  2020-04-02T03:00:00Z  2020-04-01T21:00:00Z   \n",
       "\n",
       "     death fips grade                                      hash  hospitalized  \\\n",
       "0      3.0   02     A  baf5608924f257e809bac324daffa0ecaa742f31           9.0   \n",
       "1     28.0   01     B  6d740a9ac8fb7757ed2593bf40e9b5ee913a7a3f           NaN   \n",
       "2     10.0   05     A  4940adc9942f4364cf19d43f40617f2490edb726          90.0   \n",
       "3     29.0   04     B  01bf26424329f52ea5802c27962a5cb55327e76c         149.0   \n",
       "4    171.0   06     B  53c7f26a928cbd6de1c4047a7cdff563904e3ade        1855.0   \n",
       "5     80.0   08     A  8b37d6b5fc58f18899ff5bd12a3d6fb301fa7d06         620.0   \n",
       "6     85.0   09     A  1bd60bdace49ea475f54e5eb653ec703578e1b55         766.0   \n",
       "7     11.0   11     A  f663d280ce2780e18d56f1d93285028ea4eefd9b           NaN   \n",
       "8     11.0   10     A  1c8615bd94b1849477a8cb7c382cbf0e589ac2a3          57.0   \n",
       "9     97.0   12     A  d5d70b781f03dccb6b98fefc81975323a8f79249        1043.0   \n",
       "10   154.0   13     A  2ad812f025cb4866ea64f8cf584f6477bb375927        1013.0   \n",
       "11     1.0   15     A  27ddc299539d39e2adcf8b0bc4e5e810f41f6cff          15.0   \n",
       "12     9.0   19     A  3cde5316c6f2213628879a8722bd6aef5229ca79          99.0   \n",
       "13     9.0   16     A  aac2b92c9ef9479c324e10c98d553fbad1e91f7b          49.0   \n",
       "14   141.0   17     A  92898f0594a657a43a314cd9dda7ccbd09908fe7           NaN   \n",
       "15    65.0   18     B  03f65ad4c449cba23bf074d5037cfb2d7d11bbce           NaN   \n",
       "16    10.0   20     B  cb36611dab2f5a3581d432a223eac13054247adf         114.0   \n",
       "17    20.0   21     A  c66e04f4d54a0186fd830d6e0480396cb66f45c9           NaN   \n",
       "18   273.0   22     A  484e23d4502617be9ec5f2a5aa82e396d622b2a1        1498.0   \n",
       "19   122.0   25     B  0f69110f10002f087f48393c574c95d590a9bccb         682.0   \n",
       "20    31.0   24     A  47756378194ba859244cb661093c1eb3dc61bcd7         522.0   \n",
       "21     7.0   23     A  9dd62e521052927448ad9b1bd5c6c37c3985fe02          63.0   \n",
       "22   337.0   26     B  6c91709862893698114b677646c6db166b8d477c           NaN   \n",
       "23    17.0   27     A  120d6854b46ca7b0bb73177e153b696cfcaaf9e4         122.0   \n",
       "24    18.0   29     A  0964ae8fa867429d2f6fdd252040a72ea7b2b0ce           NaN   \n",
       "25    22.0   28     B  e3173d0075089af20bba64262bd8e7ebab4e5839         332.0   \n",
       "26     5.0   30     A  7a8182c884843a314eca4c1c6c97ea0e76a2d078          19.0   \n",
       "27    10.0   37     A  a28417c3b8000fac8905097336eb4d07e94833a9         204.0   \n",
       "28     3.0   38     B  6951b7cafb285acbe7a93f2d66ea70f49feda16e          26.0   \n",
       "29     4.0   31     A  4f18623d18873cbb73da61aae14911a5c875cbb0           NaN   \n",
       "30     4.0   33     B  beedd39a15931da6221548d582a7e4a8b462592d          59.0   \n",
       "31   355.0   34     A  f16bb2e3addea0ee6e6cd714baddf80ed74f880d           NaN   \n",
       "32     6.0   35     A  6b250429ad97c6f3f481814220f1baac90770c06          31.0   \n",
       "33    32.0   32     A  546b31ae44dc9e98bb778fdde43e96287617bee3           NaN   \n",
       "34  1941.0   36     A  60187a3fd527a39c919d2e2709988cff60617213       18368.0   \n",
       "35    65.0   39     B  92903db3691868ba22854e48b57e622b5a2227f4         679.0   \n",
       "36    30.0   40     B  79ae9de30becf99e4adfeee326d9c2cd5276856a         219.0   \n",
       "37    19.0   41     A  a6e1aa757cc85ef3972f1ef0452f1634424d15ee         167.0   \n",
       "38    74.0   42     A  3b8f11d4a9338567c888167b2b79136926e66388         620.0   \n",
       "39    10.0   44     B  aa5072ab25ca699ed65fd32bc156bdd311833376          60.0   \n",
       "40    26.0   45     B  d807950775ce708236cb10a0507d199dba183eef         349.0   \n",
       "41     2.0   46     A  3e09cd7a7c9e941c4e844f352edcb6092d129cc5          12.0   \n",
       "42    24.0   47     A  bbf74f3512a5a663b06474ceddd603cbd87aae18         200.0   \n",
       "43    58.0   48     A  6ac14d684020a027f408ad6bd90b00e1b96a664e         196.0   \n",
       "44     7.0   49     A  264de2fb620edf4b26bd57517e388663d688ce57          91.0   \n",
       "45    34.0   51     A  b04ce0125420d0d5a6a1b280c2dc64e67f1dbc6c         305.0   \n",
       "46    16.0   50     A  e6845be582c6e20d9b057fc032a4247f3124e932          45.0   \n",
       "47   247.0   53     A  d0d01fdb90948480c3f57205f480c90a9fdb042e         254.0   \n",
       "48    24.0   55     A  79caf44ff666ae1907f613609ab72f65c8281be3         398.0   \n",
       "49     2.0   54     B  0ade118e985e43caa44f09f4bca62ed46b2a073a           1.0   \n",
       "50     0.0   56     A  777cf5743c9cf52db55cdf1890b88f4e385ce3cc          20.0   \n",
       "51    11.0   72     A  20fab46488653226819bce33a4904dc2412ddf88           NaN   \n",
       "52     0.0   60   NaN  8531dd8e4759f47a23cc0a0a8ca183c2dadb711e           NaN   \n",
       "53     3.0   66   NaN  64ed506c70a6a08c2e9c47b46248eb7dbafe76fe          19.0   \n",
       "54     1.0   69   NaN  56a13fb86964ed9dd9034b183a9c0a826bcb7881           NaN   \n",
       "55     NaN   78   NaN  fb75692b42f0ae4f637c5605279e1a7cc5c1c187           NaN   \n",
       "\n",
       "   lastUpdateEt  ...  negativeRegularScore  negativeScore  \\\n",
       "0    4/01 19:00  ...                   1.0            1.0   \n",
       "1    4/01 00:00  ...                   0.0            1.0   \n",
       "2    4/01 20:20  ...                   1.0            1.0   \n",
       "3    4/01 00:00  ...                   0.0            1.0   \n",
       "4    4/01 00:00  ...                   1.0            1.0   \n",
       "5    4/01 00:00  ...                   1.0            1.0   \n",
       "6    4/01 13:30  ...                   1.0            1.0   \n",
       "7    3/31 21:24  ...                   1.0            1.0   \n",
       "8    4/01 12:30  ...                   1.0            1.0   \n",
       "9    4/01 17:30  ...                   1.0            1.0   \n",
       "10   4/01 18:28  ...                   1.0            1.0   \n",
       "11   4/01 18:00  ...                   1.0            1.0   \n",
       "12   4/01 14:40  ...                   1.0            1.0   \n",
       "13   4/01 19:00  ...                   1.0            1.0   \n",
       "14   4/01 00:00  ...                   1.0            1.0   \n",
       "15   4/01 00:59  ...                   1.0            1.0   \n",
       "16   4/01 11:00  ...                   1.0            1.0   \n",
       "17   4/01 17:00  ...                   1.0            1.0   \n",
       "18   4/01 13:00  ...                   1.0            1.0   \n",
       "19   3/31 12:30  ...                   0.0            1.0   \n",
       "20   4/01 10:00  ...                   1.0            1.0   \n",
       "21   4/01 11:00  ...                   1.0            1.0   \n",
       "22   4/01 11:00  ...                   0.0            1.0   \n",
       "23   4/01 12:00  ...                   1.0            1.0   \n",
       "24   4/01 15:00  ...                   1.0            1.0   \n",
       "25   3/31 19:00  ...                   1.0            1.0   \n",
       "26   4/01 18:30  ...                   1.0            1.0   \n",
       "27   4/01 11:00  ...                   1.0            1.0   \n",
       "28   4/01 18:02  ...                   1.0            1.0   \n",
       "29   4/01 00:00  ...                   1.0            1.0   \n",
       "30   4/01 09:00  ...                   1.0            1.0   \n",
       "31   4/01 13:00  ...                   1.0            1.0   \n",
       "32   4/01 00:00  ...                   1.0            1.0   \n",
       "33   4/01 09:30  ...                   1.0            1.0   \n",
       "34   4/01 12:00  ...                   1.0            1.0   \n",
       "35   4/01 14:00  ...                   0.0            1.0   \n",
       "36   4/01 08:00  ...                   1.0            1.0   \n",
       "37   4/01 11:00  ...                   1.0            1.0   \n",
       "38   4/01 12:00  ...                   1.0            1.0   \n",
       "39   4/01 15:58  ...                   1.0            1.0   \n",
       "40   4/01 15:55  ...                   1.0            1.0   \n",
       "41   4/01 12:30  ...                   1.0            1.0   \n",
       "42   4/01 15:00  ...                   1.0            1.0   \n",
       "43   3/31 21:00  ...                   1.0            1.0   \n",
       "44   4/01 15:00  ...                   1.0            1.0   \n",
       "45   4/01 13:00  ...                   1.0            1.0   \n",
       "46   4/01 13:00  ...                   1.0            1.0   \n",
       "47   4/01 22:51  ...                   1.0            1.0   \n",
       "48   4/01 16:00  ...                   1.0            1.0   \n",
       "49   4/01 12:00  ...                   1.0            1.0   \n",
       "50   4/01 20:00  ...                   1.0            1.0   \n",
       "51   4/01 07:00  ...                   1.0            1.0   \n",
       "52   3/30 23:00  ...                   NaN            NaN   \n",
       "53   4/01 08:30  ...                   NaN            NaN   \n",
       "54   4/01 00:00  ...                   NaN            NaN   \n",
       "55   4/01 17:00  ...                   NaN            NaN   \n",
       "\n",
       "                                                notes  pending  positive  \\\n",
       "0   Please stop using the \"total\" field. Use \"tota...      NaN       143   \n",
       "1   Please stop using the \"total\" field. Use \"tota...      NaN      1106   \n",
       "2   Please stop using the \"total\" field. Use \"tota...      NaN       624   \n",
       "3   Please stop using the \"total\" field. Use \"tota...      NaN      1413   \n",
       "4   Please stop using the \"total\" field. Use \"tota...  59100.0      8155   \n",
       "5   Please stop using the \"total\" field. Use \"tota...      NaN      3342   \n",
       "6   Please stop using the \"total\" field. Use \"tota...      NaN      3557   \n",
       "7   Please stop using the \"total\" field. Use \"tota...      2.0       586   \n",
       "8   Please stop using the \"total\" field. Use \"tota...      NaN       368   \n",
       "9   Please stop using the \"total\" field. Use \"tota...   1329.0      7559   \n",
       "10  Please stop using the \"total\" field. Use \"tota...      NaN      4748   \n",
       "11  Please stop using the \"total\" field. Use \"tota...     18.0       258   \n",
       "12  Please stop using the \"total\" field. Use \"tota...      NaN       549   \n",
       "13  Please stop using the \"total\" field. Use \"tota...      NaN       673   \n",
       "14  Please stop using the \"total\" field. Use \"tota...      NaN      6980   \n",
       "15  Please stop using the \"total\" field. Use \"tota...      NaN      2565   \n",
       "16  Please stop using the \"total\" field. Use \"tota...      NaN       482   \n",
       "17  Please stop using the \"total\" field. Use \"tota...      NaN       680   \n",
       "18  Please stop using the \"total\" field. Use \"tota...      NaN      6424   \n",
       "19  Please stop using the \"total\" field. Use \"tota...      NaN      7738   \n",
       "20  Please stop using the \"total\" field. Use \"tota...      NaN      1985   \n",
       "21  Please stop using the \"total\" field. Use \"tota...      NaN       344   \n",
       "22  Please stop using the \"total\" field. Use \"tota...      NaN      9334   \n",
       "23  Please stop using the \"total\" field. Use \"tota...      NaN       689   \n",
       "24  Please stop using the \"total\" field. Use \"tota...      NaN      1581   \n",
       "25  Please stop using the \"total\" field. Use \"tota...      NaN      1073   \n",
       "26  Please stop using the \"total\" field. Use \"tota...      NaN       217   \n",
       "27  Please stop using the \"total\" field. Use \"tota...      NaN      1584   \n",
       "28  Please stop using the \"total\" field. Use \"tota...      NaN       147   \n",
       "29  Please stop using the \"total\" field. Use \"tota...      8.0       214   \n",
       "30  Please stop using the \"total\" field. Use \"tota...    126.0       415   \n",
       "31  Please stop using the \"total\" field. Use \"tota...      NaN     22255   \n",
       "32  Please stop using the \"total\" field. Use \"tota...      NaN       363   \n",
       "33  Please stop using the \"total\" field. Use \"tota...      NaN      1279   \n",
       "34  Please stop using the \"total\" field. Use \"tota...      NaN     83712   \n",
       "35  Please stop using the \"total\" field. Use \"tota...      NaN      2547   \n",
       "36  Please stop using the \"total\" field. Use \"tota...      NaN       719   \n",
       "37  Please stop using the \"total\" field. Use \"tota...      NaN       736   \n",
       "38  Please stop using the \"total\" field. Use \"tota...      NaN      5805   \n",
       "39  Please stop using the \"total\" field. Use \"tota...      NaN       566   \n",
       "40  Please stop using the \"total\" field. Use \"tota...      NaN      1293   \n",
       "41  Please stop using the \"total\" field. Use \"tota...      0.0       129   \n",
       "42  Please stop using the \"total\" field. Use \"tota...      NaN      2683   \n",
       "43  Please stop using the \"total\" field. Use \"tota...      NaN      3997   \n",
       "44  Please stop using the \"total\" field. Use \"tota...      NaN      1012   \n",
       "45  Please stop using the \"total\" field. Use \"tota...      NaN      1484   \n",
       "46  Please stop using the \"total\" field. Use \"tota...      NaN       321   \n",
       "47  Please stop using the \"total\" field. Use \"tota...      NaN      5984   \n",
       "48  Please stop using the \"total\" field. Use \"tota...      NaN      1550   \n",
       "49  Please stop using the \"total\" field. Use \"tota...      NaN       191   \n",
       "50  Please stop using the \"total\" field. Use \"tota...      NaN       137   \n",
       "51  Please stop using the \"total\" field. Use \"tota...    897.0       286   \n",
       "52  Please stop using the \"total\" field. Use \"tota...      6.0         0   \n",
       "53  Please stop using the \"total\" field. Use \"tota...      NaN        77   \n",
       "54  Please stop using the \"total\" field. Use \"tota...     12.0         6   \n",
       "55  Please stop using the \"total\" field. Use \"tota...     24.0        30   \n",
       "\n",
       "    positiveScore  score  state   total  totalTestResults  \n",
       "0             1.0    4.0     AK    5022              5022  \n",
       "1             1.0    3.0     AL    7803              7803  \n",
       "2             1.0    4.0     AR    8460              8460  \n",
       "3             1.0    3.0     AZ   21058             21058  \n",
       "4             1.0    3.0     CA   90138             31038  \n",
       "5             1.0    4.0     CO   18645             18645  \n",
       "6             1.0    4.0     CT   16600             16600  \n",
       "7             1.0    4.0     DC    3850              3848  \n",
       "8             1.0    4.0     DE    4383              4383  \n",
       "9             1.0    4.0     FL   69244             67915  \n",
       "10            1.0    4.0     GA   20438             20438  \n",
       "11            1.0    4.0     HI   10482             10464  \n",
       "12            1.0    4.0     IA    7853              7853  \n",
       "13            1.0    4.0     ID    7282              7282  \n",
       "14            1.0    4.0     IL   40384             40384  \n",
       "15            1.0    3.0     IN   14375             14375  \n",
       "16            1.0    3.0     KS    5893              5893  \n",
       "17            1.0    4.0     KY    7900              7900  \n",
       "18            1.0    4.0     LA   45776             45776  \n",
       "19            1.0    3.0     MA   51738             51738  \n",
       "20            1.0    4.0     MD   19218             19218  \n",
       "21            1.0    4.0     ME    6432              6432  \n",
       "22            1.0    3.0     MI   21227             21227  \n",
       "23            1.0    4.0     MN   21191             21191  \n",
       "24            1.0    4.0     MO   17427             17427  \n",
       "25            1.0    3.0     MS    4785              4785  \n",
       "26            1.0    4.0     MT    5088              5088  \n",
       "27            1.0    4.0     NC   26243             26243  \n",
       "28            1.0    3.0     ND    4627              4627  \n",
       "29            1.0    4.0     NE    3812              3804  \n",
       "30            1.0    3.0     NH    6619              6493  \n",
       "31            1.0    4.0     NJ   52642             52642  \n",
       "32            1.0    4.0     NM   14011             14011  \n",
       "33            1.0    4.0     NV   12798             12798  \n",
       "34            1.0    4.0     NY  220880            220880  \n",
       "35            1.0    3.0     OH   29539             29539  \n",
       "36            1.0    3.0     OK    1967              1967  \n",
       "37            1.0    4.0     OR   14868             14868  \n",
       "38            1.0    4.0     PA   48232             48232  \n",
       "39            1.0    3.0     RI    4397              4397  \n",
       "40            1.0    3.0     SC    6326              6326  \n",
       "41            1.0    4.0     SD    4032              4032  \n",
       "42            1.0    4.0     TN   32452             32452  \n",
       "43            1.0    4.0     TX   47857             47857  \n",
       "44            1.0    4.0     UT   21167             21167  \n",
       "45            1.0    4.0     VA   15344             15344  \n",
       "46            1.0    4.0     VT    4495              4495  \n",
       "47            1.0    4.0     WA   74798             74798  \n",
       "48            1.0    4.0     WI   20369             20369  \n",
       "49            1.0    3.0     WV    4575              4575  \n",
       "50            1.0    4.0     WY    2465              2465  \n",
       "51            1.0    4.0     PR    2592              1695  \n",
       "52            NaN    NaN     AS      26                20  \n",
       "53            NaN    NaN     GU     483               483  \n",
       "54            NaN    NaN     MP      31                19  \n",
       "55            NaN    NaN     VI     180               156  \n",
       "\n",
       "[56 rows x 21 columns]"
      ]
     },
     "execution_count": 13,
     "metadata": {},
     "output_type": "execute_result"
    }
   ],
   "source": [
    "df = json_normalize(data, ['current'])\n",
    "df"
   ]
  },
  {
   "cell_type": "code",
   "execution_count": 17,
   "metadata": {},
   "outputs": [
    {
     "data": {
      "text/plain": [
       "array(['AK', 'AL', 'AR', 'AZ', 'CA', 'CO', 'CT', 'DC', 'DE', 'FL', 'GA',\n",
       "       'HI', 'IA', 'ID', 'IL', 'IN', 'KS', 'KY', 'LA', 'MA', 'MD', 'ME',\n",
       "       'MI', 'MN', 'MO', 'MS', 'MT', 'NC', 'ND', 'NE', 'NH', 'NJ', 'NM',\n",
       "       'NV', 'NY', 'OH', 'OK', 'OR', 'PA', 'RI', 'SC', 'SD', 'TN', 'TX',\n",
       "       'UT', 'VA', 'VT', 'WA', 'WI', 'WV', 'WY', 'PR', 'AS', 'GU', 'MP',\n",
       "       'VI'], dtype=object)"
      ]
     },
     "execution_count": 17,
     "metadata": {},
     "output_type": "execute_result"
    }
   ],
   "source": [
    "df.state.unique()"
   ]
  },
  {
   "cell_type": "markdown",
   "metadata": {},
   "source": [
    "There are a total of 56 US \"states\". Given that the US only has 50 states, U.S. territories are included."
   ]
  },
  {
   "cell_type": "markdown",
   "metadata": {},
   "source": [
    "All the data is current. Let's see distribution of data points."
   ]
  },
  {
   "cell_type": "code",
   "execution_count": 21,
   "metadata": {},
   "outputs": [
    {
     "data": {
      "application/vnd.plotly.v1+json": {
       "config": {
        "plotlyServerURL": "https://plot.ly"
       },
       "data": [
        {
         "alignmentgroup": "True",
         "customdata": [
          [
           4879,
           3
          ],
          [
           6697,
           28
          ],
          [
           7836,
           10
          ],
          [
           19645,
           29
          ],
          [
           22883,
           171
          ],
          [
           15303,
           80
          ],
          [
           13043,
           85
          ],
          [
           3262,
           11
          ],
          [
           4015,
           11
          ],
          [
           60356,
           97
          ],
          [
           15690,
           154
          ],
          [
           10206,
           1
          ],
          [
           7304,
           9
          ],
          [
           6609,
           9
          ],
          [
           33404,
           141
          ],
          [
           11810,
           65
          ],
          [
           5411,
           10
          ],
          [
           7220,
           20
          ],
          [
           39352,
           273
          ],
          [
           44000,
           122
          ],
          [
           17233,
           31
          ],
          [
           6088,
           7
          ],
          [
           11893,
           337
          ],
          [
           20502,
           17
          ],
          [
           15846,
           18
          ],
          [
           3712,
           22
          ],
          [
           4871,
           5
          ],
          [
           24659,
           10
          ],
          [
           4480,
           3
          ],
          [
           3590,
           4
          ],
          [
           6078,
           4
          ],
          [
           30387,
           355
          ],
          [
           13648,
           6
          ],
          [
           11519,
           32
          ],
          [
           137168,
           1941
          ],
          [
           26992,
           65
          ],
          [
           1248,
           30
          ],
          [
           14132,
           19
          ],
          [
           42427,
           74
          ],
          [
           3831,
           10
          ],
          [
           5033,
           26
          ],
          [
           3903,
           2
          ],
          [
           29769,
           24
          ],
          [
           43860,
           58
          ],
          [
           20155,
           7
          ],
          [
           13860,
           34
          ],
          [
           4174,
           16
          ],
          [
           68814,
           247
          ],
          [
           18819,
           24
          ],
          [
           4384,
           2
          ],
          [
           2328,
           0
          ],
          [
           1409,
           11
          ],
          [
           20,
           0
          ],
          [
           406,
           3
          ],
          [
           13,
           1
          ],
          [
           126,
           null
          ]
         ],
         "hoverlabel": {
          "namelength": 0
         },
         "hovertemplate": "state=%{x}<br>Total Test Results=%{marker.color}<br>negative=%{customdata[0]}<br>death=%{customdata[1]}",
         "legendgroup": "",
         "marker": {
          "color": [
           5022,
           7803,
           8460,
           21058,
           31038,
           18645,
           16600,
           3848,
           4383,
           67915,
           20438,
           10464,
           7853,
           7282,
           40384,
           14375,
           5893,
           7900,
           45776,
           51738,
           19218,
           6432,
           21227,
           21191,
           17427,
           4785,
           5088,
           26243,
           4627,
           3804,
           6493,
           52642,
           14011,
           12798,
           220880,
           29539,
           1967,
           14868,
           48232,
           4397,
           6326,
           4032,
           32452,
           47857,
           21167,
           15344,
           4495,
           74798,
           20369,
           4575,
           2465,
           1695,
           20,
           483,
           19,
           156
          ],
          "coloraxis": "coloraxis"
         },
         "name": "",
         "offsetgroup": "",
         "orientation": "v",
         "showlegend": false,
         "textposition": "auto",
         "type": "bar",
         "x": [
          "AK",
          "AL",
          "AR",
          "AZ",
          "CA",
          "CO",
          "CT",
          "DC",
          "DE",
          "FL",
          "GA",
          "HI",
          "IA",
          "ID",
          "IL",
          "IN",
          "KS",
          "KY",
          "LA",
          "MA",
          "MD",
          "ME",
          "MI",
          "MN",
          "MO",
          "MS",
          "MT",
          "NC",
          "ND",
          "NE",
          "NH",
          "NJ",
          "NM",
          "NV",
          "NY",
          "OH",
          "OK",
          "OR",
          "PA",
          "RI",
          "SC",
          "SD",
          "TN",
          "TX",
          "UT",
          "VA",
          "VT",
          "WA",
          "WI",
          "WV",
          "WY",
          "PR",
          "AS",
          "GU",
          "MP",
          "VI"
         ],
         "xaxis": "x",
         "y": [
          5022,
          7803,
          8460,
          21058,
          31038,
          18645,
          16600,
          3848,
          4383,
          67915,
          20438,
          10464,
          7853,
          7282,
          40384,
          14375,
          5893,
          7900,
          45776,
          51738,
          19218,
          6432,
          21227,
          21191,
          17427,
          4785,
          5088,
          26243,
          4627,
          3804,
          6493,
          52642,
          14011,
          12798,
          220880,
          29539,
          1967,
          14868,
          48232,
          4397,
          6326,
          4032,
          32452,
          47857,
          21167,
          15344,
          4495,
          74798,
          20369,
          4575,
          2465,
          1695,
          20,
          483,
          19,
          156
         ],
         "yaxis": "y"
        }
       ],
       "layout": {
        "barmode": "relative",
        "coloraxis": {
         "colorbar": {
          "title": {
           "text": "Total Test Results"
          }
         },
         "colorscale": [
          [
           0,
           "#0d0887"
          ],
          [
           0.1111111111111111,
           "#46039f"
          ],
          [
           0.2222222222222222,
           "#7201a8"
          ],
          [
           0.3333333333333333,
           "#9c179e"
          ],
          [
           0.4444444444444444,
           "#bd3786"
          ],
          [
           0.5555555555555556,
           "#d8576b"
          ],
          [
           0.6666666666666666,
           "#ed7953"
          ],
          [
           0.7777777777777778,
           "#fb9f3a"
          ],
          [
           0.8888888888888888,
           "#fdca26"
          ],
          [
           1,
           "#f0f921"
          ]
         ]
        },
        "height": 400,
        "legend": {
         "tracegroupgap": 0
        },
        "margin": {
         "t": 60
        },
        "template": {
         "data": {
          "bar": [
           {
            "error_x": {
             "color": "#2a3f5f"
            },
            "error_y": {
             "color": "#2a3f5f"
            },
            "marker": {
             "line": {
              "color": "#E5ECF6",
              "width": 0.5
             }
            },
            "type": "bar"
           }
          ],
          "barpolar": [
           {
            "marker": {
             "line": {
              "color": "#E5ECF6",
              "width": 0.5
             }
            },
            "type": "barpolar"
           }
          ],
          "carpet": [
           {
            "aaxis": {
             "endlinecolor": "#2a3f5f",
             "gridcolor": "white",
             "linecolor": "white",
             "minorgridcolor": "white",
             "startlinecolor": "#2a3f5f"
            },
            "baxis": {
             "endlinecolor": "#2a3f5f",
             "gridcolor": "white",
             "linecolor": "white",
             "minorgridcolor": "white",
             "startlinecolor": "#2a3f5f"
            },
            "type": "carpet"
           }
          ],
          "choropleth": [
           {
            "colorbar": {
             "outlinewidth": 0,
             "ticks": ""
            },
            "type": "choropleth"
           }
          ],
          "contour": [
           {
            "colorbar": {
             "outlinewidth": 0,
             "ticks": ""
            },
            "colorscale": [
             [
              0,
              "#0d0887"
             ],
             [
              0.1111111111111111,
              "#46039f"
             ],
             [
              0.2222222222222222,
              "#7201a8"
             ],
             [
              0.3333333333333333,
              "#9c179e"
             ],
             [
              0.4444444444444444,
              "#bd3786"
             ],
             [
              0.5555555555555556,
              "#d8576b"
             ],
             [
              0.6666666666666666,
              "#ed7953"
             ],
             [
              0.7777777777777778,
              "#fb9f3a"
             ],
             [
              0.8888888888888888,
              "#fdca26"
             ],
             [
              1,
              "#f0f921"
             ]
            ],
            "type": "contour"
           }
          ],
          "contourcarpet": [
           {
            "colorbar": {
             "outlinewidth": 0,
             "ticks": ""
            },
            "type": "contourcarpet"
           }
          ],
          "heatmap": [
           {
            "colorbar": {
             "outlinewidth": 0,
             "ticks": ""
            },
            "colorscale": [
             [
              0,
              "#0d0887"
             ],
             [
              0.1111111111111111,
              "#46039f"
             ],
             [
              0.2222222222222222,
              "#7201a8"
             ],
             [
              0.3333333333333333,
              "#9c179e"
             ],
             [
              0.4444444444444444,
              "#bd3786"
             ],
             [
              0.5555555555555556,
              "#d8576b"
             ],
             [
              0.6666666666666666,
              "#ed7953"
             ],
             [
              0.7777777777777778,
              "#fb9f3a"
             ],
             [
              0.8888888888888888,
              "#fdca26"
             ],
             [
              1,
              "#f0f921"
             ]
            ],
            "type": "heatmap"
           }
          ],
          "heatmapgl": [
           {
            "colorbar": {
             "outlinewidth": 0,
             "ticks": ""
            },
            "colorscale": [
             [
              0,
              "#0d0887"
             ],
             [
              0.1111111111111111,
              "#46039f"
             ],
             [
              0.2222222222222222,
              "#7201a8"
             ],
             [
              0.3333333333333333,
              "#9c179e"
             ],
             [
              0.4444444444444444,
              "#bd3786"
             ],
             [
              0.5555555555555556,
              "#d8576b"
             ],
             [
              0.6666666666666666,
              "#ed7953"
             ],
             [
              0.7777777777777778,
              "#fb9f3a"
             ],
             [
              0.8888888888888888,
              "#fdca26"
             ],
             [
              1,
              "#f0f921"
             ]
            ],
            "type": "heatmapgl"
           }
          ],
          "histogram": [
           {
            "marker": {
             "colorbar": {
              "outlinewidth": 0,
              "ticks": ""
             }
            },
            "type": "histogram"
           }
          ],
          "histogram2d": [
           {
            "colorbar": {
             "outlinewidth": 0,
             "ticks": ""
            },
            "colorscale": [
             [
              0,
              "#0d0887"
             ],
             [
              0.1111111111111111,
              "#46039f"
             ],
             [
              0.2222222222222222,
              "#7201a8"
             ],
             [
              0.3333333333333333,
              "#9c179e"
             ],
             [
              0.4444444444444444,
              "#bd3786"
             ],
             [
              0.5555555555555556,
              "#d8576b"
             ],
             [
              0.6666666666666666,
              "#ed7953"
             ],
             [
              0.7777777777777778,
              "#fb9f3a"
             ],
             [
              0.8888888888888888,
              "#fdca26"
             ],
             [
              1,
              "#f0f921"
             ]
            ],
            "type": "histogram2d"
           }
          ],
          "histogram2dcontour": [
           {
            "colorbar": {
             "outlinewidth": 0,
             "ticks": ""
            },
            "colorscale": [
             [
              0,
              "#0d0887"
             ],
             [
              0.1111111111111111,
              "#46039f"
             ],
             [
              0.2222222222222222,
              "#7201a8"
             ],
             [
              0.3333333333333333,
              "#9c179e"
             ],
             [
              0.4444444444444444,
              "#bd3786"
             ],
             [
              0.5555555555555556,
              "#d8576b"
             ],
             [
              0.6666666666666666,
              "#ed7953"
             ],
             [
              0.7777777777777778,
              "#fb9f3a"
             ],
             [
              0.8888888888888888,
              "#fdca26"
             ],
             [
              1,
              "#f0f921"
             ]
            ],
            "type": "histogram2dcontour"
           }
          ],
          "mesh3d": [
           {
            "colorbar": {
             "outlinewidth": 0,
             "ticks": ""
            },
            "type": "mesh3d"
           }
          ],
          "parcoords": [
           {
            "line": {
             "colorbar": {
              "outlinewidth": 0,
              "ticks": ""
             }
            },
            "type": "parcoords"
           }
          ],
          "pie": [
           {
            "automargin": true,
            "type": "pie"
           }
          ],
          "scatter": [
           {
            "marker": {
             "colorbar": {
              "outlinewidth": 0,
              "ticks": ""
             }
            },
            "type": "scatter"
           }
          ],
          "scatter3d": [
           {
            "line": {
             "colorbar": {
              "outlinewidth": 0,
              "ticks": ""
             }
            },
            "marker": {
             "colorbar": {
              "outlinewidth": 0,
              "ticks": ""
             }
            },
            "type": "scatter3d"
           }
          ],
          "scattercarpet": [
           {
            "marker": {
             "colorbar": {
              "outlinewidth": 0,
              "ticks": ""
             }
            },
            "type": "scattercarpet"
           }
          ],
          "scattergeo": [
           {
            "marker": {
             "colorbar": {
              "outlinewidth": 0,
              "ticks": ""
             }
            },
            "type": "scattergeo"
           }
          ],
          "scattergl": [
           {
            "marker": {
             "colorbar": {
              "outlinewidth": 0,
              "ticks": ""
             }
            },
            "type": "scattergl"
           }
          ],
          "scattermapbox": [
           {
            "marker": {
             "colorbar": {
              "outlinewidth": 0,
              "ticks": ""
             }
            },
            "type": "scattermapbox"
           }
          ],
          "scatterpolar": [
           {
            "marker": {
             "colorbar": {
              "outlinewidth": 0,
              "ticks": ""
             }
            },
            "type": "scatterpolar"
           }
          ],
          "scatterpolargl": [
           {
            "marker": {
             "colorbar": {
              "outlinewidth": 0,
              "ticks": ""
             }
            },
            "type": "scatterpolargl"
           }
          ],
          "scatterternary": [
           {
            "marker": {
             "colorbar": {
              "outlinewidth": 0,
              "ticks": ""
             }
            },
            "type": "scatterternary"
           }
          ],
          "surface": [
           {
            "colorbar": {
             "outlinewidth": 0,
             "ticks": ""
            },
            "colorscale": [
             [
              0,
              "#0d0887"
             ],
             [
              0.1111111111111111,
              "#46039f"
             ],
             [
              0.2222222222222222,
              "#7201a8"
             ],
             [
              0.3333333333333333,
              "#9c179e"
             ],
             [
              0.4444444444444444,
              "#bd3786"
             ],
             [
              0.5555555555555556,
              "#d8576b"
             ],
             [
              0.6666666666666666,
              "#ed7953"
             ],
             [
              0.7777777777777778,
              "#fb9f3a"
             ],
             [
              0.8888888888888888,
              "#fdca26"
             ],
             [
              1,
              "#f0f921"
             ]
            ],
            "type": "surface"
           }
          ],
          "table": [
           {
            "cells": {
             "fill": {
              "color": "#EBF0F8"
             },
             "line": {
              "color": "white"
             }
            },
            "header": {
             "fill": {
              "color": "#C8D4E3"
             },
             "line": {
              "color": "white"
             }
            },
            "type": "table"
           }
          ]
         },
         "layout": {
          "annotationdefaults": {
           "arrowcolor": "#2a3f5f",
           "arrowhead": 0,
           "arrowwidth": 1
          },
          "coloraxis": {
           "colorbar": {
            "outlinewidth": 0,
            "ticks": ""
           }
          },
          "colorscale": {
           "diverging": [
            [
             0,
             "#8e0152"
            ],
            [
             0.1,
             "#c51b7d"
            ],
            [
             0.2,
             "#de77ae"
            ],
            [
             0.3,
             "#f1b6da"
            ],
            [
             0.4,
             "#fde0ef"
            ],
            [
             0.5,
             "#f7f7f7"
            ],
            [
             0.6,
             "#e6f5d0"
            ],
            [
             0.7,
             "#b8e186"
            ],
            [
             0.8,
             "#7fbc41"
            ],
            [
             0.9,
             "#4d9221"
            ],
            [
             1,
             "#276419"
            ]
           ],
           "sequential": [
            [
             0,
             "#0d0887"
            ],
            [
             0.1111111111111111,
             "#46039f"
            ],
            [
             0.2222222222222222,
             "#7201a8"
            ],
            [
             0.3333333333333333,
             "#9c179e"
            ],
            [
             0.4444444444444444,
             "#bd3786"
            ],
            [
             0.5555555555555556,
             "#d8576b"
            ],
            [
             0.6666666666666666,
             "#ed7953"
            ],
            [
             0.7777777777777778,
             "#fb9f3a"
            ],
            [
             0.8888888888888888,
             "#fdca26"
            ],
            [
             1,
             "#f0f921"
            ]
           ],
           "sequentialminus": [
            [
             0,
             "#0d0887"
            ],
            [
             0.1111111111111111,
             "#46039f"
            ],
            [
             0.2222222222222222,
             "#7201a8"
            ],
            [
             0.3333333333333333,
             "#9c179e"
            ],
            [
             0.4444444444444444,
             "#bd3786"
            ],
            [
             0.5555555555555556,
             "#d8576b"
            ],
            [
             0.6666666666666666,
             "#ed7953"
            ],
            [
             0.7777777777777778,
             "#fb9f3a"
            ],
            [
             0.8888888888888888,
             "#fdca26"
            ],
            [
             1,
             "#f0f921"
            ]
           ]
          },
          "colorway": [
           "#636efa",
           "#EF553B",
           "#00cc96",
           "#ab63fa",
           "#FFA15A",
           "#19d3f3",
           "#FF6692",
           "#B6E880",
           "#FF97FF",
           "#FECB52"
          ],
          "font": {
           "color": "#2a3f5f"
          },
          "geo": {
           "bgcolor": "white",
           "lakecolor": "white",
           "landcolor": "#E5ECF6",
           "showlakes": true,
           "showland": true,
           "subunitcolor": "white"
          },
          "hoverlabel": {
           "align": "left"
          },
          "hovermode": "closest",
          "mapbox": {
           "style": "light"
          },
          "paper_bgcolor": "white",
          "plot_bgcolor": "#E5ECF6",
          "polar": {
           "angularaxis": {
            "gridcolor": "white",
            "linecolor": "white",
            "ticks": ""
           },
           "bgcolor": "#E5ECF6",
           "radialaxis": {
            "gridcolor": "white",
            "linecolor": "white",
            "ticks": ""
           }
          },
          "scene": {
           "xaxis": {
            "backgroundcolor": "#E5ECF6",
            "gridcolor": "white",
            "gridwidth": 2,
            "linecolor": "white",
            "showbackground": true,
            "ticks": "",
            "zerolinecolor": "white"
           },
           "yaxis": {
            "backgroundcolor": "#E5ECF6",
            "gridcolor": "white",
            "gridwidth": 2,
            "linecolor": "white",
            "showbackground": true,
            "ticks": "",
            "zerolinecolor": "white"
           },
           "zaxis": {
            "backgroundcolor": "#E5ECF6",
            "gridcolor": "white",
            "gridwidth": 2,
            "linecolor": "white",
            "showbackground": true,
            "ticks": "",
            "zerolinecolor": "white"
           }
          },
          "shapedefaults": {
           "line": {
            "color": "#2a3f5f"
           }
          },
          "ternary": {
           "aaxis": {
            "gridcolor": "white",
            "linecolor": "white",
            "ticks": ""
           },
           "baxis": {
            "gridcolor": "white",
            "linecolor": "white",
            "ticks": ""
           },
           "bgcolor": "#E5ECF6",
           "caxis": {
            "gridcolor": "white",
            "linecolor": "white",
            "ticks": ""
           }
          },
          "title": {
           "x": 0.05
          },
          "xaxis": {
           "automargin": true,
           "gridcolor": "white",
           "linecolor": "white",
           "ticks": "",
           "title": {
            "standoff": 15
           },
           "zerolinecolor": "white",
           "zerolinewidth": 2
          },
          "yaxis": {
           "automargin": true,
           "gridcolor": "white",
           "linecolor": "white",
           "ticks": "",
           "title": {
            "standoff": 15
           },
           "zerolinecolor": "white",
           "zerolinewidth": 2
          }
         }
        },
        "xaxis": {
         "anchor": "y",
         "domain": [
          0,
          1
         ],
         "title": {
          "text": "state"
         }
        },
        "yaxis": {
         "anchor": "x",
         "domain": [
          0,
          1
         ],
         "title": {
          "text": "Total Test Results"
         }
        }
       }
      },
      "text/html": [
       "<div>\n",
       "        \n",
       "        \n",
       "            <div id=\"45132631-8e74-4563-9e4f-4c1a1623c4b9\" class=\"plotly-graph-div\" style=\"height:400px; width:100%;\"></div>\n",
       "            <script type=\"text/javascript\">\n",
       "                require([\"plotly\"], function(Plotly) {\n",
       "                    window.PLOTLYENV=window.PLOTLYENV || {};\n",
       "                    \n",
       "                if (document.getElementById(\"45132631-8e74-4563-9e4f-4c1a1623c4b9\")) {\n",
       "                    Plotly.newPlot(\n",
       "                        '45132631-8e74-4563-9e4f-4c1a1623c4b9',\n",
       "                        [{\"alignmentgroup\": \"True\", \"customdata\": [[4879.0, 3.0], [6697.0, 28.0], [7836.0, 10.0], [19645.0, 29.0], [22883.0, 171.0], [15303.0, 80.0], [13043.0, 85.0], [3262.0, 11.0], [4015.0, 11.0], [60356.0, 97.0], [15690.0, 154.0], [10206.0, 1.0], [7304.0, 9.0], [6609.0, 9.0], [33404.0, 141.0], [11810.0, 65.0], [5411.0, 10.0], [7220.0, 20.0], [39352.0, 273.0], [44000.0, 122.0], [17233.0, 31.0], [6088.0, 7.0], [11893.0, 337.0], [20502.0, 17.0], [15846.0, 18.0], [3712.0, 22.0], [4871.0, 5.0], [24659.0, 10.0], [4480.0, 3.0], [3590.0, 4.0], [6078.0, 4.0], [30387.0, 355.0], [13648.0, 6.0], [11519.0, 32.0], [137168.0, 1941.0], [26992.0, 65.0], [1248.0, 30.0], [14132.0, 19.0], [42427.0, 74.0], [3831.0, 10.0], [5033.0, 26.0], [3903.0, 2.0], [29769.0, 24.0], [43860.0, 58.0], [20155.0, 7.0], [13860.0, 34.0], [4174.0, 16.0], [68814.0, 247.0], [18819.0, 24.0], [4384.0, 2.0], [2328.0, 0.0], [1409.0, 11.0], [20.0, 0.0], [406.0, 3.0], [13.0, 1.0], [126.0, null]], \"hoverlabel\": {\"namelength\": 0}, \"hovertemplate\": \"state=%{x}<br>Total Test Results=%{marker.color}<br>negative=%{customdata[0]}<br>death=%{customdata[1]}\", \"legendgroup\": \"\", \"marker\": {\"color\": [5022, 7803, 8460, 21058, 31038, 18645, 16600, 3848, 4383, 67915, 20438, 10464, 7853, 7282, 40384, 14375, 5893, 7900, 45776, 51738, 19218, 6432, 21227, 21191, 17427, 4785, 5088, 26243, 4627, 3804, 6493, 52642, 14011, 12798, 220880, 29539, 1967, 14868, 48232, 4397, 6326, 4032, 32452, 47857, 21167, 15344, 4495, 74798, 20369, 4575, 2465, 1695, 20, 483, 19, 156], \"coloraxis\": \"coloraxis\"}, \"name\": \"\", \"offsetgroup\": \"\", \"orientation\": \"v\", \"showlegend\": false, \"textposition\": \"auto\", \"type\": \"bar\", \"x\": [\"AK\", \"AL\", \"AR\", \"AZ\", \"CA\", \"CO\", \"CT\", \"DC\", \"DE\", \"FL\", \"GA\", \"HI\", \"IA\", \"ID\", \"IL\", \"IN\", \"KS\", \"KY\", \"LA\", \"MA\", \"MD\", \"ME\", \"MI\", \"MN\", \"MO\", \"MS\", \"MT\", \"NC\", \"ND\", \"NE\", \"NH\", \"NJ\", \"NM\", \"NV\", \"NY\", \"OH\", \"OK\", \"OR\", \"PA\", \"RI\", \"SC\", \"SD\", \"TN\", \"TX\", \"UT\", \"VA\", \"VT\", \"WA\", \"WI\", \"WV\", \"WY\", \"PR\", \"AS\", \"GU\", \"MP\", \"VI\"], \"xaxis\": \"x\", \"y\": [5022, 7803, 8460, 21058, 31038, 18645, 16600, 3848, 4383, 67915, 20438, 10464, 7853, 7282, 40384, 14375, 5893, 7900, 45776, 51738, 19218, 6432, 21227, 21191, 17427, 4785, 5088, 26243, 4627, 3804, 6493, 52642, 14011, 12798, 220880, 29539, 1967, 14868, 48232, 4397, 6326, 4032, 32452, 47857, 21167, 15344, 4495, 74798, 20369, 4575, 2465, 1695, 20, 483, 19, 156], \"yaxis\": \"y\"}],\n",
       "                        {\"barmode\": \"relative\", \"coloraxis\": {\"colorbar\": {\"title\": {\"text\": \"Total Test Results\"}}, \"colorscale\": [[0.0, \"#0d0887\"], [0.1111111111111111, \"#46039f\"], [0.2222222222222222, \"#7201a8\"], [0.3333333333333333, \"#9c179e\"], [0.4444444444444444, \"#bd3786\"], [0.5555555555555556, \"#d8576b\"], [0.6666666666666666, \"#ed7953\"], [0.7777777777777778, \"#fb9f3a\"], [0.8888888888888888, \"#fdca26\"], [1.0, \"#f0f921\"]]}, \"height\": 400, \"legend\": {\"tracegroupgap\": 0}, \"margin\": {\"t\": 60}, \"template\": {\"data\": {\"bar\": [{\"error_x\": {\"color\": \"#2a3f5f\"}, \"error_y\": {\"color\": \"#2a3f5f\"}, \"marker\": {\"line\": {\"color\": \"#E5ECF6\", \"width\": 0.5}}, \"type\": \"bar\"}], \"barpolar\": [{\"marker\": {\"line\": {\"color\": \"#E5ECF6\", \"width\": 0.5}}, \"type\": \"barpolar\"}], \"carpet\": [{\"aaxis\": {\"endlinecolor\": \"#2a3f5f\", \"gridcolor\": \"white\", \"linecolor\": \"white\", \"minorgridcolor\": \"white\", \"startlinecolor\": \"#2a3f5f\"}, \"baxis\": {\"endlinecolor\": \"#2a3f5f\", \"gridcolor\": \"white\", \"linecolor\": \"white\", \"minorgridcolor\": \"white\", \"startlinecolor\": \"#2a3f5f\"}, \"type\": \"carpet\"}], \"choropleth\": [{\"colorbar\": {\"outlinewidth\": 0, \"ticks\": \"\"}, \"type\": \"choropleth\"}], \"contour\": [{\"colorbar\": {\"outlinewidth\": 0, \"ticks\": \"\"}, \"colorscale\": [[0.0, \"#0d0887\"], [0.1111111111111111, \"#46039f\"], [0.2222222222222222, \"#7201a8\"], [0.3333333333333333, \"#9c179e\"], [0.4444444444444444, \"#bd3786\"], [0.5555555555555556, \"#d8576b\"], [0.6666666666666666, \"#ed7953\"], [0.7777777777777778, \"#fb9f3a\"], [0.8888888888888888, \"#fdca26\"], [1.0, \"#f0f921\"]], \"type\": \"contour\"}], \"contourcarpet\": [{\"colorbar\": {\"outlinewidth\": 0, \"ticks\": \"\"}, \"type\": \"contourcarpet\"}], \"heatmap\": [{\"colorbar\": {\"outlinewidth\": 0, \"ticks\": \"\"}, \"colorscale\": [[0.0, \"#0d0887\"], [0.1111111111111111, \"#46039f\"], [0.2222222222222222, \"#7201a8\"], [0.3333333333333333, \"#9c179e\"], [0.4444444444444444, \"#bd3786\"], [0.5555555555555556, \"#d8576b\"], [0.6666666666666666, \"#ed7953\"], [0.7777777777777778, \"#fb9f3a\"], [0.8888888888888888, \"#fdca26\"], [1.0, \"#f0f921\"]], \"type\": \"heatmap\"}], \"heatmapgl\": [{\"colorbar\": {\"outlinewidth\": 0, \"ticks\": \"\"}, \"colorscale\": [[0.0, \"#0d0887\"], [0.1111111111111111, \"#46039f\"], [0.2222222222222222, \"#7201a8\"], [0.3333333333333333, \"#9c179e\"], [0.4444444444444444, \"#bd3786\"], [0.5555555555555556, \"#d8576b\"], [0.6666666666666666, \"#ed7953\"], [0.7777777777777778, \"#fb9f3a\"], [0.8888888888888888, \"#fdca26\"], [1.0, \"#f0f921\"]], \"type\": \"heatmapgl\"}], \"histogram\": [{\"marker\": {\"colorbar\": {\"outlinewidth\": 0, \"ticks\": \"\"}}, \"type\": \"histogram\"}], \"histogram2d\": [{\"colorbar\": {\"outlinewidth\": 0, \"ticks\": \"\"}, \"colorscale\": [[0.0, \"#0d0887\"], [0.1111111111111111, \"#46039f\"], [0.2222222222222222, \"#7201a8\"], [0.3333333333333333, \"#9c179e\"], [0.4444444444444444, \"#bd3786\"], [0.5555555555555556, \"#d8576b\"], [0.6666666666666666, \"#ed7953\"], [0.7777777777777778, \"#fb9f3a\"], [0.8888888888888888, \"#fdca26\"], [1.0, \"#f0f921\"]], \"type\": \"histogram2d\"}], \"histogram2dcontour\": [{\"colorbar\": {\"outlinewidth\": 0, \"ticks\": \"\"}, \"colorscale\": [[0.0, \"#0d0887\"], [0.1111111111111111, \"#46039f\"], [0.2222222222222222, \"#7201a8\"], [0.3333333333333333, \"#9c179e\"], [0.4444444444444444, \"#bd3786\"], [0.5555555555555556, \"#d8576b\"], [0.6666666666666666, \"#ed7953\"], [0.7777777777777778, \"#fb9f3a\"], [0.8888888888888888, \"#fdca26\"], [1.0, \"#f0f921\"]], \"type\": \"histogram2dcontour\"}], \"mesh3d\": [{\"colorbar\": {\"outlinewidth\": 0, \"ticks\": \"\"}, \"type\": \"mesh3d\"}], \"parcoords\": [{\"line\": {\"colorbar\": {\"outlinewidth\": 0, \"ticks\": \"\"}}, \"type\": \"parcoords\"}], \"pie\": [{\"automargin\": true, \"type\": \"pie\"}], \"scatter\": [{\"marker\": {\"colorbar\": {\"outlinewidth\": 0, \"ticks\": \"\"}}, \"type\": \"scatter\"}], \"scatter3d\": [{\"line\": {\"colorbar\": {\"outlinewidth\": 0, \"ticks\": \"\"}}, \"marker\": {\"colorbar\": {\"outlinewidth\": 0, \"ticks\": \"\"}}, \"type\": \"scatter3d\"}], \"scattercarpet\": [{\"marker\": {\"colorbar\": {\"outlinewidth\": 0, \"ticks\": \"\"}}, \"type\": \"scattercarpet\"}], \"scattergeo\": [{\"marker\": {\"colorbar\": {\"outlinewidth\": 0, \"ticks\": \"\"}}, \"type\": \"scattergeo\"}], \"scattergl\": [{\"marker\": {\"colorbar\": {\"outlinewidth\": 0, \"ticks\": \"\"}}, \"type\": \"scattergl\"}], \"scattermapbox\": [{\"marker\": {\"colorbar\": {\"outlinewidth\": 0, \"ticks\": \"\"}}, \"type\": \"scattermapbox\"}], \"scatterpolar\": [{\"marker\": {\"colorbar\": {\"outlinewidth\": 0, \"ticks\": \"\"}}, \"type\": \"scatterpolar\"}], \"scatterpolargl\": [{\"marker\": {\"colorbar\": {\"outlinewidth\": 0, \"ticks\": \"\"}}, \"type\": \"scatterpolargl\"}], \"scatterternary\": [{\"marker\": {\"colorbar\": {\"outlinewidth\": 0, \"ticks\": \"\"}}, \"type\": \"scatterternary\"}], \"surface\": [{\"colorbar\": {\"outlinewidth\": 0, \"ticks\": \"\"}, \"colorscale\": [[0.0, \"#0d0887\"], [0.1111111111111111, \"#46039f\"], [0.2222222222222222, \"#7201a8\"], [0.3333333333333333, \"#9c179e\"], [0.4444444444444444, \"#bd3786\"], [0.5555555555555556, \"#d8576b\"], [0.6666666666666666, \"#ed7953\"], [0.7777777777777778, \"#fb9f3a\"], [0.8888888888888888, \"#fdca26\"], [1.0, \"#f0f921\"]], \"type\": \"surface\"}], \"table\": [{\"cells\": {\"fill\": {\"color\": \"#EBF0F8\"}, \"line\": {\"color\": \"white\"}}, \"header\": {\"fill\": {\"color\": \"#C8D4E3\"}, \"line\": {\"color\": \"white\"}}, \"type\": \"table\"}]}, \"layout\": {\"annotationdefaults\": {\"arrowcolor\": \"#2a3f5f\", \"arrowhead\": 0, \"arrowwidth\": 1}, \"coloraxis\": {\"colorbar\": {\"outlinewidth\": 0, \"ticks\": \"\"}}, \"colorscale\": {\"diverging\": [[0, \"#8e0152\"], [0.1, \"#c51b7d\"], [0.2, \"#de77ae\"], [0.3, \"#f1b6da\"], [0.4, \"#fde0ef\"], [0.5, \"#f7f7f7\"], [0.6, \"#e6f5d0\"], [0.7, \"#b8e186\"], [0.8, \"#7fbc41\"], [0.9, \"#4d9221\"], [1, \"#276419\"]], \"sequential\": [[0.0, \"#0d0887\"], [0.1111111111111111, \"#46039f\"], [0.2222222222222222, \"#7201a8\"], [0.3333333333333333, \"#9c179e\"], [0.4444444444444444, \"#bd3786\"], [0.5555555555555556, \"#d8576b\"], [0.6666666666666666, \"#ed7953\"], [0.7777777777777778, \"#fb9f3a\"], [0.8888888888888888, \"#fdca26\"], [1.0, \"#f0f921\"]], \"sequentialminus\": [[0.0, \"#0d0887\"], [0.1111111111111111, \"#46039f\"], [0.2222222222222222, \"#7201a8\"], [0.3333333333333333, \"#9c179e\"], [0.4444444444444444, \"#bd3786\"], [0.5555555555555556, \"#d8576b\"], [0.6666666666666666, \"#ed7953\"], [0.7777777777777778, \"#fb9f3a\"], [0.8888888888888888, \"#fdca26\"], [1.0, \"#f0f921\"]]}, \"colorway\": [\"#636efa\", \"#EF553B\", \"#00cc96\", \"#ab63fa\", \"#FFA15A\", \"#19d3f3\", \"#FF6692\", \"#B6E880\", \"#FF97FF\", \"#FECB52\"], \"font\": {\"color\": \"#2a3f5f\"}, \"geo\": {\"bgcolor\": \"white\", \"lakecolor\": \"white\", \"landcolor\": \"#E5ECF6\", \"showlakes\": true, \"showland\": true, \"subunitcolor\": \"white\"}, \"hoverlabel\": {\"align\": \"left\"}, \"hovermode\": \"closest\", \"mapbox\": {\"style\": \"light\"}, \"paper_bgcolor\": \"white\", \"plot_bgcolor\": \"#E5ECF6\", \"polar\": {\"angularaxis\": {\"gridcolor\": \"white\", \"linecolor\": \"white\", \"ticks\": \"\"}, \"bgcolor\": \"#E5ECF6\", \"radialaxis\": {\"gridcolor\": \"white\", \"linecolor\": \"white\", \"ticks\": \"\"}}, \"scene\": {\"xaxis\": {\"backgroundcolor\": \"#E5ECF6\", \"gridcolor\": \"white\", \"gridwidth\": 2, \"linecolor\": \"white\", \"showbackground\": true, \"ticks\": \"\", \"zerolinecolor\": \"white\"}, \"yaxis\": {\"backgroundcolor\": \"#E5ECF6\", \"gridcolor\": \"white\", \"gridwidth\": 2, \"linecolor\": \"white\", \"showbackground\": true, \"ticks\": \"\", \"zerolinecolor\": \"white\"}, \"zaxis\": {\"backgroundcolor\": \"#E5ECF6\", \"gridcolor\": \"white\", \"gridwidth\": 2, \"linecolor\": \"white\", \"showbackground\": true, \"ticks\": \"\", \"zerolinecolor\": \"white\"}}, \"shapedefaults\": {\"line\": {\"color\": \"#2a3f5f\"}}, \"ternary\": {\"aaxis\": {\"gridcolor\": \"white\", \"linecolor\": \"white\", \"ticks\": \"\"}, \"baxis\": {\"gridcolor\": \"white\", \"linecolor\": \"white\", \"ticks\": \"\"}, \"bgcolor\": \"#E5ECF6\", \"caxis\": {\"gridcolor\": \"white\", \"linecolor\": \"white\", \"ticks\": \"\"}}, \"title\": {\"x\": 0.05}, \"xaxis\": {\"automargin\": true, \"gridcolor\": \"white\", \"linecolor\": \"white\", \"ticks\": \"\", \"title\": {\"standoff\": 15}, \"zerolinecolor\": \"white\", \"zerolinewidth\": 2}, \"yaxis\": {\"automargin\": true, \"gridcolor\": \"white\", \"linecolor\": \"white\", \"ticks\": \"\", \"title\": {\"standoff\": 15}, \"zerolinecolor\": \"white\", \"zerolinewidth\": 2}}}, \"xaxis\": {\"anchor\": \"y\", \"domain\": [0.0, 1.0], \"title\": {\"text\": \"state\"}}, \"yaxis\": {\"anchor\": \"x\", \"domain\": [0.0, 1.0], \"title\": {\"text\": \"Total Test Results\"}}},\n",
       "                        {\"responsive\": true}\n",
       "                    ).then(function(){\n",
       "                            \n",
       "var gd = document.getElementById('45132631-8e74-4563-9e4f-4c1a1623c4b9');\n",
       "var x = new MutationObserver(function (mutations, observer) {{\n",
       "        var display = window.getComputedStyle(gd).display;\n",
       "        if (!display || display === 'none') {{\n",
       "            console.log([gd, 'removed!']);\n",
       "            Plotly.purge(gd);\n",
       "            observer.disconnect();\n",
       "        }}\n",
       "}});\n",
       "\n",
       "// Listen for the removal of the full notebook cells\n",
       "var notebookContainer = gd.closest('#notebook-container');\n",
       "if (notebookContainer) {{\n",
       "    x.observe(notebookContainer, {childList: true});\n",
       "}}\n",
       "\n",
       "// Listen for the clearing of the current output cell\n",
       "var outputEl = gd.closest('.output');\n",
       "if (outputEl) {{\n",
       "    x.observe(outputEl, {childList: true});\n",
       "}}\n",
       "\n",
       "                        })\n",
       "                };\n",
       "                });\n",
       "            </script>\n",
       "        </div>"
      ]
     },
     "metadata": {},
     "output_type": "display_data"
    }
   ],
   "source": [
    "fig = px.bar(df, x='state', y='totalTestResults',\n",
    "             hover_data=['negative', 'death'], color='totalTestResults',\n",
    "             labels={'totalTestResults':'Total Test Results'}, height=400)\n",
    "fig.show()"
   ]
  },
  {
   "cell_type": "markdown",
   "metadata": {},
   "source": [
    "(Hovering over data allows you to see each state/territory's total negative results, total deaths along with state and Total Test Results labels)\n",
    "\n",
    "We see here that NY is way ahead of other states when it comes to who has been tested. At the same time, this is where the epicenter of Covid-19 in the US is. Interestingly, WA and FL are behind NY. FL is a surprise because I have not seen much of it in the news. Though it makes sense that they have higher amount of Total Test Results since majority of the population is retirement age, which means high risk population for Covid disease."
   ]
  },
  {
   "cell_type": "markdown",
   "metadata": {},
   "source": [
    "# Data Integrity - Caveat straight from the website:"
   ]
  },
  {
   "cell_type": "markdown",
   "metadata": {},
   "source": [
    "How trustworthy are your numbers?\n",
    "Because we get the bulk of our data directly from state public health authorities, we’re as reliable as they are, though we don’t have a live feed, so our numbers can be a few hours behind. States, however, report their numbers in inconsistent ways, which makes working with this dataset a bit complicated. Some states, like Oregon, provide the full set of numbers we track: the total number of tests conducted, breaking out positive, negative, and pending tests. For these states, we can provide data stretching through time, so they are maximally useful.\n",
    "\n",
    "Other states provide some or none of these numbers on an ongoing basis. Some crucial states in this outbreak, notably California, Washington, and New York, have not been regularly reporting their total number of people tested. For these, we have to use other reporting tools: directly asking state officials, watching news conferences, gleaning information from trusted news sources, and whatever else it takes to present reliable numbers. Our hope is that all the states will begin providing comprehensive statistics, including negatives and totals from commercial and university labs.\n",
    "\n",
    "Each state has a data-quality grade associated with it based on the reliability of their reporting. This grading system is described below.\n",
    "\n",
    "State data-quality grades\n",
    "A number score is tallied based on four simple components:\n",
    "\n",
    "+1 for reporting positives reliably\n",
    "+1 for reporting negatives sometimes\n",
    "+1 for reporting negatives reliably\n",
    "+1 for reporting all commercial tests\n",
    "The total score for each state corresponds to a letter grade:\n",
    "\n",
    "Score\tGrade\n",
    "4\tA\n",
    "3\tB\n",
    "2\tC\n",
    "1\tD\n",
    "If you are calculating positive rates, it should only be with states that have an A grade. And be careful going back in time because almost all the states have changed their level of reporting at different times.\n",
    "\n",
    "This is not a grade for the testing effort itself — but rather for the **comprehensiveness and regularity of each state's reporting**."
   ]
  },
  {
   "cell_type": "markdown",
   "metadata": {},
   "source": [
    "Let's see grade breakdown in our dataset:"
   ]
  },
  {
   "cell_type": "code",
   "execution_count": 20,
   "metadata": {},
   "outputs": [
    {
     "data": {
      "application/vnd.plotly.v1+json": {
       "config": {
        "linkText": "Export to plot.ly",
        "plotlyServerURL": "https://plot.ly",
        "showLink": false
       },
       "data": [
        {
         "labels": [
          "A",
          "B"
         ],
         "type": "pie",
         "values": [
          71.15384615384616,
          28.846153846153843
         ]
        }
       ],
       "layout": {
        "template": {
         "data": {
          "bar": [
           {
            "error_x": {
             "color": "#2a3f5f"
            },
            "error_y": {
             "color": "#2a3f5f"
            },
            "marker": {
             "line": {
              "color": "#E5ECF6",
              "width": 0.5
             }
            },
            "type": "bar"
           }
          ],
          "barpolar": [
           {
            "marker": {
             "line": {
              "color": "#E5ECF6",
              "width": 0.5
             }
            },
            "type": "barpolar"
           }
          ],
          "carpet": [
           {
            "aaxis": {
             "endlinecolor": "#2a3f5f",
             "gridcolor": "white",
             "linecolor": "white",
             "minorgridcolor": "white",
             "startlinecolor": "#2a3f5f"
            },
            "baxis": {
             "endlinecolor": "#2a3f5f",
             "gridcolor": "white",
             "linecolor": "white",
             "minorgridcolor": "white",
             "startlinecolor": "#2a3f5f"
            },
            "type": "carpet"
           }
          ],
          "choropleth": [
           {
            "colorbar": {
             "outlinewidth": 0,
             "ticks": ""
            },
            "type": "choropleth"
           }
          ],
          "contour": [
           {
            "colorbar": {
             "outlinewidth": 0,
             "ticks": ""
            },
            "colorscale": [
             [
              0,
              "#0d0887"
             ],
             [
              0.1111111111111111,
              "#46039f"
             ],
             [
              0.2222222222222222,
              "#7201a8"
             ],
             [
              0.3333333333333333,
              "#9c179e"
             ],
             [
              0.4444444444444444,
              "#bd3786"
             ],
             [
              0.5555555555555556,
              "#d8576b"
             ],
             [
              0.6666666666666666,
              "#ed7953"
             ],
             [
              0.7777777777777778,
              "#fb9f3a"
             ],
             [
              0.8888888888888888,
              "#fdca26"
             ],
             [
              1,
              "#f0f921"
             ]
            ],
            "type": "contour"
           }
          ],
          "contourcarpet": [
           {
            "colorbar": {
             "outlinewidth": 0,
             "ticks": ""
            },
            "type": "contourcarpet"
           }
          ],
          "heatmap": [
           {
            "colorbar": {
             "outlinewidth": 0,
             "ticks": ""
            },
            "colorscale": [
             [
              0,
              "#0d0887"
             ],
             [
              0.1111111111111111,
              "#46039f"
             ],
             [
              0.2222222222222222,
              "#7201a8"
             ],
             [
              0.3333333333333333,
              "#9c179e"
             ],
             [
              0.4444444444444444,
              "#bd3786"
             ],
             [
              0.5555555555555556,
              "#d8576b"
             ],
             [
              0.6666666666666666,
              "#ed7953"
             ],
             [
              0.7777777777777778,
              "#fb9f3a"
             ],
             [
              0.8888888888888888,
              "#fdca26"
             ],
             [
              1,
              "#f0f921"
             ]
            ],
            "type": "heatmap"
           }
          ],
          "heatmapgl": [
           {
            "colorbar": {
             "outlinewidth": 0,
             "ticks": ""
            },
            "colorscale": [
             [
              0,
              "#0d0887"
             ],
             [
              0.1111111111111111,
              "#46039f"
             ],
             [
              0.2222222222222222,
              "#7201a8"
             ],
             [
              0.3333333333333333,
              "#9c179e"
             ],
             [
              0.4444444444444444,
              "#bd3786"
             ],
             [
              0.5555555555555556,
              "#d8576b"
             ],
             [
              0.6666666666666666,
              "#ed7953"
             ],
             [
              0.7777777777777778,
              "#fb9f3a"
             ],
             [
              0.8888888888888888,
              "#fdca26"
             ],
             [
              1,
              "#f0f921"
             ]
            ],
            "type": "heatmapgl"
           }
          ],
          "histogram": [
           {
            "marker": {
             "colorbar": {
              "outlinewidth": 0,
              "ticks": ""
             }
            },
            "type": "histogram"
           }
          ],
          "histogram2d": [
           {
            "colorbar": {
             "outlinewidth": 0,
             "ticks": ""
            },
            "colorscale": [
             [
              0,
              "#0d0887"
             ],
             [
              0.1111111111111111,
              "#46039f"
             ],
             [
              0.2222222222222222,
              "#7201a8"
             ],
             [
              0.3333333333333333,
              "#9c179e"
             ],
             [
              0.4444444444444444,
              "#bd3786"
             ],
             [
              0.5555555555555556,
              "#d8576b"
             ],
             [
              0.6666666666666666,
              "#ed7953"
             ],
             [
              0.7777777777777778,
              "#fb9f3a"
             ],
             [
              0.8888888888888888,
              "#fdca26"
             ],
             [
              1,
              "#f0f921"
             ]
            ],
            "type": "histogram2d"
           }
          ],
          "histogram2dcontour": [
           {
            "colorbar": {
             "outlinewidth": 0,
             "ticks": ""
            },
            "colorscale": [
             [
              0,
              "#0d0887"
             ],
             [
              0.1111111111111111,
              "#46039f"
             ],
             [
              0.2222222222222222,
              "#7201a8"
             ],
             [
              0.3333333333333333,
              "#9c179e"
             ],
             [
              0.4444444444444444,
              "#bd3786"
             ],
             [
              0.5555555555555556,
              "#d8576b"
             ],
             [
              0.6666666666666666,
              "#ed7953"
             ],
             [
              0.7777777777777778,
              "#fb9f3a"
             ],
             [
              0.8888888888888888,
              "#fdca26"
             ],
             [
              1,
              "#f0f921"
             ]
            ],
            "type": "histogram2dcontour"
           }
          ],
          "mesh3d": [
           {
            "colorbar": {
             "outlinewidth": 0,
             "ticks": ""
            },
            "type": "mesh3d"
           }
          ],
          "parcoords": [
           {
            "line": {
             "colorbar": {
              "outlinewidth": 0,
              "ticks": ""
             }
            },
            "type": "parcoords"
           }
          ],
          "pie": [
           {
            "automargin": true,
            "type": "pie"
           }
          ],
          "scatter": [
           {
            "marker": {
             "colorbar": {
              "outlinewidth": 0,
              "ticks": ""
             }
            },
            "type": "scatter"
           }
          ],
          "scatter3d": [
           {
            "line": {
             "colorbar": {
              "outlinewidth": 0,
              "ticks": ""
             }
            },
            "marker": {
             "colorbar": {
              "outlinewidth": 0,
              "ticks": ""
             }
            },
            "type": "scatter3d"
           }
          ],
          "scattercarpet": [
           {
            "marker": {
             "colorbar": {
              "outlinewidth": 0,
              "ticks": ""
             }
            },
            "type": "scattercarpet"
           }
          ],
          "scattergeo": [
           {
            "marker": {
             "colorbar": {
              "outlinewidth": 0,
              "ticks": ""
             }
            },
            "type": "scattergeo"
           }
          ],
          "scattergl": [
           {
            "marker": {
             "colorbar": {
              "outlinewidth": 0,
              "ticks": ""
             }
            },
            "type": "scattergl"
           }
          ],
          "scattermapbox": [
           {
            "marker": {
             "colorbar": {
              "outlinewidth": 0,
              "ticks": ""
             }
            },
            "type": "scattermapbox"
           }
          ],
          "scatterpolar": [
           {
            "marker": {
             "colorbar": {
              "outlinewidth": 0,
              "ticks": ""
             }
            },
            "type": "scatterpolar"
           }
          ],
          "scatterpolargl": [
           {
            "marker": {
             "colorbar": {
              "outlinewidth": 0,
              "ticks": ""
             }
            },
            "type": "scatterpolargl"
           }
          ],
          "scatterternary": [
           {
            "marker": {
             "colorbar": {
              "outlinewidth": 0,
              "ticks": ""
             }
            },
            "type": "scatterternary"
           }
          ],
          "surface": [
           {
            "colorbar": {
             "outlinewidth": 0,
             "ticks": ""
            },
            "colorscale": [
             [
              0,
              "#0d0887"
             ],
             [
              0.1111111111111111,
              "#46039f"
             ],
             [
              0.2222222222222222,
              "#7201a8"
             ],
             [
              0.3333333333333333,
              "#9c179e"
             ],
             [
              0.4444444444444444,
              "#bd3786"
             ],
             [
              0.5555555555555556,
              "#d8576b"
             ],
             [
              0.6666666666666666,
              "#ed7953"
             ],
             [
              0.7777777777777778,
              "#fb9f3a"
             ],
             [
              0.8888888888888888,
              "#fdca26"
             ],
             [
              1,
              "#f0f921"
             ]
            ],
            "type": "surface"
           }
          ],
          "table": [
           {
            "cells": {
             "fill": {
              "color": "#EBF0F8"
             },
             "line": {
              "color": "white"
             }
            },
            "header": {
             "fill": {
              "color": "#C8D4E3"
             },
             "line": {
              "color": "white"
             }
            },
            "type": "table"
           }
          ]
         },
         "layout": {
          "annotationdefaults": {
           "arrowcolor": "#2a3f5f",
           "arrowhead": 0,
           "arrowwidth": 1
          },
          "coloraxis": {
           "colorbar": {
            "outlinewidth": 0,
            "ticks": ""
           }
          },
          "colorscale": {
           "diverging": [
            [
             0,
             "#8e0152"
            ],
            [
             0.1,
             "#c51b7d"
            ],
            [
             0.2,
             "#de77ae"
            ],
            [
             0.3,
             "#f1b6da"
            ],
            [
             0.4,
             "#fde0ef"
            ],
            [
             0.5,
             "#f7f7f7"
            ],
            [
             0.6,
             "#e6f5d0"
            ],
            [
             0.7,
             "#b8e186"
            ],
            [
             0.8,
             "#7fbc41"
            ],
            [
             0.9,
             "#4d9221"
            ],
            [
             1,
             "#276419"
            ]
           ],
           "sequential": [
            [
             0,
             "#0d0887"
            ],
            [
             0.1111111111111111,
             "#46039f"
            ],
            [
             0.2222222222222222,
             "#7201a8"
            ],
            [
             0.3333333333333333,
             "#9c179e"
            ],
            [
             0.4444444444444444,
             "#bd3786"
            ],
            [
             0.5555555555555556,
             "#d8576b"
            ],
            [
             0.6666666666666666,
             "#ed7953"
            ],
            [
             0.7777777777777778,
             "#fb9f3a"
            ],
            [
             0.8888888888888888,
             "#fdca26"
            ],
            [
             1,
             "#f0f921"
            ]
           ],
           "sequentialminus": [
            [
             0,
             "#0d0887"
            ],
            [
             0.1111111111111111,
             "#46039f"
            ],
            [
             0.2222222222222222,
             "#7201a8"
            ],
            [
             0.3333333333333333,
             "#9c179e"
            ],
            [
             0.4444444444444444,
             "#bd3786"
            ],
            [
             0.5555555555555556,
             "#d8576b"
            ],
            [
             0.6666666666666666,
             "#ed7953"
            ],
            [
             0.7777777777777778,
             "#fb9f3a"
            ],
            [
             0.8888888888888888,
             "#fdca26"
            ],
            [
             1,
             "#f0f921"
            ]
           ]
          },
          "colorway": [
           "#636efa",
           "#EF553B",
           "#00cc96",
           "#ab63fa",
           "#FFA15A",
           "#19d3f3",
           "#FF6692",
           "#B6E880",
           "#FF97FF",
           "#FECB52"
          ],
          "font": {
           "color": "#2a3f5f"
          },
          "geo": {
           "bgcolor": "white",
           "lakecolor": "white",
           "landcolor": "#E5ECF6",
           "showlakes": true,
           "showland": true,
           "subunitcolor": "white"
          },
          "hoverlabel": {
           "align": "left"
          },
          "hovermode": "closest",
          "mapbox": {
           "style": "light"
          },
          "paper_bgcolor": "white",
          "plot_bgcolor": "#E5ECF6",
          "polar": {
           "angularaxis": {
            "gridcolor": "white",
            "linecolor": "white",
            "ticks": ""
           },
           "bgcolor": "#E5ECF6",
           "radialaxis": {
            "gridcolor": "white",
            "linecolor": "white",
            "ticks": ""
           }
          },
          "scene": {
           "xaxis": {
            "backgroundcolor": "#E5ECF6",
            "gridcolor": "white",
            "gridwidth": 2,
            "linecolor": "white",
            "showbackground": true,
            "ticks": "",
            "zerolinecolor": "white"
           },
           "yaxis": {
            "backgroundcolor": "#E5ECF6",
            "gridcolor": "white",
            "gridwidth": 2,
            "linecolor": "white",
            "showbackground": true,
            "ticks": "",
            "zerolinecolor": "white"
           },
           "zaxis": {
            "backgroundcolor": "#E5ECF6",
            "gridcolor": "white",
            "gridwidth": 2,
            "linecolor": "white",
            "showbackground": true,
            "ticks": "",
            "zerolinecolor": "white"
           }
          },
          "shapedefaults": {
           "line": {
            "color": "#2a3f5f"
           }
          },
          "ternary": {
           "aaxis": {
            "gridcolor": "white",
            "linecolor": "white",
            "ticks": ""
           },
           "baxis": {
            "gridcolor": "white",
            "linecolor": "white",
            "ticks": ""
           },
           "bgcolor": "#E5ECF6",
           "caxis": {
            "gridcolor": "white",
            "linecolor": "white",
            "ticks": ""
           }
          },
          "title": {
           "x": 0.05
          },
          "xaxis": {
           "automargin": true,
           "gridcolor": "white",
           "linecolor": "white",
           "ticks": "",
           "title": {
            "standoff": 15
           },
           "zerolinecolor": "white",
           "zerolinewidth": 2
          },
          "yaxis": {
           "automargin": true,
           "gridcolor": "white",
           "linecolor": "white",
           "ticks": "",
           "title": {
            "standoff": 15
           },
           "zerolinecolor": "white",
           "zerolinewidth": 2
          }
         }
        },
        "title": {
         "text": "Dataset Score Grade Distribution"
        }
       }
      },
      "text/html": [
       "<div>\n",
       "        \n",
       "        \n",
       "            <div id=\"d2a103d2-2857-4495-9c2a-8c635e04735f\" class=\"plotly-graph-div\" style=\"height:525px; width:100%;\"></div>\n",
       "            <script type=\"text/javascript\">\n",
       "                require([\"plotly\"], function(Plotly) {\n",
       "                    window.PLOTLYENV=window.PLOTLYENV || {};\n",
       "                    \n",
       "                if (document.getElementById(\"d2a103d2-2857-4495-9c2a-8c635e04735f\")) {\n",
       "                    Plotly.newPlot(\n",
       "                        'd2a103d2-2857-4495-9c2a-8c635e04735f',\n",
       "                        [{\"labels\": [\"A\", \"B\"], \"type\": \"pie\", \"values\": [71.15384615384616, 28.846153846153843]}],\n",
       "                        {\"template\": {\"data\": {\"bar\": [{\"error_x\": {\"color\": \"#2a3f5f\"}, \"error_y\": {\"color\": \"#2a3f5f\"}, \"marker\": {\"line\": {\"color\": \"#E5ECF6\", \"width\": 0.5}}, \"type\": \"bar\"}], \"barpolar\": [{\"marker\": {\"line\": {\"color\": \"#E5ECF6\", \"width\": 0.5}}, \"type\": \"barpolar\"}], \"carpet\": [{\"aaxis\": {\"endlinecolor\": \"#2a3f5f\", \"gridcolor\": \"white\", \"linecolor\": \"white\", \"minorgridcolor\": \"white\", \"startlinecolor\": \"#2a3f5f\"}, \"baxis\": {\"endlinecolor\": \"#2a3f5f\", \"gridcolor\": \"white\", \"linecolor\": \"white\", \"minorgridcolor\": \"white\", \"startlinecolor\": \"#2a3f5f\"}, \"type\": \"carpet\"}], \"choropleth\": [{\"colorbar\": {\"outlinewidth\": 0, \"ticks\": \"\"}, \"type\": \"choropleth\"}], \"contour\": [{\"colorbar\": {\"outlinewidth\": 0, \"ticks\": \"\"}, \"colorscale\": [[0.0, \"#0d0887\"], [0.1111111111111111, \"#46039f\"], [0.2222222222222222, \"#7201a8\"], [0.3333333333333333, \"#9c179e\"], [0.4444444444444444, \"#bd3786\"], [0.5555555555555556, \"#d8576b\"], [0.6666666666666666, \"#ed7953\"], [0.7777777777777778, \"#fb9f3a\"], [0.8888888888888888, \"#fdca26\"], [1.0, \"#f0f921\"]], \"type\": \"contour\"}], \"contourcarpet\": [{\"colorbar\": {\"outlinewidth\": 0, \"ticks\": \"\"}, \"type\": \"contourcarpet\"}], \"heatmap\": [{\"colorbar\": {\"outlinewidth\": 0, \"ticks\": \"\"}, \"colorscale\": [[0.0, \"#0d0887\"], [0.1111111111111111, \"#46039f\"], [0.2222222222222222, \"#7201a8\"], [0.3333333333333333, \"#9c179e\"], [0.4444444444444444, \"#bd3786\"], [0.5555555555555556, \"#d8576b\"], [0.6666666666666666, \"#ed7953\"], [0.7777777777777778, \"#fb9f3a\"], [0.8888888888888888, \"#fdca26\"], [1.0, \"#f0f921\"]], \"type\": \"heatmap\"}], \"heatmapgl\": [{\"colorbar\": {\"outlinewidth\": 0, \"ticks\": \"\"}, \"colorscale\": [[0.0, \"#0d0887\"], [0.1111111111111111, \"#46039f\"], [0.2222222222222222, \"#7201a8\"], [0.3333333333333333, \"#9c179e\"], [0.4444444444444444, \"#bd3786\"], [0.5555555555555556, \"#d8576b\"], [0.6666666666666666, \"#ed7953\"], [0.7777777777777778, \"#fb9f3a\"], [0.8888888888888888, \"#fdca26\"], [1.0, \"#f0f921\"]], \"type\": \"heatmapgl\"}], \"histogram\": [{\"marker\": {\"colorbar\": {\"outlinewidth\": 0, \"ticks\": \"\"}}, \"type\": \"histogram\"}], \"histogram2d\": [{\"colorbar\": {\"outlinewidth\": 0, \"ticks\": \"\"}, \"colorscale\": [[0.0, \"#0d0887\"], [0.1111111111111111, \"#46039f\"], [0.2222222222222222, \"#7201a8\"], [0.3333333333333333, \"#9c179e\"], [0.4444444444444444, \"#bd3786\"], [0.5555555555555556, \"#d8576b\"], [0.6666666666666666, \"#ed7953\"], [0.7777777777777778, \"#fb9f3a\"], [0.8888888888888888, \"#fdca26\"], [1.0, \"#f0f921\"]], \"type\": \"histogram2d\"}], \"histogram2dcontour\": [{\"colorbar\": {\"outlinewidth\": 0, \"ticks\": \"\"}, \"colorscale\": [[0.0, \"#0d0887\"], [0.1111111111111111, \"#46039f\"], [0.2222222222222222, \"#7201a8\"], [0.3333333333333333, \"#9c179e\"], [0.4444444444444444, \"#bd3786\"], [0.5555555555555556, \"#d8576b\"], [0.6666666666666666, \"#ed7953\"], [0.7777777777777778, \"#fb9f3a\"], [0.8888888888888888, \"#fdca26\"], [1.0, \"#f0f921\"]], \"type\": \"histogram2dcontour\"}], \"mesh3d\": [{\"colorbar\": {\"outlinewidth\": 0, \"ticks\": \"\"}, \"type\": \"mesh3d\"}], \"parcoords\": [{\"line\": {\"colorbar\": {\"outlinewidth\": 0, \"ticks\": \"\"}}, \"type\": \"parcoords\"}], \"pie\": [{\"automargin\": true, \"type\": \"pie\"}], \"scatter\": [{\"marker\": {\"colorbar\": {\"outlinewidth\": 0, \"ticks\": \"\"}}, \"type\": \"scatter\"}], \"scatter3d\": [{\"line\": {\"colorbar\": {\"outlinewidth\": 0, \"ticks\": \"\"}}, \"marker\": {\"colorbar\": {\"outlinewidth\": 0, \"ticks\": \"\"}}, \"type\": \"scatter3d\"}], \"scattercarpet\": [{\"marker\": {\"colorbar\": {\"outlinewidth\": 0, \"ticks\": \"\"}}, \"type\": \"scattercarpet\"}], \"scattergeo\": [{\"marker\": {\"colorbar\": {\"outlinewidth\": 0, \"ticks\": \"\"}}, \"type\": \"scattergeo\"}], \"scattergl\": [{\"marker\": {\"colorbar\": {\"outlinewidth\": 0, \"ticks\": \"\"}}, \"type\": \"scattergl\"}], \"scattermapbox\": [{\"marker\": {\"colorbar\": {\"outlinewidth\": 0, \"ticks\": \"\"}}, \"type\": \"scattermapbox\"}], \"scatterpolar\": [{\"marker\": {\"colorbar\": {\"outlinewidth\": 0, \"ticks\": \"\"}}, \"type\": \"scatterpolar\"}], \"scatterpolargl\": [{\"marker\": {\"colorbar\": {\"outlinewidth\": 0, \"ticks\": \"\"}}, \"type\": \"scatterpolargl\"}], \"scatterternary\": [{\"marker\": {\"colorbar\": {\"outlinewidth\": 0, \"ticks\": \"\"}}, \"type\": \"scatterternary\"}], \"surface\": [{\"colorbar\": {\"outlinewidth\": 0, \"ticks\": \"\"}, \"colorscale\": [[0.0, \"#0d0887\"], [0.1111111111111111, \"#46039f\"], [0.2222222222222222, \"#7201a8\"], [0.3333333333333333, \"#9c179e\"], [0.4444444444444444, \"#bd3786\"], [0.5555555555555556, \"#d8576b\"], [0.6666666666666666, \"#ed7953\"], [0.7777777777777778, \"#fb9f3a\"], [0.8888888888888888, \"#fdca26\"], [1.0, \"#f0f921\"]], \"type\": \"surface\"}], \"table\": [{\"cells\": {\"fill\": {\"color\": \"#EBF0F8\"}, \"line\": {\"color\": \"white\"}}, \"header\": {\"fill\": {\"color\": \"#C8D4E3\"}, \"line\": {\"color\": \"white\"}}, \"type\": \"table\"}]}, \"layout\": {\"annotationdefaults\": {\"arrowcolor\": \"#2a3f5f\", \"arrowhead\": 0, \"arrowwidth\": 1}, \"coloraxis\": {\"colorbar\": {\"outlinewidth\": 0, \"ticks\": \"\"}}, \"colorscale\": {\"diverging\": [[0, \"#8e0152\"], [0.1, \"#c51b7d\"], [0.2, \"#de77ae\"], [0.3, \"#f1b6da\"], [0.4, \"#fde0ef\"], [0.5, \"#f7f7f7\"], [0.6, \"#e6f5d0\"], [0.7, \"#b8e186\"], [0.8, \"#7fbc41\"], [0.9, \"#4d9221\"], [1, \"#276419\"]], \"sequential\": [[0.0, \"#0d0887\"], [0.1111111111111111, \"#46039f\"], [0.2222222222222222, \"#7201a8\"], [0.3333333333333333, \"#9c179e\"], [0.4444444444444444, \"#bd3786\"], [0.5555555555555556, \"#d8576b\"], [0.6666666666666666, \"#ed7953\"], [0.7777777777777778, \"#fb9f3a\"], [0.8888888888888888, \"#fdca26\"], [1.0, \"#f0f921\"]], \"sequentialminus\": [[0.0, \"#0d0887\"], [0.1111111111111111, \"#46039f\"], [0.2222222222222222, \"#7201a8\"], [0.3333333333333333, \"#9c179e\"], [0.4444444444444444, \"#bd3786\"], [0.5555555555555556, \"#d8576b\"], [0.6666666666666666, \"#ed7953\"], [0.7777777777777778, \"#fb9f3a\"], [0.8888888888888888, \"#fdca26\"], [1.0, \"#f0f921\"]]}, \"colorway\": [\"#636efa\", \"#EF553B\", \"#00cc96\", \"#ab63fa\", \"#FFA15A\", \"#19d3f3\", \"#FF6692\", \"#B6E880\", \"#FF97FF\", \"#FECB52\"], \"font\": {\"color\": \"#2a3f5f\"}, \"geo\": {\"bgcolor\": \"white\", \"lakecolor\": \"white\", \"landcolor\": \"#E5ECF6\", \"showlakes\": true, \"showland\": true, \"subunitcolor\": \"white\"}, \"hoverlabel\": {\"align\": \"left\"}, \"hovermode\": \"closest\", \"mapbox\": {\"style\": \"light\"}, \"paper_bgcolor\": \"white\", \"plot_bgcolor\": \"#E5ECF6\", \"polar\": {\"angularaxis\": {\"gridcolor\": \"white\", \"linecolor\": \"white\", \"ticks\": \"\"}, \"bgcolor\": \"#E5ECF6\", \"radialaxis\": {\"gridcolor\": \"white\", \"linecolor\": \"white\", \"ticks\": \"\"}}, \"scene\": {\"xaxis\": {\"backgroundcolor\": \"#E5ECF6\", \"gridcolor\": \"white\", \"gridwidth\": 2, \"linecolor\": \"white\", \"showbackground\": true, \"ticks\": \"\", \"zerolinecolor\": \"white\"}, \"yaxis\": {\"backgroundcolor\": \"#E5ECF6\", \"gridcolor\": \"white\", \"gridwidth\": 2, \"linecolor\": \"white\", \"showbackground\": true, \"ticks\": \"\", \"zerolinecolor\": \"white\"}, \"zaxis\": {\"backgroundcolor\": \"#E5ECF6\", \"gridcolor\": \"white\", \"gridwidth\": 2, \"linecolor\": \"white\", \"showbackground\": true, \"ticks\": \"\", \"zerolinecolor\": \"white\"}}, \"shapedefaults\": {\"line\": {\"color\": \"#2a3f5f\"}}, \"ternary\": {\"aaxis\": {\"gridcolor\": \"white\", \"linecolor\": \"white\", \"ticks\": \"\"}, \"baxis\": {\"gridcolor\": \"white\", \"linecolor\": \"white\", \"ticks\": \"\"}, \"bgcolor\": \"#E5ECF6\", \"caxis\": {\"gridcolor\": \"white\", \"linecolor\": \"white\", \"ticks\": \"\"}}, \"title\": {\"x\": 0.05}, \"xaxis\": {\"automargin\": true, \"gridcolor\": \"white\", \"linecolor\": \"white\", \"ticks\": \"\", \"title\": {\"standoff\": 15}, \"zerolinecolor\": \"white\", \"zerolinewidth\": 2}, \"yaxis\": {\"automargin\": true, \"gridcolor\": \"white\", \"linecolor\": \"white\", \"ticks\": \"\", \"title\": {\"standoff\": 15}, \"zerolinecolor\": \"white\", \"zerolinewidth\": 2}}}, \"title\": {\"text\": \"Dataset Score Grade Distribution\"}},\n",
       "                        {\"responsive\": true}\n",
       "                    ).then(function(){\n",
       "                            \n",
       "var gd = document.getElementById('d2a103d2-2857-4495-9c2a-8c635e04735f');\n",
       "var x = new MutationObserver(function (mutations, observer) {{\n",
       "        var display = window.getComputedStyle(gd).display;\n",
       "        if (!display || display === 'none') {{\n",
       "            console.log([gd, 'removed!']);\n",
       "            Plotly.purge(gd);\n",
       "            observer.disconnect();\n",
       "        }}\n",
       "}});\n",
       "\n",
       "// Listen for the removal of the full notebook cells\n",
       "var notebookContainer = gd.closest('#notebook-container');\n",
       "if (notebookContainer) {{\n",
       "    x.observe(notebookContainer, {childList: true});\n",
       "}}\n",
       "\n",
       "// Listen for the clearing of the current output cell\n",
       "var outputEl = gd.closest('.output');\n",
       "if (outputEl) {{\n",
       "    x.observe(outputEl, {childList: true});\n",
       "}}\n",
       "\n",
       "                        })\n",
       "                };\n",
       "                });\n",
       "            </script>\n",
       "        </div>"
      ]
     },
     "metadata": {},
     "output_type": "display_data"
    }
   ],
   "source": [
    "temp_series = df['grade'].value_counts()\n",
    "labels = (np.array(temp_series.index))\n",
    "sizes = (np.array((temp_series / temp_series.sum())*100))\n",
    "\n",
    "trace = go.Pie(labels=labels, values=sizes)\n",
    "layout = go.Layout(\n",
    "    title='Dataset Score Grade Distribution'\n",
    ")\n",
    "data = [trace]\n",
    "fig = go.Figure(data=data, layout=layout)\n",
    "py.iplot(fig, filename=\"score_grade_dist\")"
   ]
  },
  {
   "cell_type": "markdown",
   "metadata": {},
   "source": [
    "What this means is that 28.8% of the dataset has states that missed one of the following: \n",
    "+1 for reporting positives reliably\n",
    "+1 for reporting negatives sometimes\n",
    "+1 for reporting negatives reliably\n",
    "+1 for reporting all commercial tests"
   ]
  },
  {
   "cell_type": "markdown",
   "metadata": {},
   "source": [
    "If we want to analyze positive data then we need to get a subset of data that only has grade A data. This will be done prior to use of any positive data for analysis. "
   ]
  },
  {
   "cell_type": "code",
   "execution_count": 30,
   "metadata": {},
   "outputs": [],
   "source": [
    "grade_A = df.loc[df['grade'] == 'A']"
   ]
  },
  {
   "cell_type": "code",
   "execution_count": 33,
   "metadata": {},
   "outputs": [
    {
     "data": {
      "text/plain": [
       "(37, 21)"
      ]
     },
     "execution_count": 33,
     "metadata": {},
     "output_type": "execute_result"
    }
   ],
   "source": [
    "grade_A.shape"
   ]
  },
  {
   "cell_type": "markdown",
   "metadata": {},
   "source": [
    "37/56 = .66 (66%) of the data is retained..."
   ]
  },
  {
   "cell_type": "code",
   "execution_count": 31,
   "metadata": {},
   "outputs": [
    {
     "data": {
      "application/vnd.plotly.v1+json": {
       "config": {
        "plotlyServerURL": "https://plot.ly"
       },
       "data": [
        {
         "name": "Hospitalized",
         "type": "bar",
         "x": [
          "AK",
          "AR",
          "CO",
          "CT",
          "DC",
          "DE",
          "FL",
          "GA",
          "HI",
          "IA",
          "ID",
          "IL",
          "KY",
          "LA",
          "MD",
          "ME",
          "MN",
          "MO",
          "MT",
          "NC",
          "NE",
          "NJ",
          "NM",
          "NV",
          "NY",
          "OR",
          "PA",
          "SD",
          "TN",
          "TX",
          "UT",
          "VA",
          "VT",
          "WA",
          "WI",
          "WY",
          "PR"
         ],
         "y": [
          9,
          null,
          90,
          149,
          1855,
          620,
          766,
          null,
          57,
          1043,
          1013,
          15,
          99,
          49,
          null,
          null,
          114,
          null,
          1498,
          682,
          522,
          63,
          null,
          122,
          null,
          332,
          19,
          204,
          26,
          null,
          59,
          null,
          31,
          null,
          18368,
          679,
          219,
          167,
          620,
          60,
          349,
          12,
          200,
          196,
          91,
          305,
          45,
          254,
          398,
          1,
          20,
          null,
          null,
          19,
          null,
          null
         ]
        },
        {
         "name": "Positive",
         "type": "bar",
         "x": [
          "AK",
          "AR",
          "CO",
          "CT",
          "DC",
          "DE",
          "FL",
          "GA",
          "HI",
          "IA",
          "ID",
          "IL",
          "KY",
          "LA",
          "MD",
          "ME",
          "MN",
          "MO",
          "MT",
          "NC",
          "NE",
          "NJ",
          "NM",
          "NV",
          "NY",
          "OR",
          "PA",
          "SD",
          "TN",
          "TX",
          "UT",
          "VA",
          "VT",
          "WA",
          "WI",
          "WY",
          "PR"
         ],
         "y": [
          143,
          1106,
          624,
          1413,
          8155,
          3342,
          3557,
          586,
          368,
          7559,
          4748,
          258,
          549,
          673,
          6980,
          2565,
          482,
          680,
          6424,
          7738,
          1985,
          344,
          9334,
          689,
          1581,
          1073,
          217,
          1584,
          147,
          214,
          415,
          22255,
          363,
          1279,
          83712,
          2547,
          719,
          736,
          5805,
          566,
          1293,
          129,
          2683,
          3997,
          1012,
          1484,
          321,
          5984,
          1550,
          191,
          137,
          286,
          0,
          77,
          6,
          30
         ]
        }
       ],
       "layout": {
        "barmode": "group",
        "template": {
         "data": {
          "bar": [
           {
            "error_x": {
             "color": "#2a3f5f"
            },
            "error_y": {
             "color": "#2a3f5f"
            },
            "marker": {
             "line": {
              "color": "#E5ECF6",
              "width": 0.5
             }
            },
            "type": "bar"
           }
          ],
          "barpolar": [
           {
            "marker": {
             "line": {
              "color": "#E5ECF6",
              "width": 0.5
             }
            },
            "type": "barpolar"
           }
          ],
          "carpet": [
           {
            "aaxis": {
             "endlinecolor": "#2a3f5f",
             "gridcolor": "white",
             "linecolor": "white",
             "minorgridcolor": "white",
             "startlinecolor": "#2a3f5f"
            },
            "baxis": {
             "endlinecolor": "#2a3f5f",
             "gridcolor": "white",
             "linecolor": "white",
             "minorgridcolor": "white",
             "startlinecolor": "#2a3f5f"
            },
            "type": "carpet"
           }
          ],
          "choropleth": [
           {
            "colorbar": {
             "outlinewidth": 0,
             "ticks": ""
            },
            "type": "choropleth"
           }
          ],
          "contour": [
           {
            "colorbar": {
             "outlinewidth": 0,
             "ticks": ""
            },
            "colorscale": [
             [
              0,
              "#0d0887"
             ],
             [
              0.1111111111111111,
              "#46039f"
             ],
             [
              0.2222222222222222,
              "#7201a8"
             ],
             [
              0.3333333333333333,
              "#9c179e"
             ],
             [
              0.4444444444444444,
              "#bd3786"
             ],
             [
              0.5555555555555556,
              "#d8576b"
             ],
             [
              0.6666666666666666,
              "#ed7953"
             ],
             [
              0.7777777777777778,
              "#fb9f3a"
             ],
             [
              0.8888888888888888,
              "#fdca26"
             ],
             [
              1,
              "#f0f921"
             ]
            ],
            "type": "contour"
           }
          ],
          "contourcarpet": [
           {
            "colorbar": {
             "outlinewidth": 0,
             "ticks": ""
            },
            "type": "contourcarpet"
           }
          ],
          "heatmap": [
           {
            "colorbar": {
             "outlinewidth": 0,
             "ticks": ""
            },
            "colorscale": [
             [
              0,
              "#0d0887"
             ],
             [
              0.1111111111111111,
              "#46039f"
             ],
             [
              0.2222222222222222,
              "#7201a8"
             ],
             [
              0.3333333333333333,
              "#9c179e"
             ],
             [
              0.4444444444444444,
              "#bd3786"
             ],
             [
              0.5555555555555556,
              "#d8576b"
             ],
             [
              0.6666666666666666,
              "#ed7953"
             ],
             [
              0.7777777777777778,
              "#fb9f3a"
             ],
             [
              0.8888888888888888,
              "#fdca26"
             ],
             [
              1,
              "#f0f921"
             ]
            ],
            "type": "heatmap"
           }
          ],
          "heatmapgl": [
           {
            "colorbar": {
             "outlinewidth": 0,
             "ticks": ""
            },
            "colorscale": [
             [
              0,
              "#0d0887"
             ],
             [
              0.1111111111111111,
              "#46039f"
             ],
             [
              0.2222222222222222,
              "#7201a8"
             ],
             [
              0.3333333333333333,
              "#9c179e"
             ],
             [
              0.4444444444444444,
              "#bd3786"
             ],
             [
              0.5555555555555556,
              "#d8576b"
             ],
             [
              0.6666666666666666,
              "#ed7953"
             ],
             [
              0.7777777777777778,
              "#fb9f3a"
             ],
             [
              0.8888888888888888,
              "#fdca26"
             ],
             [
              1,
              "#f0f921"
             ]
            ],
            "type": "heatmapgl"
           }
          ],
          "histogram": [
           {
            "marker": {
             "colorbar": {
              "outlinewidth": 0,
              "ticks": ""
             }
            },
            "type": "histogram"
           }
          ],
          "histogram2d": [
           {
            "colorbar": {
             "outlinewidth": 0,
             "ticks": ""
            },
            "colorscale": [
             [
              0,
              "#0d0887"
             ],
             [
              0.1111111111111111,
              "#46039f"
             ],
             [
              0.2222222222222222,
              "#7201a8"
             ],
             [
              0.3333333333333333,
              "#9c179e"
             ],
             [
              0.4444444444444444,
              "#bd3786"
             ],
             [
              0.5555555555555556,
              "#d8576b"
             ],
             [
              0.6666666666666666,
              "#ed7953"
             ],
             [
              0.7777777777777778,
              "#fb9f3a"
             ],
             [
              0.8888888888888888,
              "#fdca26"
             ],
             [
              1,
              "#f0f921"
             ]
            ],
            "type": "histogram2d"
           }
          ],
          "histogram2dcontour": [
           {
            "colorbar": {
             "outlinewidth": 0,
             "ticks": ""
            },
            "colorscale": [
             [
              0,
              "#0d0887"
             ],
             [
              0.1111111111111111,
              "#46039f"
             ],
             [
              0.2222222222222222,
              "#7201a8"
             ],
             [
              0.3333333333333333,
              "#9c179e"
             ],
             [
              0.4444444444444444,
              "#bd3786"
             ],
             [
              0.5555555555555556,
              "#d8576b"
             ],
             [
              0.6666666666666666,
              "#ed7953"
             ],
             [
              0.7777777777777778,
              "#fb9f3a"
             ],
             [
              0.8888888888888888,
              "#fdca26"
             ],
             [
              1,
              "#f0f921"
             ]
            ],
            "type": "histogram2dcontour"
           }
          ],
          "mesh3d": [
           {
            "colorbar": {
             "outlinewidth": 0,
             "ticks": ""
            },
            "type": "mesh3d"
           }
          ],
          "parcoords": [
           {
            "line": {
             "colorbar": {
              "outlinewidth": 0,
              "ticks": ""
             }
            },
            "type": "parcoords"
           }
          ],
          "pie": [
           {
            "automargin": true,
            "type": "pie"
           }
          ],
          "scatter": [
           {
            "marker": {
             "colorbar": {
              "outlinewidth": 0,
              "ticks": ""
             }
            },
            "type": "scatter"
           }
          ],
          "scatter3d": [
           {
            "line": {
             "colorbar": {
              "outlinewidth": 0,
              "ticks": ""
             }
            },
            "marker": {
             "colorbar": {
              "outlinewidth": 0,
              "ticks": ""
             }
            },
            "type": "scatter3d"
           }
          ],
          "scattercarpet": [
           {
            "marker": {
             "colorbar": {
              "outlinewidth": 0,
              "ticks": ""
             }
            },
            "type": "scattercarpet"
           }
          ],
          "scattergeo": [
           {
            "marker": {
             "colorbar": {
              "outlinewidth": 0,
              "ticks": ""
             }
            },
            "type": "scattergeo"
           }
          ],
          "scattergl": [
           {
            "marker": {
             "colorbar": {
              "outlinewidth": 0,
              "ticks": ""
             }
            },
            "type": "scattergl"
           }
          ],
          "scattermapbox": [
           {
            "marker": {
             "colorbar": {
              "outlinewidth": 0,
              "ticks": ""
             }
            },
            "type": "scattermapbox"
           }
          ],
          "scatterpolar": [
           {
            "marker": {
             "colorbar": {
              "outlinewidth": 0,
              "ticks": ""
             }
            },
            "type": "scatterpolar"
           }
          ],
          "scatterpolargl": [
           {
            "marker": {
             "colorbar": {
              "outlinewidth": 0,
              "ticks": ""
             }
            },
            "type": "scatterpolargl"
           }
          ],
          "scatterternary": [
           {
            "marker": {
             "colorbar": {
              "outlinewidth": 0,
              "ticks": ""
             }
            },
            "type": "scatterternary"
           }
          ],
          "surface": [
           {
            "colorbar": {
             "outlinewidth": 0,
             "ticks": ""
            },
            "colorscale": [
             [
              0,
              "#0d0887"
             ],
             [
              0.1111111111111111,
              "#46039f"
             ],
             [
              0.2222222222222222,
              "#7201a8"
             ],
             [
              0.3333333333333333,
              "#9c179e"
             ],
             [
              0.4444444444444444,
              "#bd3786"
             ],
             [
              0.5555555555555556,
              "#d8576b"
             ],
             [
              0.6666666666666666,
              "#ed7953"
             ],
             [
              0.7777777777777778,
              "#fb9f3a"
             ],
             [
              0.8888888888888888,
              "#fdca26"
             ],
             [
              1,
              "#f0f921"
             ]
            ],
            "type": "surface"
           }
          ],
          "table": [
           {
            "cells": {
             "fill": {
              "color": "#EBF0F8"
             },
             "line": {
              "color": "white"
             }
            },
            "header": {
             "fill": {
              "color": "#C8D4E3"
             },
             "line": {
              "color": "white"
             }
            },
            "type": "table"
           }
          ]
         },
         "layout": {
          "annotationdefaults": {
           "arrowcolor": "#2a3f5f",
           "arrowhead": 0,
           "arrowwidth": 1
          },
          "coloraxis": {
           "colorbar": {
            "outlinewidth": 0,
            "ticks": ""
           }
          },
          "colorscale": {
           "diverging": [
            [
             0,
             "#8e0152"
            ],
            [
             0.1,
             "#c51b7d"
            ],
            [
             0.2,
             "#de77ae"
            ],
            [
             0.3,
             "#f1b6da"
            ],
            [
             0.4,
             "#fde0ef"
            ],
            [
             0.5,
             "#f7f7f7"
            ],
            [
             0.6,
             "#e6f5d0"
            ],
            [
             0.7,
             "#b8e186"
            ],
            [
             0.8,
             "#7fbc41"
            ],
            [
             0.9,
             "#4d9221"
            ],
            [
             1,
             "#276419"
            ]
           ],
           "sequential": [
            [
             0,
             "#0d0887"
            ],
            [
             0.1111111111111111,
             "#46039f"
            ],
            [
             0.2222222222222222,
             "#7201a8"
            ],
            [
             0.3333333333333333,
             "#9c179e"
            ],
            [
             0.4444444444444444,
             "#bd3786"
            ],
            [
             0.5555555555555556,
             "#d8576b"
            ],
            [
             0.6666666666666666,
             "#ed7953"
            ],
            [
             0.7777777777777778,
             "#fb9f3a"
            ],
            [
             0.8888888888888888,
             "#fdca26"
            ],
            [
             1,
             "#f0f921"
            ]
           ],
           "sequentialminus": [
            [
             0,
             "#0d0887"
            ],
            [
             0.1111111111111111,
             "#46039f"
            ],
            [
             0.2222222222222222,
             "#7201a8"
            ],
            [
             0.3333333333333333,
             "#9c179e"
            ],
            [
             0.4444444444444444,
             "#bd3786"
            ],
            [
             0.5555555555555556,
             "#d8576b"
            ],
            [
             0.6666666666666666,
             "#ed7953"
            ],
            [
             0.7777777777777778,
             "#fb9f3a"
            ],
            [
             0.8888888888888888,
             "#fdca26"
            ],
            [
             1,
             "#f0f921"
            ]
           ]
          },
          "colorway": [
           "#636efa",
           "#EF553B",
           "#00cc96",
           "#ab63fa",
           "#FFA15A",
           "#19d3f3",
           "#FF6692",
           "#B6E880",
           "#FF97FF",
           "#FECB52"
          ],
          "font": {
           "color": "#2a3f5f"
          },
          "geo": {
           "bgcolor": "white",
           "lakecolor": "white",
           "landcolor": "#E5ECF6",
           "showlakes": true,
           "showland": true,
           "subunitcolor": "white"
          },
          "hoverlabel": {
           "align": "left"
          },
          "hovermode": "closest",
          "mapbox": {
           "style": "light"
          },
          "paper_bgcolor": "white",
          "plot_bgcolor": "#E5ECF6",
          "polar": {
           "angularaxis": {
            "gridcolor": "white",
            "linecolor": "white",
            "ticks": ""
           },
           "bgcolor": "#E5ECF6",
           "radialaxis": {
            "gridcolor": "white",
            "linecolor": "white",
            "ticks": ""
           }
          },
          "scene": {
           "xaxis": {
            "backgroundcolor": "#E5ECF6",
            "gridcolor": "white",
            "gridwidth": 2,
            "linecolor": "white",
            "showbackground": true,
            "ticks": "",
            "zerolinecolor": "white"
           },
           "yaxis": {
            "backgroundcolor": "#E5ECF6",
            "gridcolor": "white",
            "gridwidth": 2,
            "linecolor": "white",
            "showbackground": true,
            "ticks": "",
            "zerolinecolor": "white"
           },
           "zaxis": {
            "backgroundcolor": "#E5ECF6",
            "gridcolor": "white",
            "gridwidth": 2,
            "linecolor": "white",
            "showbackground": true,
            "ticks": "",
            "zerolinecolor": "white"
           }
          },
          "shapedefaults": {
           "line": {
            "color": "#2a3f5f"
           }
          },
          "ternary": {
           "aaxis": {
            "gridcolor": "white",
            "linecolor": "white",
            "ticks": ""
           },
           "baxis": {
            "gridcolor": "white",
            "linecolor": "white",
            "ticks": ""
           },
           "bgcolor": "#E5ECF6",
           "caxis": {
            "gridcolor": "white",
            "linecolor": "white",
            "ticks": ""
           }
          },
          "title": {
           "x": 0.05
          },
          "xaxis": {
           "automargin": true,
           "gridcolor": "white",
           "linecolor": "white",
           "ticks": "",
           "title": {
            "standoff": 15
           },
           "zerolinecolor": "white",
           "zerolinewidth": 2
          },
          "yaxis": {
           "automargin": true,
           "gridcolor": "white",
           "linecolor": "white",
           "ticks": "",
           "title": {
            "standoff": 15
           },
           "zerolinecolor": "white",
           "zerolinewidth": 2
          }
         }
        }
       }
      },
      "text/html": [
       "<div>\n",
       "        \n",
       "        \n",
       "            <div id=\"1e53071f-bdb5-43c9-9341-0ab6b8a76277\" class=\"plotly-graph-div\" style=\"height:525px; width:100%;\"></div>\n",
       "            <script type=\"text/javascript\">\n",
       "                require([\"plotly\"], function(Plotly) {\n",
       "                    window.PLOTLYENV=window.PLOTLYENV || {};\n",
       "                    \n",
       "                if (document.getElementById(\"1e53071f-bdb5-43c9-9341-0ab6b8a76277\")) {\n",
       "                    Plotly.newPlot(\n",
       "                        '1e53071f-bdb5-43c9-9341-0ab6b8a76277',\n",
       "                        [{\"name\": \"Hospitalized\", \"type\": \"bar\", \"x\": [\"AK\", \"AR\", \"CO\", \"CT\", \"DC\", \"DE\", \"FL\", \"GA\", \"HI\", \"IA\", \"ID\", \"IL\", \"KY\", \"LA\", \"MD\", \"ME\", \"MN\", \"MO\", \"MT\", \"NC\", \"NE\", \"NJ\", \"NM\", \"NV\", \"NY\", \"OR\", \"PA\", \"SD\", \"TN\", \"TX\", \"UT\", \"VA\", \"VT\", \"WA\", \"WI\", \"WY\", \"PR\"], \"y\": [9.0, null, 90.0, 149.0, 1855.0, 620.0, 766.0, null, 57.0, 1043.0, 1013.0, 15.0, 99.0, 49.0, null, null, 114.0, null, 1498.0, 682.0, 522.0, 63.0, null, 122.0, null, 332.0, 19.0, 204.0, 26.0, null, 59.0, null, 31.0, null, 18368.0, 679.0, 219.0, 167.0, 620.0, 60.0, 349.0, 12.0, 200.0, 196.0, 91.0, 305.0, 45.0, 254.0, 398.0, 1.0, 20.0, null, null, 19.0, null, null]}, {\"name\": \"Positive\", \"type\": \"bar\", \"x\": [\"AK\", \"AR\", \"CO\", \"CT\", \"DC\", \"DE\", \"FL\", \"GA\", \"HI\", \"IA\", \"ID\", \"IL\", \"KY\", \"LA\", \"MD\", \"ME\", \"MN\", \"MO\", \"MT\", \"NC\", \"NE\", \"NJ\", \"NM\", \"NV\", \"NY\", \"OR\", \"PA\", \"SD\", \"TN\", \"TX\", \"UT\", \"VA\", \"VT\", \"WA\", \"WI\", \"WY\", \"PR\"], \"y\": [143, 1106, 624, 1413, 8155, 3342, 3557, 586, 368, 7559, 4748, 258, 549, 673, 6980, 2565, 482, 680, 6424, 7738, 1985, 344, 9334, 689, 1581, 1073, 217, 1584, 147, 214, 415, 22255, 363, 1279, 83712, 2547, 719, 736, 5805, 566, 1293, 129, 2683, 3997, 1012, 1484, 321, 5984, 1550, 191, 137, 286, 0, 77, 6, 30]}],\n",
       "                        {\"barmode\": \"group\", \"template\": {\"data\": {\"bar\": [{\"error_x\": {\"color\": \"#2a3f5f\"}, \"error_y\": {\"color\": \"#2a3f5f\"}, \"marker\": {\"line\": {\"color\": \"#E5ECF6\", \"width\": 0.5}}, \"type\": \"bar\"}], \"barpolar\": [{\"marker\": {\"line\": {\"color\": \"#E5ECF6\", \"width\": 0.5}}, \"type\": \"barpolar\"}], \"carpet\": [{\"aaxis\": {\"endlinecolor\": \"#2a3f5f\", \"gridcolor\": \"white\", \"linecolor\": \"white\", \"minorgridcolor\": \"white\", \"startlinecolor\": \"#2a3f5f\"}, \"baxis\": {\"endlinecolor\": \"#2a3f5f\", \"gridcolor\": \"white\", \"linecolor\": \"white\", \"minorgridcolor\": \"white\", \"startlinecolor\": \"#2a3f5f\"}, \"type\": \"carpet\"}], \"choropleth\": [{\"colorbar\": {\"outlinewidth\": 0, \"ticks\": \"\"}, \"type\": \"choropleth\"}], \"contour\": [{\"colorbar\": {\"outlinewidth\": 0, \"ticks\": \"\"}, \"colorscale\": [[0.0, \"#0d0887\"], [0.1111111111111111, \"#46039f\"], [0.2222222222222222, \"#7201a8\"], [0.3333333333333333, \"#9c179e\"], [0.4444444444444444, \"#bd3786\"], [0.5555555555555556, \"#d8576b\"], [0.6666666666666666, \"#ed7953\"], [0.7777777777777778, \"#fb9f3a\"], [0.8888888888888888, \"#fdca26\"], [1.0, \"#f0f921\"]], \"type\": \"contour\"}], \"contourcarpet\": [{\"colorbar\": {\"outlinewidth\": 0, \"ticks\": \"\"}, \"type\": \"contourcarpet\"}], \"heatmap\": [{\"colorbar\": {\"outlinewidth\": 0, \"ticks\": \"\"}, \"colorscale\": [[0.0, \"#0d0887\"], [0.1111111111111111, \"#46039f\"], [0.2222222222222222, \"#7201a8\"], [0.3333333333333333, \"#9c179e\"], [0.4444444444444444, \"#bd3786\"], [0.5555555555555556, \"#d8576b\"], [0.6666666666666666, \"#ed7953\"], [0.7777777777777778, \"#fb9f3a\"], [0.8888888888888888, \"#fdca26\"], [1.0, \"#f0f921\"]], \"type\": \"heatmap\"}], \"heatmapgl\": [{\"colorbar\": {\"outlinewidth\": 0, \"ticks\": \"\"}, \"colorscale\": [[0.0, \"#0d0887\"], [0.1111111111111111, \"#46039f\"], [0.2222222222222222, \"#7201a8\"], [0.3333333333333333, \"#9c179e\"], [0.4444444444444444, \"#bd3786\"], [0.5555555555555556, \"#d8576b\"], [0.6666666666666666, \"#ed7953\"], [0.7777777777777778, \"#fb9f3a\"], [0.8888888888888888, \"#fdca26\"], [1.0, \"#f0f921\"]], \"type\": \"heatmapgl\"}], \"histogram\": [{\"marker\": {\"colorbar\": {\"outlinewidth\": 0, \"ticks\": \"\"}}, \"type\": \"histogram\"}], \"histogram2d\": [{\"colorbar\": {\"outlinewidth\": 0, \"ticks\": \"\"}, \"colorscale\": [[0.0, \"#0d0887\"], [0.1111111111111111, \"#46039f\"], [0.2222222222222222, \"#7201a8\"], [0.3333333333333333, \"#9c179e\"], [0.4444444444444444, \"#bd3786\"], [0.5555555555555556, \"#d8576b\"], [0.6666666666666666, \"#ed7953\"], [0.7777777777777778, \"#fb9f3a\"], [0.8888888888888888, \"#fdca26\"], [1.0, \"#f0f921\"]], \"type\": \"histogram2d\"}], \"histogram2dcontour\": [{\"colorbar\": {\"outlinewidth\": 0, \"ticks\": \"\"}, \"colorscale\": [[0.0, \"#0d0887\"], [0.1111111111111111, \"#46039f\"], [0.2222222222222222, \"#7201a8\"], [0.3333333333333333, \"#9c179e\"], [0.4444444444444444, \"#bd3786\"], [0.5555555555555556, \"#d8576b\"], [0.6666666666666666, \"#ed7953\"], [0.7777777777777778, \"#fb9f3a\"], [0.8888888888888888, \"#fdca26\"], [1.0, \"#f0f921\"]], \"type\": \"histogram2dcontour\"}], \"mesh3d\": [{\"colorbar\": {\"outlinewidth\": 0, \"ticks\": \"\"}, \"type\": \"mesh3d\"}], \"parcoords\": [{\"line\": {\"colorbar\": {\"outlinewidth\": 0, \"ticks\": \"\"}}, \"type\": \"parcoords\"}], \"pie\": [{\"automargin\": true, \"type\": \"pie\"}], \"scatter\": [{\"marker\": {\"colorbar\": {\"outlinewidth\": 0, \"ticks\": \"\"}}, \"type\": \"scatter\"}], \"scatter3d\": [{\"line\": {\"colorbar\": {\"outlinewidth\": 0, \"ticks\": \"\"}}, \"marker\": {\"colorbar\": {\"outlinewidth\": 0, \"ticks\": \"\"}}, \"type\": \"scatter3d\"}], \"scattercarpet\": [{\"marker\": {\"colorbar\": {\"outlinewidth\": 0, \"ticks\": \"\"}}, \"type\": \"scattercarpet\"}], \"scattergeo\": [{\"marker\": {\"colorbar\": {\"outlinewidth\": 0, \"ticks\": \"\"}}, \"type\": \"scattergeo\"}], \"scattergl\": [{\"marker\": {\"colorbar\": {\"outlinewidth\": 0, \"ticks\": \"\"}}, \"type\": \"scattergl\"}], \"scattermapbox\": [{\"marker\": {\"colorbar\": {\"outlinewidth\": 0, \"ticks\": \"\"}}, \"type\": \"scattermapbox\"}], \"scatterpolar\": [{\"marker\": {\"colorbar\": {\"outlinewidth\": 0, \"ticks\": \"\"}}, \"type\": \"scatterpolar\"}], \"scatterpolargl\": [{\"marker\": {\"colorbar\": {\"outlinewidth\": 0, \"ticks\": \"\"}}, \"type\": \"scatterpolargl\"}], \"scatterternary\": [{\"marker\": {\"colorbar\": {\"outlinewidth\": 0, \"ticks\": \"\"}}, \"type\": \"scatterternary\"}], \"surface\": [{\"colorbar\": {\"outlinewidth\": 0, \"ticks\": \"\"}, \"colorscale\": [[0.0, \"#0d0887\"], [0.1111111111111111, \"#46039f\"], [0.2222222222222222, \"#7201a8\"], [0.3333333333333333, \"#9c179e\"], [0.4444444444444444, \"#bd3786\"], [0.5555555555555556, \"#d8576b\"], [0.6666666666666666, \"#ed7953\"], [0.7777777777777778, \"#fb9f3a\"], [0.8888888888888888, \"#fdca26\"], [1.0, \"#f0f921\"]], \"type\": \"surface\"}], \"table\": [{\"cells\": {\"fill\": {\"color\": \"#EBF0F8\"}, \"line\": {\"color\": \"white\"}}, \"header\": {\"fill\": {\"color\": \"#C8D4E3\"}, \"line\": {\"color\": \"white\"}}, \"type\": \"table\"}]}, \"layout\": {\"annotationdefaults\": {\"arrowcolor\": \"#2a3f5f\", \"arrowhead\": 0, \"arrowwidth\": 1}, \"coloraxis\": {\"colorbar\": {\"outlinewidth\": 0, \"ticks\": \"\"}}, \"colorscale\": {\"diverging\": [[0, \"#8e0152\"], [0.1, \"#c51b7d\"], [0.2, \"#de77ae\"], [0.3, \"#f1b6da\"], [0.4, \"#fde0ef\"], [0.5, \"#f7f7f7\"], [0.6, \"#e6f5d0\"], [0.7, \"#b8e186\"], [0.8, \"#7fbc41\"], [0.9, \"#4d9221\"], [1, \"#276419\"]], \"sequential\": [[0.0, \"#0d0887\"], [0.1111111111111111, \"#46039f\"], [0.2222222222222222, \"#7201a8\"], [0.3333333333333333, \"#9c179e\"], [0.4444444444444444, \"#bd3786\"], [0.5555555555555556, \"#d8576b\"], [0.6666666666666666, \"#ed7953\"], [0.7777777777777778, \"#fb9f3a\"], [0.8888888888888888, \"#fdca26\"], [1.0, \"#f0f921\"]], \"sequentialminus\": [[0.0, \"#0d0887\"], [0.1111111111111111, \"#46039f\"], [0.2222222222222222, \"#7201a8\"], [0.3333333333333333, \"#9c179e\"], [0.4444444444444444, \"#bd3786\"], [0.5555555555555556, \"#d8576b\"], [0.6666666666666666, \"#ed7953\"], [0.7777777777777778, \"#fb9f3a\"], [0.8888888888888888, \"#fdca26\"], [1.0, \"#f0f921\"]]}, \"colorway\": [\"#636efa\", \"#EF553B\", \"#00cc96\", \"#ab63fa\", \"#FFA15A\", \"#19d3f3\", \"#FF6692\", \"#B6E880\", \"#FF97FF\", \"#FECB52\"], \"font\": {\"color\": \"#2a3f5f\"}, \"geo\": {\"bgcolor\": \"white\", \"lakecolor\": \"white\", \"landcolor\": \"#E5ECF6\", \"showlakes\": true, \"showland\": true, \"subunitcolor\": \"white\"}, \"hoverlabel\": {\"align\": \"left\"}, \"hovermode\": \"closest\", \"mapbox\": {\"style\": \"light\"}, \"paper_bgcolor\": \"white\", \"plot_bgcolor\": \"#E5ECF6\", \"polar\": {\"angularaxis\": {\"gridcolor\": \"white\", \"linecolor\": \"white\", \"ticks\": \"\"}, \"bgcolor\": \"#E5ECF6\", \"radialaxis\": {\"gridcolor\": \"white\", \"linecolor\": \"white\", \"ticks\": \"\"}}, \"scene\": {\"xaxis\": {\"backgroundcolor\": \"#E5ECF6\", \"gridcolor\": \"white\", \"gridwidth\": 2, \"linecolor\": \"white\", \"showbackground\": true, \"ticks\": \"\", \"zerolinecolor\": \"white\"}, \"yaxis\": {\"backgroundcolor\": \"#E5ECF6\", \"gridcolor\": \"white\", \"gridwidth\": 2, \"linecolor\": \"white\", \"showbackground\": true, \"ticks\": \"\", \"zerolinecolor\": \"white\"}, \"zaxis\": {\"backgroundcolor\": \"#E5ECF6\", \"gridcolor\": \"white\", \"gridwidth\": 2, \"linecolor\": \"white\", \"showbackground\": true, \"ticks\": \"\", \"zerolinecolor\": \"white\"}}, \"shapedefaults\": {\"line\": {\"color\": \"#2a3f5f\"}}, \"ternary\": {\"aaxis\": {\"gridcolor\": \"white\", \"linecolor\": \"white\", \"ticks\": \"\"}, \"baxis\": {\"gridcolor\": \"white\", \"linecolor\": \"white\", \"ticks\": \"\"}, \"bgcolor\": \"#E5ECF6\", \"caxis\": {\"gridcolor\": \"white\", \"linecolor\": \"white\", \"ticks\": \"\"}}, \"title\": {\"x\": 0.05}, \"xaxis\": {\"automargin\": true, \"gridcolor\": \"white\", \"linecolor\": \"white\", \"ticks\": \"\", \"title\": {\"standoff\": 15}, \"zerolinecolor\": \"white\", \"zerolinewidth\": 2}, \"yaxis\": {\"automargin\": true, \"gridcolor\": \"white\", \"linecolor\": \"white\", \"ticks\": \"\", \"title\": {\"standoff\": 15}, \"zerolinecolor\": \"white\", \"zerolinewidth\": 2}}}},\n",
       "                        {\"responsive\": true}\n",
       "                    ).then(function(){\n",
       "                            \n",
       "var gd = document.getElementById('1e53071f-bdb5-43c9-9341-0ab6b8a76277');\n",
       "var x = new MutationObserver(function (mutations, observer) {{\n",
       "        var display = window.getComputedStyle(gd).display;\n",
       "        if (!display || display === 'none') {{\n",
       "            console.log([gd, 'removed!']);\n",
       "            Plotly.purge(gd);\n",
       "            observer.disconnect();\n",
       "        }}\n",
       "}});\n",
       "\n",
       "// Listen for the removal of the full notebook cells\n",
       "var notebookContainer = gd.closest('#notebook-container');\n",
       "if (notebookContainer) {{\n",
       "    x.observe(notebookContainer, {childList: true});\n",
       "}}\n",
       "\n",
       "// Listen for the clearing of the current output cell\n",
       "var outputEl = gd.closest('.output');\n",
       "if (outputEl) {{\n",
       "    x.observe(outputEl, {childList: true});\n",
       "}}\n",
       "\n",
       "                        })\n",
       "                };\n",
       "                });\n",
       "            </script>\n",
       "        </div>"
      ]
     },
     "metadata": {},
     "output_type": "display_data"
    }
   ],
   "source": [
    "fig = go.Figure(data=[\n",
    "    go.Bar(name='Hospitalized', x=grade_A[\"state\"], y=df[\"hospitalized\"]),\n",
    "    go.Bar(name='Positive', x=grade_A[\"state\"], y=df[\"positive\"])\n",
    "])\n",
    "# Change the bar mode\n",
    "fig.update_layout(barmode='group')\n",
    "fig.show()"
   ]
  },
  {
   "cell_type": "markdown",
   "metadata": {},
   "source": [
    "Filtering out the data has definitely changed what can be represented. With 2/3 missing, but top quality data being shown, can say for sure that Wisconsin has their testing game up/just has a significant amount of people testing positive at this point. However, testing earlier and more means that there is earlier intervention. This comes in the form of isolating earlier since those who are positive are shedding and infecting others before becoming symptomatic. So with more isolation, there is prevention of spread/flatten the curve/not overwhelm hospitals."
   ]
  },
  {
   "cell_type": "markdown",
   "metadata": {},
   "source": [
    "Let's see per state, how many are hospitalized and how many deaths there are side by side."
   ]
  },
  {
   "cell_type": "code",
   "execution_count": 22,
   "metadata": {},
   "outputs": [
    {
     "data": {
      "application/vnd.plotly.v1+json": {
       "config": {
        "plotlyServerURL": "https://plot.ly"
       },
       "data": [
        {
         "name": "Hospitalized",
         "type": "bar",
         "x": [
          "AK",
          "AL",
          "AR",
          "AZ",
          "CA",
          "CO",
          "CT",
          "DC",
          "DE",
          "FL",
          "GA",
          "HI",
          "IA",
          "ID",
          "IL",
          "IN",
          "KS",
          "KY",
          "LA",
          "MA",
          "MD",
          "ME",
          "MI",
          "MN",
          "MO",
          "MS",
          "MT",
          "NC",
          "ND",
          "NE",
          "NH",
          "NJ",
          "NM",
          "NV",
          "NY",
          "OH",
          "OK",
          "OR",
          "PA",
          "RI",
          "SC",
          "SD",
          "TN",
          "TX",
          "UT",
          "VA",
          "VT",
          "WA",
          "WI",
          "WV",
          "WY",
          "PR",
          "AS",
          "GU",
          "MP",
          "VI"
         ],
         "y": [
          9,
          null,
          90,
          149,
          1855,
          620,
          766,
          null,
          57,
          1043,
          1013,
          15,
          99,
          49,
          null,
          null,
          114,
          null,
          1498,
          682,
          522,
          63,
          null,
          122,
          null,
          332,
          19,
          204,
          26,
          null,
          59,
          null,
          31,
          null,
          18368,
          679,
          219,
          167,
          620,
          60,
          349,
          12,
          200,
          196,
          91,
          305,
          45,
          254,
          398,
          1,
          20,
          null,
          null,
          19,
          null,
          null
         ]
        },
        {
         "name": "Deaths",
         "type": "bar",
         "x": [
          "AK",
          "AL",
          "AR",
          "AZ",
          "CA",
          "CO",
          "CT",
          "DC",
          "DE",
          "FL",
          "GA",
          "HI",
          "IA",
          "ID",
          "IL",
          "IN",
          "KS",
          "KY",
          "LA",
          "MA",
          "MD",
          "ME",
          "MI",
          "MN",
          "MO",
          "MS",
          "MT",
          "NC",
          "ND",
          "NE",
          "NH",
          "NJ",
          "NM",
          "NV",
          "NY",
          "OH",
          "OK",
          "OR",
          "PA",
          "RI",
          "SC",
          "SD",
          "TN",
          "TX",
          "UT",
          "VA",
          "VT",
          "WA",
          "WI",
          "WV",
          "WY",
          "PR",
          "AS",
          "GU",
          "MP",
          "VI"
         ],
         "y": [
          3,
          28,
          10,
          29,
          171,
          80,
          85,
          11,
          11,
          97,
          154,
          1,
          9,
          9,
          141,
          65,
          10,
          20,
          273,
          122,
          31,
          7,
          337,
          17,
          18,
          22,
          5,
          10,
          3,
          4,
          4,
          355,
          6,
          32,
          1941,
          65,
          30,
          19,
          74,
          10,
          26,
          2,
          24,
          58,
          7,
          34,
          16,
          247,
          24,
          2,
          0,
          11,
          0,
          3,
          1,
          null
         ]
        }
       ],
       "layout": {
        "barmode": "group",
        "template": {
         "data": {
          "bar": [
           {
            "error_x": {
             "color": "#2a3f5f"
            },
            "error_y": {
             "color": "#2a3f5f"
            },
            "marker": {
             "line": {
              "color": "#E5ECF6",
              "width": 0.5
             }
            },
            "type": "bar"
           }
          ],
          "barpolar": [
           {
            "marker": {
             "line": {
              "color": "#E5ECF6",
              "width": 0.5
             }
            },
            "type": "barpolar"
           }
          ],
          "carpet": [
           {
            "aaxis": {
             "endlinecolor": "#2a3f5f",
             "gridcolor": "white",
             "linecolor": "white",
             "minorgridcolor": "white",
             "startlinecolor": "#2a3f5f"
            },
            "baxis": {
             "endlinecolor": "#2a3f5f",
             "gridcolor": "white",
             "linecolor": "white",
             "minorgridcolor": "white",
             "startlinecolor": "#2a3f5f"
            },
            "type": "carpet"
           }
          ],
          "choropleth": [
           {
            "colorbar": {
             "outlinewidth": 0,
             "ticks": ""
            },
            "type": "choropleth"
           }
          ],
          "contour": [
           {
            "colorbar": {
             "outlinewidth": 0,
             "ticks": ""
            },
            "colorscale": [
             [
              0,
              "#0d0887"
             ],
             [
              0.1111111111111111,
              "#46039f"
             ],
             [
              0.2222222222222222,
              "#7201a8"
             ],
             [
              0.3333333333333333,
              "#9c179e"
             ],
             [
              0.4444444444444444,
              "#bd3786"
             ],
             [
              0.5555555555555556,
              "#d8576b"
             ],
             [
              0.6666666666666666,
              "#ed7953"
             ],
             [
              0.7777777777777778,
              "#fb9f3a"
             ],
             [
              0.8888888888888888,
              "#fdca26"
             ],
             [
              1,
              "#f0f921"
             ]
            ],
            "type": "contour"
           }
          ],
          "contourcarpet": [
           {
            "colorbar": {
             "outlinewidth": 0,
             "ticks": ""
            },
            "type": "contourcarpet"
           }
          ],
          "heatmap": [
           {
            "colorbar": {
             "outlinewidth": 0,
             "ticks": ""
            },
            "colorscale": [
             [
              0,
              "#0d0887"
             ],
             [
              0.1111111111111111,
              "#46039f"
             ],
             [
              0.2222222222222222,
              "#7201a8"
             ],
             [
              0.3333333333333333,
              "#9c179e"
             ],
             [
              0.4444444444444444,
              "#bd3786"
             ],
             [
              0.5555555555555556,
              "#d8576b"
             ],
             [
              0.6666666666666666,
              "#ed7953"
             ],
             [
              0.7777777777777778,
              "#fb9f3a"
             ],
             [
              0.8888888888888888,
              "#fdca26"
             ],
             [
              1,
              "#f0f921"
             ]
            ],
            "type": "heatmap"
           }
          ],
          "heatmapgl": [
           {
            "colorbar": {
             "outlinewidth": 0,
             "ticks": ""
            },
            "colorscale": [
             [
              0,
              "#0d0887"
             ],
             [
              0.1111111111111111,
              "#46039f"
             ],
             [
              0.2222222222222222,
              "#7201a8"
             ],
             [
              0.3333333333333333,
              "#9c179e"
             ],
             [
              0.4444444444444444,
              "#bd3786"
             ],
             [
              0.5555555555555556,
              "#d8576b"
             ],
             [
              0.6666666666666666,
              "#ed7953"
             ],
             [
              0.7777777777777778,
              "#fb9f3a"
             ],
             [
              0.8888888888888888,
              "#fdca26"
             ],
             [
              1,
              "#f0f921"
             ]
            ],
            "type": "heatmapgl"
           }
          ],
          "histogram": [
           {
            "marker": {
             "colorbar": {
              "outlinewidth": 0,
              "ticks": ""
             }
            },
            "type": "histogram"
           }
          ],
          "histogram2d": [
           {
            "colorbar": {
             "outlinewidth": 0,
             "ticks": ""
            },
            "colorscale": [
             [
              0,
              "#0d0887"
             ],
             [
              0.1111111111111111,
              "#46039f"
             ],
             [
              0.2222222222222222,
              "#7201a8"
             ],
             [
              0.3333333333333333,
              "#9c179e"
             ],
             [
              0.4444444444444444,
              "#bd3786"
             ],
             [
              0.5555555555555556,
              "#d8576b"
             ],
             [
              0.6666666666666666,
              "#ed7953"
             ],
             [
              0.7777777777777778,
              "#fb9f3a"
             ],
             [
              0.8888888888888888,
              "#fdca26"
             ],
             [
              1,
              "#f0f921"
             ]
            ],
            "type": "histogram2d"
           }
          ],
          "histogram2dcontour": [
           {
            "colorbar": {
             "outlinewidth": 0,
             "ticks": ""
            },
            "colorscale": [
             [
              0,
              "#0d0887"
             ],
             [
              0.1111111111111111,
              "#46039f"
             ],
             [
              0.2222222222222222,
              "#7201a8"
             ],
             [
              0.3333333333333333,
              "#9c179e"
             ],
             [
              0.4444444444444444,
              "#bd3786"
             ],
             [
              0.5555555555555556,
              "#d8576b"
             ],
             [
              0.6666666666666666,
              "#ed7953"
             ],
             [
              0.7777777777777778,
              "#fb9f3a"
             ],
             [
              0.8888888888888888,
              "#fdca26"
             ],
             [
              1,
              "#f0f921"
             ]
            ],
            "type": "histogram2dcontour"
           }
          ],
          "mesh3d": [
           {
            "colorbar": {
             "outlinewidth": 0,
             "ticks": ""
            },
            "type": "mesh3d"
           }
          ],
          "parcoords": [
           {
            "line": {
             "colorbar": {
              "outlinewidth": 0,
              "ticks": ""
             }
            },
            "type": "parcoords"
           }
          ],
          "pie": [
           {
            "automargin": true,
            "type": "pie"
           }
          ],
          "scatter": [
           {
            "marker": {
             "colorbar": {
              "outlinewidth": 0,
              "ticks": ""
             }
            },
            "type": "scatter"
           }
          ],
          "scatter3d": [
           {
            "line": {
             "colorbar": {
              "outlinewidth": 0,
              "ticks": ""
             }
            },
            "marker": {
             "colorbar": {
              "outlinewidth": 0,
              "ticks": ""
             }
            },
            "type": "scatter3d"
           }
          ],
          "scattercarpet": [
           {
            "marker": {
             "colorbar": {
              "outlinewidth": 0,
              "ticks": ""
             }
            },
            "type": "scattercarpet"
           }
          ],
          "scattergeo": [
           {
            "marker": {
             "colorbar": {
              "outlinewidth": 0,
              "ticks": ""
             }
            },
            "type": "scattergeo"
           }
          ],
          "scattergl": [
           {
            "marker": {
             "colorbar": {
              "outlinewidth": 0,
              "ticks": ""
             }
            },
            "type": "scattergl"
           }
          ],
          "scattermapbox": [
           {
            "marker": {
             "colorbar": {
              "outlinewidth": 0,
              "ticks": ""
             }
            },
            "type": "scattermapbox"
           }
          ],
          "scatterpolar": [
           {
            "marker": {
             "colorbar": {
              "outlinewidth": 0,
              "ticks": ""
             }
            },
            "type": "scatterpolar"
           }
          ],
          "scatterpolargl": [
           {
            "marker": {
             "colorbar": {
              "outlinewidth": 0,
              "ticks": ""
             }
            },
            "type": "scatterpolargl"
           }
          ],
          "scatterternary": [
           {
            "marker": {
             "colorbar": {
              "outlinewidth": 0,
              "ticks": ""
             }
            },
            "type": "scatterternary"
           }
          ],
          "surface": [
           {
            "colorbar": {
             "outlinewidth": 0,
             "ticks": ""
            },
            "colorscale": [
             [
              0,
              "#0d0887"
             ],
             [
              0.1111111111111111,
              "#46039f"
             ],
             [
              0.2222222222222222,
              "#7201a8"
             ],
             [
              0.3333333333333333,
              "#9c179e"
             ],
             [
              0.4444444444444444,
              "#bd3786"
             ],
             [
              0.5555555555555556,
              "#d8576b"
             ],
             [
              0.6666666666666666,
              "#ed7953"
             ],
             [
              0.7777777777777778,
              "#fb9f3a"
             ],
             [
              0.8888888888888888,
              "#fdca26"
             ],
             [
              1,
              "#f0f921"
             ]
            ],
            "type": "surface"
           }
          ],
          "table": [
           {
            "cells": {
             "fill": {
              "color": "#EBF0F8"
             },
             "line": {
              "color": "white"
             }
            },
            "header": {
             "fill": {
              "color": "#C8D4E3"
             },
             "line": {
              "color": "white"
             }
            },
            "type": "table"
           }
          ]
         },
         "layout": {
          "annotationdefaults": {
           "arrowcolor": "#2a3f5f",
           "arrowhead": 0,
           "arrowwidth": 1
          },
          "coloraxis": {
           "colorbar": {
            "outlinewidth": 0,
            "ticks": ""
           }
          },
          "colorscale": {
           "diverging": [
            [
             0,
             "#8e0152"
            ],
            [
             0.1,
             "#c51b7d"
            ],
            [
             0.2,
             "#de77ae"
            ],
            [
             0.3,
             "#f1b6da"
            ],
            [
             0.4,
             "#fde0ef"
            ],
            [
             0.5,
             "#f7f7f7"
            ],
            [
             0.6,
             "#e6f5d0"
            ],
            [
             0.7,
             "#b8e186"
            ],
            [
             0.8,
             "#7fbc41"
            ],
            [
             0.9,
             "#4d9221"
            ],
            [
             1,
             "#276419"
            ]
           ],
           "sequential": [
            [
             0,
             "#0d0887"
            ],
            [
             0.1111111111111111,
             "#46039f"
            ],
            [
             0.2222222222222222,
             "#7201a8"
            ],
            [
             0.3333333333333333,
             "#9c179e"
            ],
            [
             0.4444444444444444,
             "#bd3786"
            ],
            [
             0.5555555555555556,
             "#d8576b"
            ],
            [
             0.6666666666666666,
             "#ed7953"
            ],
            [
             0.7777777777777778,
             "#fb9f3a"
            ],
            [
             0.8888888888888888,
             "#fdca26"
            ],
            [
             1,
             "#f0f921"
            ]
           ],
           "sequentialminus": [
            [
             0,
             "#0d0887"
            ],
            [
             0.1111111111111111,
             "#46039f"
            ],
            [
             0.2222222222222222,
             "#7201a8"
            ],
            [
             0.3333333333333333,
             "#9c179e"
            ],
            [
             0.4444444444444444,
             "#bd3786"
            ],
            [
             0.5555555555555556,
             "#d8576b"
            ],
            [
             0.6666666666666666,
             "#ed7953"
            ],
            [
             0.7777777777777778,
             "#fb9f3a"
            ],
            [
             0.8888888888888888,
             "#fdca26"
            ],
            [
             1,
             "#f0f921"
            ]
           ]
          },
          "colorway": [
           "#636efa",
           "#EF553B",
           "#00cc96",
           "#ab63fa",
           "#FFA15A",
           "#19d3f3",
           "#FF6692",
           "#B6E880",
           "#FF97FF",
           "#FECB52"
          ],
          "font": {
           "color": "#2a3f5f"
          },
          "geo": {
           "bgcolor": "white",
           "lakecolor": "white",
           "landcolor": "#E5ECF6",
           "showlakes": true,
           "showland": true,
           "subunitcolor": "white"
          },
          "hoverlabel": {
           "align": "left"
          },
          "hovermode": "closest",
          "mapbox": {
           "style": "light"
          },
          "paper_bgcolor": "white",
          "plot_bgcolor": "#E5ECF6",
          "polar": {
           "angularaxis": {
            "gridcolor": "white",
            "linecolor": "white",
            "ticks": ""
           },
           "bgcolor": "#E5ECF6",
           "radialaxis": {
            "gridcolor": "white",
            "linecolor": "white",
            "ticks": ""
           }
          },
          "scene": {
           "xaxis": {
            "backgroundcolor": "#E5ECF6",
            "gridcolor": "white",
            "gridwidth": 2,
            "linecolor": "white",
            "showbackground": true,
            "ticks": "",
            "zerolinecolor": "white"
           },
           "yaxis": {
            "backgroundcolor": "#E5ECF6",
            "gridcolor": "white",
            "gridwidth": 2,
            "linecolor": "white",
            "showbackground": true,
            "ticks": "",
            "zerolinecolor": "white"
           },
           "zaxis": {
            "backgroundcolor": "#E5ECF6",
            "gridcolor": "white",
            "gridwidth": 2,
            "linecolor": "white",
            "showbackground": true,
            "ticks": "",
            "zerolinecolor": "white"
           }
          },
          "shapedefaults": {
           "line": {
            "color": "#2a3f5f"
           }
          },
          "ternary": {
           "aaxis": {
            "gridcolor": "white",
            "linecolor": "white",
            "ticks": ""
           },
           "baxis": {
            "gridcolor": "white",
            "linecolor": "white",
            "ticks": ""
           },
           "bgcolor": "#E5ECF6",
           "caxis": {
            "gridcolor": "white",
            "linecolor": "white",
            "ticks": ""
           }
          },
          "title": {
           "x": 0.05
          },
          "xaxis": {
           "automargin": true,
           "gridcolor": "white",
           "linecolor": "white",
           "ticks": "",
           "title": {
            "standoff": 15
           },
           "zerolinecolor": "white",
           "zerolinewidth": 2
          },
          "yaxis": {
           "automargin": true,
           "gridcolor": "white",
           "linecolor": "white",
           "ticks": "",
           "title": {
            "standoff": 15
           },
           "zerolinecolor": "white",
           "zerolinewidth": 2
          }
         }
        }
       }
      },
      "text/html": [
       "<div>\n",
       "        \n",
       "        \n",
       "            <div id=\"5ef52c87-d2a3-4c03-817b-7d30e7934410\" class=\"plotly-graph-div\" style=\"height:525px; width:100%;\"></div>\n",
       "            <script type=\"text/javascript\">\n",
       "                require([\"plotly\"], function(Plotly) {\n",
       "                    window.PLOTLYENV=window.PLOTLYENV || {};\n",
       "                    \n",
       "                if (document.getElementById(\"5ef52c87-d2a3-4c03-817b-7d30e7934410\")) {\n",
       "                    Plotly.newPlot(\n",
       "                        '5ef52c87-d2a3-4c03-817b-7d30e7934410',\n",
       "                        [{\"name\": \"Hospitalized\", \"type\": \"bar\", \"x\": [\"AK\", \"AL\", \"AR\", \"AZ\", \"CA\", \"CO\", \"CT\", \"DC\", \"DE\", \"FL\", \"GA\", \"HI\", \"IA\", \"ID\", \"IL\", \"IN\", \"KS\", \"KY\", \"LA\", \"MA\", \"MD\", \"ME\", \"MI\", \"MN\", \"MO\", \"MS\", \"MT\", \"NC\", \"ND\", \"NE\", \"NH\", \"NJ\", \"NM\", \"NV\", \"NY\", \"OH\", \"OK\", \"OR\", \"PA\", \"RI\", \"SC\", \"SD\", \"TN\", \"TX\", \"UT\", \"VA\", \"VT\", \"WA\", \"WI\", \"WV\", \"WY\", \"PR\", \"AS\", \"GU\", \"MP\", \"VI\"], \"y\": [9.0, null, 90.0, 149.0, 1855.0, 620.0, 766.0, null, 57.0, 1043.0, 1013.0, 15.0, 99.0, 49.0, null, null, 114.0, null, 1498.0, 682.0, 522.0, 63.0, null, 122.0, null, 332.0, 19.0, 204.0, 26.0, null, 59.0, null, 31.0, null, 18368.0, 679.0, 219.0, 167.0, 620.0, 60.0, 349.0, 12.0, 200.0, 196.0, 91.0, 305.0, 45.0, 254.0, 398.0, 1.0, 20.0, null, null, 19.0, null, null]}, {\"name\": \"Deaths\", \"type\": \"bar\", \"x\": [\"AK\", \"AL\", \"AR\", \"AZ\", \"CA\", \"CO\", \"CT\", \"DC\", \"DE\", \"FL\", \"GA\", \"HI\", \"IA\", \"ID\", \"IL\", \"IN\", \"KS\", \"KY\", \"LA\", \"MA\", \"MD\", \"ME\", \"MI\", \"MN\", \"MO\", \"MS\", \"MT\", \"NC\", \"ND\", \"NE\", \"NH\", \"NJ\", \"NM\", \"NV\", \"NY\", \"OH\", \"OK\", \"OR\", \"PA\", \"RI\", \"SC\", \"SD\", \"TN\", \"TX\", \"UT\", \"VA\", \"VT\", \"WA\", \"WI\", \"WV\", \"WY\", \"PR\", \"AS\", \"GU\", \"MP\", \"VI\"], \"y\": [3.0, 28.0, 10.0, 29.0, 171.0, 80.0, 85.0, 11.0, 11.0, 97.0, 154.0, 1.0, 9.0, 9.0, 141.0, 65.0, 10.0, 20.0, 273.0, 122.0, 31.0, 7.0, 337.0, 17.0, 18.0, 22.0, 5.0, 10.0, 3.0, 4.0, 4.0, 355.0, 6.0, 32.0, 1941.0, 65.0, 30.0, 19.0, 74.0, 10.0, 26.0, 2.0, 24.0, 58.0, 7.0, 34.0, 16.0, 247.0, 24.0, 2.0, 0.0, 11.0, 0.0, 3.0, 1.0, null]}],\n",
       "                        {\"barmode\": \"group\", \"template\": {\"data\": {\"bar\": [{\"error_x\": {\"color\": \"#2a3f5f\"}, \"error_y\": {\"color\": \"#2a3f5f\"}, \"marker\": {\"line\": {\"color\": \"#E5ECF6\", \"width\": 0.5}}, \"type\": \"bar\"}], \"barpolar\": [{\"marker\": {\"line\": {\"color\": \"#E5ECF6\", \"width\": 0.5}}, \"type\": \"barpolar\"}], \"carpet\": [{\"aaxis\": {\"endlinecolor\": \"#2a3f5f\", \"gridcolor\": \"white\", \"linecolor\": \"white\", \"minorgridcolor\": \"white\", \"startlinecolor\": \"#2a3f5f\"}, \"baxis\": {\"endlinecolor\": \"#2a3f5f\", \"gridcolor\": \"white\", \"linecolor\": \"white\", \"minorgridcolor\": \"white\", \"startlinecolor\": \"#2a3f5f\"}, \"type\": \"carpet\"}], \"choropleth\": [{\"colorbar\": {\"outlinewidth\": 0, \"ticks\": \"\"}, \"type\": \"choropleth\"}], \"contour\": [{\"colorbar\": {\"outlinewidth\": 0, \"ticks\": \"\"}, \"colorscale\": [[0.0, \"#0d0887\"], [0.1111111111111111, \"#46039f\"], [0.2222222222222222, \"#7201a8\"], [0.3333333333333333, \"#9c179e\"], [0.4444444444444444, \"#bd3786\"], [0.5555555555555556, \"#d8576b\"], [0.6666666666666666, \"#ed7953\"], [0.7777777777777778, \"#fb9f3a\"], [0.8888888888888888, \"#fdca26\"], [1.0, \"#f0f921\"]], \"type\": \"contour\"}], \"contourcarpet\": [{\"colorbar\": {\"outlinewidth\": 0, \"ticks\": \"\"}, \"type\": \"contourcarpet\"}], \"heatmap\": [{\"colorbar\": {\"outlinewidth\": 0, \"ticks\": \"\"}, \"colorscale\": [[0.0, \"#0d0887\"], [0.1111111111111111, \"#46039f\"], [0.2222222222222222, \"#7201a8\"], [0.3333333333333333, \"#9c179e\"], [0.4444444444444444, \"#bd3786\"], [0.5555555555555556, \"#d8576b\"], [0.6666666666666666, \"#ed7953\"], [0.7777777777777778, \"#fb9f3a\"], [0.8888888888888888, \"#fdca26\"], [1.0, \"#f0f921\"]], \"type\": \"heatmap\"}], \"heatmapgl\": [{\"colorbar\": {\"outlinewidth\": 0, \"ticks\": \"\"}, \"colorscale\": [[0.0, \"#0d0887\"], [0.1111111111111111, \"#46039f\"], [0.2222222222222222, \"#7201a8\"], [0.3333333333333333, \"#9c179e\"], [0.4444444444444444, \"#bd3786\"], [0.5555555555555556, \"#d8576b\"], [0.6666666666666666, \"#ed7953\"], [0.7777777777777778, \"#fb9f3a\"], [0.8888888888888888, \"#fdca26\"], [1.0, \"#f0f921\"]], \"type\": \"heatmapgl\"}], \"histogram\": [{\"marker\": {\"colorbar\": {\"outlinewidth\": 0, \"ticks\": \"\"}}, \"type\": \"histogram\"}], \"histogram2d\": [{\"colorbar\": {\"outlinewidth\": 0, \"ticks\": \"\"}, \"colorscale\": [[0.0, \"#0d0887\"], [0.1111111111111111, \"#46039f\"], [0.2222222222222222, \"#7201a8\"], [0.3333333333333333, \"#9c179e\"], [0.4444444444444444, \"#bd3786\"], [0.5555555555555556, \"#d8576b\"], [0.6666666666666666, \"#ed7953\"], [0.7777777777777778, \"#fb9f3a\"], [0.8888888888888888, \"#fdca26\"], [1.0, \"#f0f921\"]], \"type\": \"histogram2d\"}], \"histogram2dcontour\": [{\"colorbar\": {\"outlinewidth\": 0, \"ticks\": \"\"}, \"colorscale\": [[0.0, \"#0d0887\"], [0.1111111111111111, \"#46039f\"], [0.2222222222222222, \"#7201a8\"], [0.3333333333333333, \"#9c179e\"], [0.4444444444444444, \"#bd3786\"], [0.5555555555555556, \"#d8576b\"], [0.6666666666666666, \"#ed7953\"], [0.7777777777777778, \"#fb9f3a\"], [0.8888888888888888, \"#fdca26\"], [1.0, \"#f0f921\"]], \"type\": \"histogram2dcontour\"}], \"mesh3d\": [{\"colorbar\": {\"outlinewidth\": 0, \"ticks\": \"\"}, \"type\": \"mesh3d\"}], \"parcoords\": [{\"line\": {\"colorbar\": {\"outlinewidth\": 0, \"ticks\": \"\"}}, \"type\": \"parcoords\"}], \"pie\": [{\"automargin\": true, \"type\": \"pie\"}], \"scatter\": [{\"marker\": {\"colorbar\": {\"outlinewidth\": 0, \"ticks\": \"\"}}, \"type\": \"scatter\"}], \"scatter3d\": [{\"line\": {\"colorbar\": {\"outlinewidth\": 0, \"ticks\": \"\"}}, \"marker\": {\"colorbar\": {\"outlinewidth\": 0, \"ticks\": \"\"}}, \"type\": \"scatter3d\"}], \"scattercarpet\": [{\"marker\": {\"colorbar\": {\"outlinewidth\": 0, \"ticks\": \"\"}}, \"type\": \"scattercarpet\"}], \"scattergeo\": [{\"marker\": {\"colorbar\": {\"outlinewidth\": 0, \"ticks\": \"\"}}, \"type\": \"scattergeo\"}], \"scattergl\": [{\"marker\": {\"colorbar\": {\"outlinewidth\": 0, \"ticks\": \"\"}}, \"type\": \"scattergl\"}], \"scattermapbox\": [{\"marker\": {\"colorbar\": {\"outlinewidth\": 0, \"ticks\": \"\"}}, \"type\": \"scattermapbox\"}], \"scatterpolar\": [{\"marker\": {\"colorbar\": {\"outlinewidth\": 0, \"ticks\": \"\"}}, \"type\": \"scatterpolar\"}], \"scatterpolargl\": [{\"marker\": {\"colorbar\": {\"outlinewidth\": 0, \"ticks\": \"\"}}, \"type\": \"scatterpolargl\"}], \"scatterternary\": [{\"marker\": {\"colorbar\": {\"outlinewidth\": 0, \"ticks\": \"\"}}, \"type\": \"scatterternary\"}], \"surface\": [{\"colorbar\": {\"outlinewidth\": 0, \"ticks\": \"\"}, \"colorscale\": [[0.0, \"#0d0887\"], [0.1111111111111111, \"#46039f\"], [0.2222222222222222, \"#7201a8\"], [0.3333333333333333, \"#9c179e\"], [0.4444444444444444, \"#bd3786\"], [0.5555555555555556, \"#d8576b\"], [0.6666666666666666, \"#ed7953\"], [0.7777777777777778, \"#fb9f3a\"], [0.8888888888888888, \"#fdca26\"], [1.0, \"#f0f921\"]], \"type\": \"surface\"}], \"table\": [{\"cells\": {\"fill\": {\"color\": \"#EBF0F8\"}, \"line\": {\"color\": \"white\"}}, \"header\": {\"fill\": {\"color\": \"#C8D4E3\"}, \"line\": {\"color\": \"white\"}}, \"type\": \"table\"}]}, \"layout\": {\"annotationdefaults\": {\"arrowcolor\": \"#2a3f5f\", \"arrowhead\": 0, \"arrowwidth\": 1}, \"coloraxis\": {\"colorbar\": {\"outlinewidth\": 0, \"ticks\": \"\"}}, \"colorscale\": {\"diverging\": [[0, \"#8e0152\"], [0.1, \"#c51b7d\"], [0.2, \"#de77ae\"], [0.3, \"#f1b6da\"], [0.4, \"#fde0ef\"], [0.5, \"#f7f7f7\"], [0.6, \"#e6f5d0\"], [0.7, \"#b8e186\"], [0.8, \"#7fbc41\"], [0.9, \"#4d9221\"], [1, \"#276419\"]], \"sequential\": [[0.0, \"#0d0887\"], [0.1111111111111111, \"#46039f\"], [0.2222222222222222, \"#7201a8\"], [0.3333333333333333, \"#9c179e\"], [0.4444444444444444, \"#bd3786\"], [0.5555555555555556, \"#d8576b\"], [0.6666666666666666, \"#ed7953\"], [0.7777777777777778, \"#fb9f3a\"], [0.8888888888888888, \"#fdca26\"], [1.0, \"#f0f921\"]], \"sequentialminus\": [[0.0, \"#0d0887\"], [0.1111111111111111, \"#46039f\"], [0.2222222222222222, \"#7201a8\"], [0.3333333333333333, \"#9c179e\"], [0.4444444444444444, \"#bd3786\"], [0.5555555555555556, \"#d8576b\"], [0.6666666666666666, \"#ed7953\"], [0.7777777777777778, \"#fb9f3a\"], [0.8888888888888888, \"#fdca26\"], [1.0, \"#f0f921\"]]}, \"colorway\": [\"#636efa\", \"#EF553B\", \"#00cc96\", \"#ab63fa\", \"#FFA15A\", \"#19d3f3\", \"#FF6692\", \"#B6E880\", \"#FF97FF\", \"#FECB52\"], \"font\": {\"color\": \"#2a3f5f\"}, \"geo\": {\"bgcolor\": \"white\", \"lakecolor\": \"white\", \"landcolor\": \"#E5ECF6\", \"showlakes\": true, \"showland\": true, \"subunitcolor\": \"white\"}, \"hoverlabel\": {\"align\": \"left\"}, \"hovermode\": \"closest\", \"mapbox\": {\"style\": \"light\"}, \"paper_bgcolor\": \"white\", \"plot_bgcolor\": \"#E5ECF6\", \"polar\": {\"angularaxis\": {\"gridcolor\": \"white\", \"linecolor\": \"white\", \"ticks\": \"\"}, \"bgcolor\": \"#E5ECF6\", \"radialaxis\": {\"gridcolor\": \"white\", \"linecolor\": \"white\", \"ticks\": \"\"}}, \"scene\": {\"xaxis\": {\"backgroundcolor\": \"#E5ECF6\", \"gridcolor\": \"white\", \"gridwidth\": 2, \"linecolor\": \"white\", \"showbackground\": true, \"ticks\": \"\", \"zerolinecolor\": \"white\"}, \"yaxis\": {\"backgroundcolor\": \"#E5ECF6\", \"gridcolor\": \"white\", \"gridwidth\": 2, \"linecolor\": \"white\", \"showbackground\": true, \"ticks\": \"\", \"zerolinecolor\": \"white\"}, \"zaxis\": {\"backgroundcolor\": \"#E5ECF6\", \"gridcolor\": \"white\", \"gridwidth\": 2, \"linecolor\": \"white\", \"showbackground\": true, \"ticks\": \"\", \"zerolinecolor\": \"white\"}}, \"shapedefaults\": {\"line\": {\"color\": \"#2a3f5f\"}}, \"ternary\": {\"aaxis\": {\"gridcolor\": \"white\", \"linecolor\": \"white\", \"ticks\": \"\"}, \"baxis\": {\"gridcolor\": \"white\", \"linecolor\": \"white\", \"ticks\": \"\"}, \"bgcolor\": \"#E5ECF6\", \"caxis\": {\"gridcolor\": \"white\", \"linecolor\": \"white\", \"ticks\": \"\"}}, \"title\": {\"x\": 0.05}, \"xaxis\": {\"automargin\": true, \"gridcolor\": \"white\", \"linecolor\": \"white\", \"ticks\": \"\", \"title\": {\"standoff\": 15}, \"zerolinecolor\": \"white\", \"zerolinewidth\": 2}, \"yaxis\": {\"automargin\": true, \"gridcolor\": \"white\", \"linecolor\": \"white\", \"ticks\": \"\", \"title\": {\"standoff\": 15}, \"zerolinecolor\": \"white\", \"zerolinewidth\": 2}}}},\n",
       "                        {\"responsive\": true}\n",
       "                    ).then(function(){\n",
       "                            \n",
       "var gd = document.getElementById('5ef52c87-d2a3-4c03-817b-7d30e7934410');\n",
       "var x = new MutationObserver(function (mutations, observer) {{\n",
       "        var display = window.getComputedStyle(gd).display;\n",
       "        if (!display || display === 'none') {{\n",
       "            console.log([gd, 'removed!']);\n",
       "            Plotly.purge(gd);\n",
       "            observer.disconnect();\n",
       "        }}\n",
       "}});\n",
       "\n",
       "// Listen for the removal of the full notebook cells\n",
       "var notebookContainer = gd.closest('#notebook-container');\n",
       "if (notebookContainer) {{\n",
       "    x.observe(notebookContainer, {childList: true});\n",
       "}}\n",
       "\n",
       "// Listen for the clearing of the current output cell\n",
       "var outputEl = gd.closest('.output');\n",
       "if (outputEl) {{\n",
       "    x.observe(outputEl, {childList: true});\n",
       "}}\n",
       "\n",
       "                        })\n",
       "                };\n",
       "                });\n",
       "            </script>\n",
       "        </div>"
      ]
     },
     "metadata": {},
     "output_type": "display_data"
    }
   ],
   "source": [
    "fig = go.Figure(data=[\n",
    "    go.Bar(name='Hospitalized', x=df[\"state\"], y=df[\"hospitalized\"]),\n",
    "    go.Bar(name='Deaths', x=df[\"state\"], y=df[\"death\"])\n",
    "])\n",
    "# Change the bar mode\n",
    "fig.update_layout(barmode='group')\n",
    "fig.show()"
   ]
  },
  {
   "cell_type": "markdown",
   "metadata": {},
   "source": [
    "From the following video, you can hear a respiratory ER doctor from Cornell, who is looking at 20% of all Covid cases in NYC, that those who are hospitalized/put on ventilators are those who have shortness of breath."
   ]
  },
  {
   "cell_type": "markdown",
   "metadata": {},
   "source": [
    "# Hope..."
   ]
  },
  {
   "cell_type": "code",
   "execution_count": 34,
   "metadata": {},
   "outputs": [
    {
     "data": {
      "image/jpeg": "[encoded data removed]",
      "text/html": [
       "\n",
       "        <iframe\n",
       "            width=\"800\"\n",
       "            height=\"300\"\n",
       "            src=\"https://www.youtube.com/embed/f_-16m8jwI8\"\n",
       "            frameborder=\"0\"\n",
       "            allowfullscreen\n",
       "        ></iframe>\n",
       "        "
      ],
      "text/plain": [
       "<IPython.lib.display.YouTubeVideo at 0x1d6230c3cf8>"
      ]
     },
     "execution_count": 34,
     "metadata": {},
     "output_type": "execute_result"
    }
   ],
   "source": [
    "from IPython.display import YouTubeVideo\n",
    "\n",
    "YouTubeVideo('f_-16m8jwI8', width=800, height=300)"
   ]
  },
  {
   "cell_type": "markdown",
   "metadata": {},
   "source": [
    "# Be safe, everyone!!"
   ]
  }
 ],
 "metadata": {
  "kernelspec": {
   "display_name": "Python 3",
   "language": "python",
   "name": "python3"
  },
  "language_info": {
   "codemirror_mode": {
    "name": "ipython",
    "version": 3
   },
   "file_extension": ".py",
   "mimetype": "text/x-python",
   "name": "python",
   "nbconvert_exporter": "python",
   "pygments_lexer": "ipython3",
   "version": "3.7.3"
  }
 },
 "nbformat": 4,
 "nbformat_minor": 2
}
